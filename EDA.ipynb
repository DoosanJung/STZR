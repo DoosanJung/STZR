{
 "cells": [
  {
   "cell_type": "markdown",
   "metadata": {},
   "source": [
    "### Import modules and DataFrame"
   ]
  },
  {
   "cell_type": "code",
   "execution_count": null,
   "metadata": {
    "collapsed": true
   },
   "outputs": [],
   "source": [
    "import pandas as pd\n",
    "import numpy\n",
    "import pickle\n",
    "import matplotlib.pyplot as plt\n",
    "%matplotlib inline"
   ]
  },
  {
   "cell_type": "code",
   "execution_count": null,
   "metadata": {
    "collapsed": false,
    "scrolled": true
   },
   "outputs": [],
   "source": [
    "dfs = pickle.load(open('dfs_churn_marked.p'))"
   ]
  },
  {
   "cell_type": "code",
   "execution_count": null,
   "metadata": {
    "collapsed": false
   },
   "outputs": [],
   "source": [
    "dfs.info()"
   ]
  },
  {
   "cell_type": "markdown",
   "metadata": {},
   "source": [
    "### Categorical variables"
   ]
  },
  {
   "cell_type": "code",
   "execution_count": null,
   "metadata": {
    "collapsed": false
   },
   "outputs": [],
   "source": [
    "unique_abtm = dfs['abtm'].unique() # A/B test mark\n",
    "print len(unique_abtm)\n",
    "print unique_abtm"
   ]
  },
  {
   "cell_type": "markdown",
   "metadata": {},
   "source": [
    "##### => Drop abtm"
   ]
  },
  {
   "cell_type": "code",
   "execution_count": null,
   "metadata": {
    "collapsed": false,
    "scrolled": true
   },
   "outputs": [],
   "source": [
    "unique_br = dfs['br'].unique() # The bitrate of the media (kbps)\n",
    "print len(unique_br)\n",
    "print unique_br"
   ]
  },
  {
   "cell_type": "code",
   "execution_count": null,
   "metadata": {
    "collapsed": false
   },
   "outputs": [],
   "source": [
    "unique_brn = dfs['brn'].unique() # Browser name\n",
    "print len(unique_brn)\n",
    "print unique_brn"
   ]
  },
  {
   "cell_type": "code",
   "execution_count": null,
   "metadata": {
    "collapsed": false
   },
   "outputs": [],
   "source": [
    "unique_brv = dfs['brv'].unique() # Browser version\n",
    "print len(unique_brv)\n",
    "print unique_brv"
   ]
  },
  {
   "cell_type": "code",
   "execution_count": null,
   "metadata": {
    "collapsed": false
   },
   "outputs": [],
   "source": [
    "unique_chn = dfs['chn'].unique() # Live channel name\n",
    "print len(unique_chn)\n",
    "print unique_chn"
   ]
  },
  {
   "cell_type": "code",
   "execution_count": null,
   "metadata": {
    "collapsed": false
   },
   "outputs": [],
   "source": [
    "unique_co = dfs['co'].unique() # Contry name\n",
    "print len(unique_co)\n",
    "print unique_co"
   ]
  },
  {
   "cell_type": "code",
   "execution_count": null,
   "metadata": {
    "collapsed": false
   },
   "outputs": [],
   "source": [
    "unique_coiso = dfs['coiso'].unique() # Country ISO Code\n",
    "print len(unique_coiso)\n",
    "print unique_coiso"
   ]
  },
  {
   "cell_type": "markdown",
   "metadata": {},
   "source": [
    "##### => Drop coiso "
   ]
  },
  {
   "cell_type": "code",
   "execution_count": null,
   "metadata": {
    "collapsed": false
   },
   "outputs": [],
   "source": [
    "unique_ct = dfs['ct'].unique() # City name\n",
    "print len(unique_ct)\n",
    "print unique_ct"
   ]
  },
  {
   "cell_type": "code",
   "execution_count": null,
   "metadata": {
    "collapsed": false
   },
   "outputs": [],
   "source": [
    "unique_devm = dfs['devm'].unique() # device model name\n",
    "print len(unique_devm)\n",
    "print unique_devm"
   ]
  },
  {
   "cell_type": "code",
   "execution_count": null,
   "metadata": {
    "collapsed": false
   },
   "outputs": [],
   "source": [
    "unique_devv = dfs['devv'].unique() # device vendor\n",
    "print len(unique_devv)\n",
    "print unique_devv"
   ]
  },
  {
   "cell_type": "code",
   "execution_count": null,
   "metadata": {
    "collapsed": false,
    "scrolled": true
   },
   "outputs": [],
   "source": [
    "unique_eps = dfs['eps'].unique() # Episode name\n",
    "print len(unique_eps)\n",
    "print unique_eps"
   ]
  },
  {
   "cell_type": "code",
   "execution_count": null,
   "metadata": {
    "collapsed": false
   },
   "outputs": [],
   "source": [
    "unique_errmsg = dfs['errmsg'].unique() # Error message string\n",
    "print len(unique_errmsg)\n",
    "print unique_errmsg"
   ]
  },
  {
   "cell_type": "code",
   "execution_count": null,
   "metadata": {
    "collapsed": false
   },
   "outputs": [],
   "source": [
    "unique_gen = dfs['gen'].unique() # Gender\n",
    "print len(unique_gen)\n",
    "print unique_gen"
   ]
  },
  {
   "cell_type": "markdown",
   "metadata": {},
   "source": [
    "##### => Drop gen"
   ]
  },
  {
   "cell_type": "code",
   "execution_count": null,
   "metadata": {
    "collapsed": false
   },
   "outputs": [],
   "source": [
    "unique_img = dfs['img'].unique() # Movie Thumbnail Image URL\n",
    "print len(unique_img)\n",
    "print unique_img"
   ]
  },
  {
   "cell_type": "code",
   "execution_count": null,
   "metadata": {
    "collapsed": false
   },
   "outputs": [],
   "source": [
    "unique_isp = dfs['isp'].unique() # ISP name\n",
    "print len(unique_isp)\n",
    "print unique_isp"
   ]
  },
  {
   "cell_type": "code",
   "execution_count": null,
   "metadata": {
    "collapsed": false
   },
   "outputs": [],
   "source": [
    "unique_lang = dfs['lang'].unique() # Language\n",
    "print len(unique_lang)\n",
    "print unique_lang"
   ]
  },
  {
   "cell_type": "code",
   "execution_count": null,
   "metadata": {
    "collapsed": false
   },
   "outputs": [],
   "source": [
    "unique_live = dfs['live'].unique() # live stream ('t') or not ('f')\n",
    "print len(unique_live)\n",
    "print unique_live"
   ]
  },
  {
   "cell_type": "code",
   "execution_count": null,
   "metadata": {
    "collapsed": false
   },
   "outputs": [],
   "source": [
    "unique_mplyevnt = dfs['mplyevnt'].unique() # Player event type\n",
    "print len(unique_mplyevnt)\n",
    "print unique_mplyevnt"
   ]
  },
  {
   "cell_type": "code",
   "execution_count": null,
   "metadata": {
    "collapsed": false
   },
   "outputs": [],
   "source": [
    "unique_mpv = dfs['mpv'].unique() # Media player version\n",
    "print len(unique_mpv)\n",
    "print unique_mpv"
   ]
  },
  {
   "cell_type": "code",
   "execution_count": null,
   "metadata": {
    "collapsed": false
   },
   "outputs": [],
   "source": [
    "unique_mvcp = dfs['mvcp'].unique() # Movie contents provider (abc, ...)\n",
    "print len(unique_mvcp)\n",
    "print unique_mvcp"
   ]
  },
  {
   "cell_type": "markdown",
   "metadata": {},
   "source": [
    "##### => Drop mvcp"
   ]
  },
  {
   "cell_type": "code",
   "execution_count": null,
   "metadata": {
    "collapsed": false
   },
   "outputs": [],
   "source": [
    "unique_mvctg = dfs['mvctg'].unique() # Movie category (drama, ...)\n",
    "print len(unique_mvctg)\n",
    "print unique_mvctg"
   ]
  },
  {
   "cell_type": "code",
   "execution_count": null,
   "metadata": {
    "collapsed": false
   },
   "outputs": [],
   "source": [
    "unique_mvid = dfs['mvid'].unique() # Movie ID\n",
    "print len(unique_mvid)\n",
    "print unique_mvid"
   ]
  },
  {
   "cell_type": "code",
   "execution_count": null,
   "metadata": {
    "collapsed": false
   },
   "outputs": [],
   "source": [
    "unique_mvrt = dfs['mvrt'].unique() # Movie rate(pg, r, or ...)\n",
    "print len(unique_mvrt)\n",
    "print unique_mvrt"
   ]
  },
  {
   "cell_type": "markdown",
   "metadata": {},
   "source": [
    "##### => Drop mvrt"
   ]
  },
  {
   "cell_type": "code",
   "execution_count": null,
   "metadata": {
    "collapsed": false
   },
   "outputs": [],
   "source": [
    "unique_mvsctg = dfs['mvsctg'].unique() # Movie sub-category(romantic,..)\n",
    "print len(unique_mvsctg)\n",
    "print unique_mvsctg"
   ]
  },
  {
   "cell_type": "markdown",
   "metadata": {},
   "source": [
    "##### => Drop mvsctg"
   ]
  },
  {
   "cell_type": "code",
   "execution_count": null,
   "metadata": {
    "collapsed": false
   },
   "outputs": [],
   "source": [
    "unique_osn = dfs['osn'].unique() # OS name\n",
    "print len(unique_osn)\n",
    "print unique_osn"
   ]
  },
  {
   "cell_type": "code",
   "execution_count": null,
   "metadata": {
    "collapsed": false
   },
   "outputs": [],
   "source": [
    "unique_osv = dfs['osv'].unique() # OS version\n",
    "print len(unique_osv)\n",
    "print unique_osv"
   ]
  },
  {
   "cell_type": "code",
   "execution_count": null,
   "metadata": {
    "collapsed": false
   },
   "outputs": [],
   "source": [
    "unique_pltn = dfs['pltn'].unique() # Platform name\n",
    "print len(unique_pltn)\n",
    "print unique_pltn"
   ]
  },
  {
   "cell_type": "code",
   "execution_count": null,
   "metadata": {
    "collapsed": false
   },
   "outputs": [],
   "source": [
    "unique_ppv = dfs['ppv'].unique() # Player Platform Version\n",
    "print len(unique_ppv)\n",
    "print unique_ppv"
   ]
  },
  {
   "cell_type": "code",
   "execution_count": null,
   "metadata": {
    "collapsed": false
   },
   "outputs": [],
   "source": [
    "unique_res = dfs['res'].unique() # Display resolutions\n",
    "print len(unique_res)\n",
    "print unique_res"
   ]
  },
  {
   "cell_type": "code",
   "execution_count": null,
   "metadata": {
    "collapsed": false
   },
   "outputs": [],
   "source": [
    "unique_rg = dfs['rg'].unique() # Region Name (State of province)\n",
    "print len(unique_rg)\n",
    "print unique_rg"
   ]
  },
  {
   "cell_type": "code",
   "execution_count": null,
   "metadata": {
    "collapsed": false
   },
   "outputs": [],
   "source": [
    "unique_rgiso = dfs['rgiso'].unique() # Region ISO Code\n",
    "print len(unique_rgiso)\n",
    "print unique_rgiso"
   ]
  },
  {
   "cell_type": "code",
   "execution_count": null,
   "metadata": {
    "collapsed": false
   },
   "outputs": [],
   "source": [
    "unique_sid = dfs['sid'].unique() # Web server session ID\n",
    "print len(unique_sid)\n",
    "print unique_sid"
   ]
  },
  {
   "cell_type": "code",
   "execution_count": null,
   "metadata": {
    "collapsed": false
   },
   "outputs": [],
   "source": [
    "unique_spos = dfs['spos'].unique() # Symbolic Position\n",
    "print len(unique_spos)\n",
    "print unique_spos"
   ]
  },
  {
   "cell_type": "code",
   "execution_count": null,
   "metadata": {
    "collapsed": false,
    "scrolled": true
   },
   "outputs": [],
   "source": [
    "unique_srn = dfs['srn'].unique() # Series name\n",
    "print len(unique_srn)\n",
    "print unique_srn"
   ]
  },
  {
   "cell_type": "code",
   "execution_count": null,
   "metadata": {
    "collapsed": false
   },
   "outputs": [],
   "source": [
    "unique_ssid = dfs['ssid'].unique() # Session ID\n",
    "print len(unique_ssid)\n",
    "print unique_ssid"
   ]
  },
  {
   "cell_type": "code",
   "execution_count": null,
   "metadata": {
    "collapsed": false
   },
   "outputs": [],
   "source": [
    "unique_stype = dfs['stype'].unique() # Service Type(TV, Radio or ...)\n",
    "print len(unique_stype)\n",
    "print unique_stype"
   ]
  },
  {
   "cell_type": "markdown",
   "metadata": {},
   "source": [
    "##### => Drop stype"
   ]
  },
  {
   "cell_type": "code",
   "execution_count": null,
   "metadata": {
    "collapsed": false
   },
   "outputs": [],
   "source": [
    "unique_svr = dfs['svr'].unique() # Server name or Server URL\n",
    "print len(unique_svr)\n",
    "print unique_svr"
   ]
  },
  {
   "cell_type": "code",
   "execution_count": null,
   "metadata": {
    "collapsed": false
   },
   "outputs": [],
   "source": [
    "unique_szrid = dfs['szrid'].unique() # Streamlyzer Unique ID\n",
    "print len(unique_szrid)\n",
    "print unique_szrid"
   ]
  },
  {
   "cell_type": "code",
   "execution_count": null,
   "metadata": {
    "collapsed": false
   },
   "outputs": [],
   "source": [
    "unique_type = dfs['type'].unique() # log type\n",
    "print len(unique_type)\n",
    "print unique_type"
   ]
  },
  {
   "cell_type": "code",
   "execution_count": null,
   "metadata": {
    "collapsed": false
   },
   "outputs": [],
   "source": [
    "unique_uid = dfs['uid'].unique() # User id\n",
    "print len(unique_uid)\n",
    "print unique_uid"
   ]
  },
  {
   "cell_type": "code",
   "execution_count": null,
   "metadata": {
    "collapsed": false
   },
   "outputs": [],
   "source": [
    "unique_utype = dfs['utype'].unique() # User type\n",
    "print len(unique_utype)\n",
    "print unique_utype"
   ]
  },
  {
   "cell_type": "markdown",
   "metadata": {},
   "source": [
    "##### => Drop utype"
   ]
  },
  {
   "cell_type": "code",
   "execution_count": null,
   "metadata": {
    "collapsed": false
   },
   "outputs": [],
   "source": [
    "unique_v = dfs['v'].unique() # Client API version\n",
    "print len(unique_v)\n",
    "print unique_v"
   ]
  },
  {
   "cell_type": "markdown",
   "metadata": {},
   "source": [
    "##### => Drop v"
   ]
  },
  {
   "cell_type": "code",
   "execution_count": null,
   "metadata": {
    "collapsed": false
   },
   "outputs": [],
   "source": [
    "unique_yob = dfs['yob'].unique() # Year of birth\n",
    "print len(unique_yob)\n",
    "print unique_yob"
   ]
  },
  {
   "cell_type": "markdown",
   "metadata": {},
   "source": [
    "### Now, drop them"
   ]
  },
  {
   "cell_type": "code",
   "execution_count": null,
   "metadata": {
    "collapsed": false
   },
   "outputs": [],
   "source": [
    "def dropping_col(dfs, col_name):\n",
    "    if col_name in dfs.columns:\n",
    "        dfs = dfs.drop(col_name, axis = 1)\n",
    "    return dfs\n",
    "\n",
    "drop_col_lst = ['abtm','coiso','gen','mvcp','mvrt','mvsctg','stype','utype','v']\n",
    "for col in drop_col_lst:\n",
    "    dfs = dropping_col(dfs,col)"
   ]
  },
  {
   "cell_type": "code",
   "execution_count": null,
   "metadata": {
    "collapsed": false
   },
   "outputs": [],
   "source": [
    "dfs.info()"
   ]
  },
  {
   "cell_type": "markdown",
   "metadata": {},
   "source": [
    "### Continuous variables"
   ]
  },
  {
   "cell_type": "code",
   "execution_count": null,
   "metadata": {
    "collapsed": true
   },
   "outputs": [],
   "source": [
    "dfs['drt'] = dfs['drt'].fillna(0).astype(int)"
   ]
  },
  {
   "cell_type": "code",
   "execution_count": null,
   "metadata": {
    "collapsed": true
   },
   "outputs": [],
   "source": [
    "### set index\n",
    "#dfs.set_index('ts2', inplace=True) "
   ]
  },
  {
   "cell_type": "code",
   "execution_count": null,
   "metadata": {
    "collapsed": false
   },
   "outputs": [],
   "source": [
    "dfs.head()"
   ]
  },
  {
   "cell_type": "code",
   "execution_count": null,
   "metadata": {
    "collapsed": true
   },
   "outputs": [],
   "source": [
    "continuous_var = ['drt','tBuf','tIBuf','tLBuf','tPld','tVH']"
   ]
  },
  {
   "cell_type": "code",
   "execution_count": null,
   "metadata": {
    "collapsed": true
   },
   "outputs": [],
   "source": [
    "def get_hist_and_count(var_name):\n",
    "    var_name = dfs[var_name].fillna(0).astype(int)\n",
    "    print 'number of 0s: ',len(var_name[var_name==0])\n",
    "    print 'number of non 0s: ',len(var_name[var_name!=0])\n",
    "    var_name.hist(bins=100)"
   ]
  },
  {
   "cell_type": "code",
   "execution_count": null,
   "metadata": {
    "collapsed": false
   },
   "outputs": [],
   "source": [
    "# duration of content in ms unit.\n",
    "get_hist_and_count('drt')"
   ]
  },
  {
   "cell_type": "code",
   "execution_count": null,
   "metadata": {
    "collapsed": false
   },
   "outputs": [],
   "source": [
    "#get_hist_wo_NaNs('drt')"
   ]
  },
  {
   "cell_type": "code",
   "execution_count": null,
   "metadata": {
    "collapsed": false
   },
   "outputs": [],
   "source": [
    "# Re-Buffering Time\n",
    "get_hist_and_count('tBuf')"
   ]
  },
  {
   "cell_type": "code",
   "execution_count": null,
   "metadata": {
    "collapsed": false
   },
   "outputs": [],
   "source": [
    "# Initial Buffering Time\n",
    "get_hist_and_count('tIBuf')"
   ]
  },
  {
   "cell_type": "code",
   "execution_count": null,
   "metadata": {
    "collapsed": false
   },
   "outputs": [],
   "source": [
    "#get_hist_wo_NaNs('tIBuf')"
   ]
  },
  {
   "cell_type": "code",
   "execution_count": null,
   "metadata": {
    "collapsed": false
   },
   "outputs": [],
   "source": [
    "# Player Loading Time\n",
    "get_hist_and_count('tPld')"
   ]
  },
  {
   "cell_type": "code",
   "execution_count": null,
   "metadata": {
    "collapsed": false
   },
   "outputs": [],
   "source": [
    "# Viewing Time\n",
    "get_hist_and_count('tVH')"
   ]
  },
  {
   "cell_type": "code",
   "execution_count": null,
   "metadata": {
    "collapsed": false
   },
   "outputs": [],
   "source": [
    "# Long Buffering Time\n",
    "get_hist_and_count('tLBuf')"
   ]
  },
  {
   "cell_type": "markdown",
   "metadata": {},
   "source": [
    "### TODO list.\n",
    "    1. Histogram with only nonzeros for continous variables\n",
    "    2. Scatter plot (all variables)\n",
    "    3. Correlation between continours variables\n",
    "    4. Split train / test set\n",
    "    5. visualize each log type data"
   ]
  }
 ],
 "metadata": {
  "kernelspec": {
   "display_name": "Python 2",
   "language": "python",
   "name": "python2"
  },
  "language_info": {
   "codemirror_mode": {
    "name": "ipython",
    "version": 2
   },
   "file_extension": ".py",
   "mimetype": "text/x-python",
   "name": "python",
   "nbconvert_exporter": "python",
   "pygments_lexer": "ipython2",
   "version": "2.7.13"
  }
 },
 "nbformat": 4,
 "nbformat_minor": 0
}
