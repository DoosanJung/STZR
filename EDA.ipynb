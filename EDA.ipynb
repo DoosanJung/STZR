{
 "cells": [
  {
   "cell_type": "markdown",
   "metadata": {},
   "source": [
    "### Import modules and DataFrame"
   ]
  },
  {
   "cell_type": "code",
   "execution_count": 1,
   "metadata": {
    "collapsed": true
   },
   "outputs": [],
   "source": [
    "import pandas as pd\n",
    "import numpy as np\n",
    "import pickle\n",
    "import matplotlib.pyplot as plt\n",
    "%matplotlib inline"
   ]
  },
  {
   "cell_type": "code",
   "execution_count": 2,
   "metadata": {
    "collapsed": true,
    "scrolled": true
   },
   "outputs": [],
   "source": [
    "dfs = pickle.load(open('dfs_churn_marked.p'))"
   ]
  },
  {
   "cell_type": "code",
   "execution_count": 3,
   "metadata": {
    "collapsed": true,
    "scrolled": false
   },
   "outputs": [],
   "source": [
    "#dfs.info()"
   ]
  },
  {
   "cell_type": "markdown",
   "metadata": {},
   "source": [
    "### Categorical variables"
   ]
  },
  {
   "cell_type": "code",
   "execution_count": 4,
   "metadata": {},
   "outputs": [
    {
     "name": "stdout",
     "output_type": "stream",
     "text": [
      "1\n",
      "[u'Release']\n"
     ]
    }
   ],
   "source": [
    "unique_abtm = dfs['abtm'].unique() # A/B test mark\n",
    "print len(unique_abtm)\n",
    "print unique_abtm"
   ]
  },
  {
   "cell_type": "markdown",
   "metadata": {},
   "source": [
    "##### => Drop abtm"
   ]
  },
  {
   "cell_type": "code",
   "execution_count": 5,
   "metadata": {
    "scrolled": true
   },
   "outputs": [
    {
     "name": "stdout",
     "output_type": "stream",
     "text": [
      "19203\n",
      "[u'3614101' u'3328416' u'3587620' ..., u'871378' u'2270765' u'2252671']\n"
     ]
    }
   ],
   "source": [
    "unique_br = dfs['br'].unique() # The bitrate of the media (kbps)\n",
    "print len(unique_br)\n",
    "print unique_br"
   ]
  },
  {
   "cell_type": "code",
   "execution_count": 6,
   "metadata": {},
   "outputs": [
    {
     "name": "stdout",
     "output_type": "stream",
     "text": [
      "3\n",
      "[u'KOOLi_Player' u'KOOLi_Humax_Player' nan]\n"
     ]
    }
   ],
   "source": [
    "unique_brn = dfs['brn'].unique() # Browser name\n",
    "print len(unique_brn)\n",
    "print unique_brn"
   ]
  },
  {
   "cell_type": "code",
   "execution_count": 7,
   "metadata": {},
   "outputs": [
    {
     "name": "stdout",
     "output_type": "stream",
     "text": [
      "9\n",
      "[u'1.0.10' u'2.0.6' u'1.0.4' u'' nan u'2.0.7' u'1.0.7' u'2.0.4' u'1.0.11']\n"
     ]
    }
   ],
   "source": [
    "unique_brv = dfs['brv'].unique() # Browser version\n",
    "print len(unique_brv)\n",
    "print unique_brv"
   ]
  },
  {
   "cell_type": "code",
   "execution_count": 8,
   "metadata": {},
   "outputs": [
    {
     "name": "stdout",
     "output_type": "stream",
     "text": [
      "33\n",
      "[u'' u'CH.3 Gayo TV' u'CH.1 Yonhap News TV ' u'CH.16 CTS' u'CH.12 Edge TV'\n",
      " u'CH.14 The Movie' u'CH.17 FTV' u'CH.13 K-Baduk' u'CH.18 Mountain TV'\n",
      " u'CH.21 ONT' u'CH.26 GTV' u'CH.20 CBS' u'CH.28 Arirang TV' u'CH.31 CHING'\n",
      " u'CH.8 KBN TV' u'CH.15 Daekyo Kids TV' u'CH.10 Healthmedi TV' u'CH.33 ETN'\n",
      " u'CH.11 Runway TV' u'CH.23 Polaris TV' u'CH.22 Telenovela'\n",
      " u'CH.19 Channel China' u'CH.25 Food TV' u'CH.9 NTV' u'CH.34 KIDS-TV'\n",
      " u'CH.32 OBS W' u'CH.29 Arte TV' u'CH.7 Event TV' u'CH.24 Silver-i TV'\n",
      " u'CH.35 Jungchul TV' u'CH.27 Jei English' u'CH.30 BBS'\n",
      " u'CH.5 Asia Business News TV']\n"
     ]
    }
   ],
   "source": [
    "unique_chn = dfs['chn'].unique() # Live channel name\n",
    "print len(unique_chn)\n",
    "print unique_chn"
   ]
  },
  {
   "cell_type": "code",
   "execution_count": 9,
   "metadata": {},
   "outputs": [
    {
     "name": "stdout",
     "output_type": "stream",
     "text": [
      "10\n",
      "[u'Canada' u'United States' u'Republic of Korea' u'Guam' u'United Kingdom'\n",
      " u'Mexico' u'Vietnam' u'China' u'Singapore' u'Japan']\n"
     ]
    }
   ],
   "source": [
    "unique_co = dfs['co'].unique() # Contry name\n",
    "print len(unique_co)\n",
    "print unique_co"
   ]
  },
  {
   "cell_type": "code",
   "execution_count": 10,
   "metadata": {},
   "outputs": [
    {
     "name": "stdout",
     "output_type": "stream",
     "text": [
      "10\n",
      "[u'CA' u'US' u'KR' u'GU' u'GB' u'MX' u'VN' u'CN' u'SG' u'JP']\n"
     ]
    }
   ],
   "source": [
    "unique_coiso = dfs['coiso'].unique() # Country ISO Code\n",
    "print len(unique_coiso)\n",
    "print unique_coiso"
   ]
  },
  {
   "cell_type": "markdown",
   "metadata": {},
   "source": [
    "##### => Drop coiso "
   ]
  },
  {
   "cell_type": "code",
   "execution_count": 11,
   "metadata": {},
   "outputs": [
    {
     "name": "stdout",
     "output_type": "stream",
     "text": [
      "1058\n",
      "[u'Coquitlam' u'Los Angeles' u'Laguna Woods' ..., u'Spanaway'\n",
      " u'Charlestown' u'New Hyde Park']\n"
     ]
    }
   ],
   "source": [
    "unique_ct = dfs['ct'].unique() # City name\n",
    "print len(unique_ct)\n",
    "print unique_ct"
   ]
  },
  {
   "cell_type": "code",
   "execution_count": 12,
   "metadata": {},
   "outputs": [
    {
     "name": "stdout",
     "output_type": "stream",
     "text": [
      "4\n",
      "[u'WooriKooli W' u'h3' nan u'H5A2CUDQOT']\n"
     ]
    }
   ],
   "source": [
    "unique_devm = dfs['devm'].unique() # device model name\n",
    "print len(unique_devm)\n",
    "print unique_devm"
   ]
  },
  {
   "cell_type": "code",
   "execution_count": 13,
   "metadata": {},
   "outputs": [
    {
     "name": "stdout",
     "output_type": "stream",
     "text": [
      "4\n",
      "[u'Hutek' u'humaxdigital' nan u'Humaxdigital']\n"
     ]
    }
   ],
   "source": [
    "unique_devv = dfs['devv'].unique() # device vendor\n",
    "print len(unique_devv)\n",
    "print unique_devv"
   ]
  },
  {
   "cell_type": "code",
   "execution_count": 14,
   "metadata": {
    "scrolled": true
   },
   "outputs": [
    {
     "name": "stdout",
     "output_type": "stream",
     "text": [
      "8093\n",
      "[u\"E71 : I'm Sorry Gangnamgu\" u'E106 : Always Spring Day'\n",
      " u'E1133 : Open Concert' ..., u'E26 : You Are Gift' u'E306 : Running Man'\n",
      " u'E29 : Beautiful You']\n"
     ]
    }
   ],
   "source": [
    "unique_eps = dfs['eps'].unique() # Episode name\n",
    "print len(unique_eps)\n",
    "print unique_eps"
   ]
  },
  {
   "cell_type": "code",
   "execution_count": 15,
   "metadata": {},
   "outputs": [
    {
     "name": "stdout",
     "output_type": "stream",
     "text": [
      "246\n",
      "[ u'com.google.android.exoplayer.audio.AudioTrack$InitializationException: AudioTrack init failed: 0, Config(44100, 12, 44100)'\n",
      " u'Unexpected IllegalStateException: null'\n",
      " u'java.net.SocketTimeoutException' nan\n",
      " u'Unable to connect to http://kooli-cdn.wecandeo.com/kooli.wecandeo.com/sbs/20170401/6439023/video_und_2/19440000000.m4s'\n",
      " u'Unable to connect to http://kooli-cdn.wecandeo.com/kooli.wecandeo.com/tvn/20170403/6439822/audio_und_1/9120107483.m4s'\n",
      " u'com.google.android.exoplayer.upstream.HttpDataSource$HttpDataSourceException: Unable to connect to http://kooli-cdn.wecandeo.com/kooli.wecandeo.com/tvn/20170403/6439822/video_und_2/9120000000.m4s'\n",
      " u'Unable to connect to http://kooli-cdn.wecandeo.com/kooli.wecandeo.com/tvn/20170403/6439822/6439822.mpd'\n",
      " u'Unable to connect to http://kooli-cdn.wecandeo.com/kooli.wecandeo.com/sbs/20170402/6439609/video_und_5/2640000000.m4s'\n",
      " u'Unable to connect to http://kooli-cdn.wecandeo.com/kooli.wecandeo.com/sbs/20170402/6439649/video_und_4/0.m4s']\n"
     ]
    }
   ],
   "source": [
    "unique_errmsg = dfs['errmsg'].unique() # Error message string\n",
    "print len(unique_errmsg)\n",
    "print unique_errmsg[:10]"
   ]
  },
  {
   "cell_type": "code",
   "execution_count": 16,
   "metadata": {},
   "outputs": [
    {
     "name": "stdout",
     "output_type": "stream",
     "text": [
      "2\n",
      "[u'Unset' nan]\n"
     ]
    }
   ],
   "source": [
    "unique_gen = dfs['gen'].unique() # Gender\n",
    "print len(unique_gen)\n",
    "print unique_gen"
   ]
  },
  {
   "cell_type": "markdown",
   "metadata": {},
   "source": [
    "##### => Drop gen"
   ]
  },
  {
   "cell_type": "code",
   "execution_count": 17,
   "metadata": {},
   "outputs": [
    {
     "name": "stdout",
     "output_type": "stream",
     "text": [
      "3073\n",
      "[u'https://d1ijxi6ljrlc3i.cloudfront.net/5i7bozhpqk0fva6sxqrk'\n",
      " u'https://d1ijxi6ljrlc3i.cloudfront.net/hik9csyxhv60jhn7rgw9'\n",
      " u'https://d1ijxi6ljrlc3i.cloudfront.net/dedlbb7aygwme6zauxca' ...,\n",
      " u'https://d1ijxi6ljrlc3i.cloudfront.net/t0g9zajuyrxwgvax2t16'\n",
      " u'https://d1ijxi6ljrlc3i.cloudfront.net/tl23ima4g2qxnwwn6oxw'\n",
      " u'https://d1ijxi6ljrlc3i.cloudfront.net/h75urvro9zaa2ayjfslc']\n"
     ]
    }
   ],
   "source": [
    "unique_img = dfs['img'].unique() # Movie Thumbnail Image URL\n",
    "print len(unique_img)\n",
    "print unique_img"
   ]
  },
  {
   "cell_type": "code",
   "execution_count": 18,
   "metadata": {},
   "outputs": [
    {
     "name": "stdout",
     "output_type": "stream",
     "text": [
      "114\n",
      "[u'Pro Omnis Telecommunication' u'Time Warner Cable'\n",
      " u'West Coast Internet Incorporated' u'Comcast Cable' u'Verizon Fios'\n",
      " u'Frontier Communications Corporation' u'CenturyLink'\n",
      " u'AT&T Internet Services' u'AT&T U-verse' u'PenTeleData']\n"
     ]
    }
   ],
   "source": [
    "unique_isp = dfs['isp'].unique() # ISP name\n",
    "print len(unique_isp)\n",
    "print unique_isp[:10]"
   ]
  },
  {
   "cell_type": "code",
   "execution_count": 19,
   "metadata": {},
   "outputs": [
    {
     "name": "stdout",
     "output_type": "stream",
     "text": [
      "2\n",
      "[u'ko' u'en']\n"
     ]
    }
   ],
   "source": [
    "unique_lang = dfs['lang'].unique() # Language\n",
    "print len(unique_lang)\n",
    "print unique_lang"
   ]
  },
  {
   "cell_type": "code",
   "execution_count": 20,
   "metadata": {},
   "outputs": [
    {
     "name": "stdout",
     "output_type": "stream",
     "text": [
      "2\n",
      "[u'f' u't']\n"
     ]
    }
   ],
   "source": [
    "unique_live = dfs['live'].unique() # live stream ('t') or not ('f')\n",
    "print len(unique_live)\n",
    "print unique_live"
   ]
  },
  {
   "cell_type": "code",
   "execution_count": 21,
   "metadata": {},
   "outputs": [
    {
     "name": "stdout",
     "output_type": "stream",
     "text": [
      "3\n",
      "[u'US' u'KR' u'Unset']\n"
     ]
    }
   ],
   "source": [
    "unique_lrg = dfs['lrg'].unique() # Language Region and More\n",
    "print len(unique_lrg)\n",
    "print unique_lrg"
   ]
  },
  {
   "cell_type": "code",
   "execution_count": 22,
   "metadata": {},
   "outputs": [
    {
     "name": "stdout",
     "output_type": "stream",
     "text": [
      "9\n",
      "[u'iBufStart' u'brchg' u'compl' u'bufStart' u'stop' u'play' u'firstPlay'\n",
      " u'pause' nan]\n"
     ]
    }
   ],
   "source": [
    "unique_mplyevnt = dfs['mplyevnt'].unique() # Player event type\n",
    "print len(unique_mplyevnt)\n",
    "print unique_mplyevnt"
   ]
  },
  {
   "cell_type": "code",
   "execution_count": 23,
   "metadata": {},
   "outputs": [
    {
     "name": "stdout",
     "output_type": "stream",
     "text": [
      "8\n",
      "[u'KOOLi_Player 1.0.10' u'KOOLi_Player 2.0.6' u'KOOLi_Player 1.0.4'\n",
      " u'KOOLi_Player ' u'KOOLi_Player 2.0.7' u'KOOLi_Player 1.0.7'\n",
      " u'KOOLi_Player 2.0.4' u'KOOLi_Player 1.0.11']\n"
     ]
    }
   ],
   "source": [
    "unique_mpv = dfs['mpv'].unique() # Media player version\n",
    "print len(unique_mpv)\n",
    "print unique_mpv"
   ]
  },
  {
   "cell_type": "code",
   "execution_count": 24,
   "metadata": {},
   "outputs": [
    {
     "name": "stdout",
     "output_type": "stream",
     "text": [
      "1\n",
      "[u'Unset']\n"
     ]
    }
   ],
   "source": [
    "unique_mvcp = dfs['mvcp'].unique() # Movie contents provider (abc, ...)\n",
    "print len(unique_mvcp)\n",
    "print unique_mvcp"
   ]
  },
  {
   "cell_type": "markdown",
   "metadata": {},
   "source": [
    "##### => Drop mvcp"
   ]
  },
  {
   "cell_type": "code",
   "execution_count": 25,
   "metadata": {},
   "outputs": [
    {
     "name": "stdout",
     "output_type": "stream",
     "text": [
      "8\n",
      "[u'Drama' u'Variety' u'Kids' u'News' u'Life' u'Movies' u'Live' u'LiveTV']\n"
     ]
    }
   ],
   "source": [
    "unique_mvctg = dfs['mvctg'].unique() # Movie category (drama, ...)\n",
    "print len(unique_mvctg)\n",
    "print unique_mvctg"
   ]
  },
  {
   "cell_type": "code",
   "execution_count": 26,
   "metadata": {},
   "outputs": [
    {
     "name": "stdout",
     "output_type": "stream",
     "text": [
      "8124\n",
      "[u\"E71 : I'm Sorry Gangnamgu\" u'E106 : Always Spring Day'\n",
      " u'E1133 : Open Concert' ..., u'E26 : You Are Gift' u'E306 : Running Man'\n",
      " u'E29 : Beautiful You']\n"
     ]
    }
   ],
   "source": [
    "unique_mvid = dfs['mvid'].unique() # Movie ID\n",
    "print len(unique_mvid)\n",
    "print unique_mvid"
   ]
  },
  {
   "cell_type": "code",
   "execution_count": 27,
   "metadata": {},
   "outputs": [
    {
     "name": "stdout",
     "output_type": "stream",
     "text": [
      "1\n",
      "[u'Unset']\n"
     ]
    }
   ],
   "source": [
    "unique_mvrt = dfs['mvrt'].unique() # Movie rate(pg, r, or ...)\n",
    "print len(unique_mvrt)\n",
    "print unique_mvrt"
   ]
  },
  {
   "cell_type": "markdown",
   "metadata": {},
   "source": [
    "##### => Drop mvrt"
   ]
  },
  {
   "cell_type": "code",
   "execution_count": 28,
   "metadata": {},
   "outputs": [
    {
     "name": "stdout",
     "output_type": "stream",
     "text": [
      "1\n",
      "[u'Unset']\n"
     ]
    }
   ],
   "source": [
    "unique_mvsctg = dfs['mvsctg'].unique() # Movie sub-category(romantic,..)\n",
    "print len(unique_mvsctg)\n",
    "print unique_mvsctg"
   ]
  },
  {
   "cell_type": "markdown",
   "metadata": {},
   "source": [
    "##### => Drop mvsctg"
   ]
  },
  {
   "cell_type": "code",
   "execution_count": 29,
   "metadata": {},
   "outputs": [
    {
     "name": "stdout",
     "output_type": "stream",
     "text": [
      "2\n",
      "[u'Android' nan]\n"
     ]
    }
   ],
   "source": [
    "unique_osn = dfs['osn'].unique() # OS name\n",
    "print len(unique_osn)\n",
    "print unique_osn"
   ]
  },
  {
   "cell_type": "code",
   "execution_count": 30,
   "metadata": {},
   "outputs": [
    {
     "name": "stdout",
     "output_type": "stream",
     "text": [
      "3\n",
      "[u'4.4.4' u'4.4.2' nan]\n"
     ]
    }
   ],
   "source": [
    "unique_osv = dfs['osv'].unique() # OS version\n",
    "print len(unique_osv)\n",
    "print unique_osv"
   ]
  },
  {
   "cell_type": "code",
   "execution_count": 31,
   "metadata": {},
   "outputs": [
    {
     "name": "stdout",
     "output_type": "stream",
     "text": [
      "3\n",
      "[u'WooriKooli W' u'h3' u'H5A2CUDQOT']\n"
     ]
    }
   ],
   "source": [
    "unique_pltn = dfs['pltn'].unique() # Platform name\n",
    "print len(unique_pltn)\n",
    "print unique_pltn"
   ]
  },
  {
   "cell_type": "code",
   "execution_count": 32,
   "metadata": {},
   "outputs": [
    {
     "name": "stdout",
     "output_type": "stream",
     "text": [
      "2\n",
      "[u'Exoplayer:r1.4.2' u'Android Player']\n"
     ]
    }
   ],
   "source": [
    "unique_ppv = dfs['ppv'].unique() # Player Platform Version\n",
    "print len(unique_ppv)\n",
    "print unique_ppv"
   ]
  },
  {
   "cell_type": "code",
   "execution_count": 33,
   "metadata": {},
   "outputs": [
    {
     "name": "stdout",
     "output_type": "stream",
     "text": [
      "2\n",
      "[u'1080p' nan]\n"
     ]
    }
   ],
   "source": [
    "unique_res = dfs['res'].unique() # Display resolutions\n",
    "print len(unique_res)\n",
    "print unique_res"
   ]
  },
  {
   "cell_type": "code",
   "execution_count": 34,
   "metadata": {},
   "outputs": [
    {
     "name": "stdout",
     "output_type": "stream",
     "text": [
      "65\n",
      "[u'British Columbia' u'California' u'Massachusetts' u'New York' u'Ontario'\n",
      " u'New Jersey' u'Colorado' u'Illinois' u'Georgia' u'Pennsylvania']\n"
     ]
    }
   ],
   "source": [
    "unique_rg = dfs['rg'].unique() # Region Name (State of province)\n",
    "print len(unique_rg)\n",
    "print unique_rg[:10]"
   ]
  },
  {
   "cell_type": "code",
   "execution_count": 35,
   "metadata": {},
   "outputs": [
    {
     "name": "stdout",
     "output_type": "stream",
     "text": [
      "62\n",
      "[u'BC' u'CA' u'MA' u'NY' u'ON' u'NJ' u'CO' u'IL' u'GA' u'PA']\n"
     ]
    }
   ],
   "source": [
    "unique_rgiso = dfs['rgiso'].unique() # Region ISO Code\n",
    "print len(unique_rgiso)\n",
    "print unique_rgiso[:10]"
   ]
  },
  {
   "cell_type": "code",
   "execution_count": 36,
   "metadata": {},
   "outputs": [
    {
     "name": "stdout",
     "output_type": "stream",
     "text": [
      "3\n",
      "[u'Wooli_KOOLi' u'KOOLi_Humax' u'KOOLi_Humax_Live']\n"
     ]
    }
   ],
   "source": [
    "unique_sid = dfs['sid'].unique() # Web server session ID\n",
    "print len(unique_sid)\n",
    "print unique_sid"
   ]
  },
  {
   "cell_type": "code",
   "execution_count": 37,
   "metadata": {},
   "outputs": [
    {
     "name": "stdout",
     "output_type": "stream",
     "text": [
      "159\n",
      "[u'V0009' u'V0034' u'V0058' u'V0000' u'V0022' u'V0061' u'V0039' u'V0006'\n",
      " u'V0038' u'V0013']\n"
     ]
    }
   ],
   "source": [
    "unique_spos = dfs['spos'].unique() # Symbolic Position\n",
    "print len(unique_spos)\n",
    "print unique_spos[:10]"
   ]
  },
  {
   "cell_type": "code",
   "execution_count": 38,
   "metadata": {
    "scrolled": true
   },
   "outputs": [
    {
     "name": "stdout",
     "output_type": "stream",
     "text": [
      "470\n",
      "[u'\\uc544\\uc784\\uc3d8\\ub9ac \\uac15\\ub0a8\\uad6c'\n",
      " u'\\uc5b8\\uc81c\\ub098 \\ubd04\\ub0a0' u'\\uc5f4\\ub9b0\\uc74c\\uc545\\ud68c'\n",
      " u'\\ud798\\uc388\\uc5ec\\uc790 \\ub3c4\\ubd09\\uc21c'\n",
      " u'\\uc751\\ub2f5\\ud558\\ub77c 1988' u'Tunnel' u'\\uae40\\uacfc\\uc7a5'\n",
      " u'\\uc625\\uc911\\ud654' u'\\ubfcc\\ub9ac\\uae4a\\uc740 \\ub098\\ubb34'\n",
      " u'\\uac11\\ub3d9\\uc774 ']\n"
     ]
    }
   ],
   "source": [
    "unique_srn = dfs['srn'].unique() # Series name\n",
    "print len(unique_srn)\n",
    "print unique_srn[:10]"
   ]
  },
  {
   "cell_type": "code",
   "execution_count": 39,
   "metadata": {},
   "outputs": [
    {
     "name": "stdout",
     "output_type": "stream",
     "text": [
      "58827\n",
      "[u'be86c466-c943-4f35-86f0-e7dbe678def0'\n",
      " u'894819a2-ca4a-47d9-9e5c-6bd2ce54277e'\n",
      " u'e7f78970-b677-4655-a98d-00c5dcb4f6b0'\n",
      " u'2ff7c2f2-47b8-449c-8e80-8d7e6b4e0892'\n",
      " u'0c7169ce-6bff-4758-8f65-78728f361bc8'\n",
      " u'c592de2d-c731-40bd-bbe4-b3bee2702945'\n",
      " u'6f773d36-8a6f-4984-ba69-5bcb054e3b57'\n",
      " u'b92e852d-2e09-4655-a786-a9b469e43ed8'\n",
      " u'12ee6940-e994-43e6-9e29-7ff36c749f4e'\n",
      " u'acbbbc5d-a273-4bcb-93bd-64024271c597']\n"
     ]
    }
   ],
   "source": [
    "unique_ssid = dfs['ssid'].unique() # Session ID\n",
    "print len(unique_ssid)\n",
    "print unique_ssid[:10]"
   ]
  },
  {
   "cell_type": "code",
   "execution_count": 40,
   "metadata": {},
   "outputs": [
    {
     "name": "stdout",
     "output_type": "stream",
     "text": [
      "1\n",
      "[u'Unset']\n"
     ]
    }
   ],
   "source": [
    "unique_stype = dfs['stype'].unique() # Service Type(TV, Radio or ...)\n",
    "print len(unique_stype)\n",
    "print unique_stype"
   ]
  },
  {
   "cell_type": "markdown",
   "metadata": {},
   "source": [
    "##### => Drop stype"
   ]
  },
  {
   "cell_type": "code",
   "execution_count": 41,
   "metadata": {},
   "outputs": [
    {
     "name": "stdout",
     "output_type": "stream",
     "text": [
      "8351\n",
      "[ u'http://kooli-cdn.wecandeo.com/kooli.wecandeo.com/sbs/20170331/6437020/6437020.mpd'\n",
      " u'http://kooli-cdn.wecandeo.com/kooli.wecandeo.com/mbc/20170330/6435628/6435628.mpd'\n",
      " u'http://kooli-cdn.wecandeo.com/kooli.wecandeo.com/kbs1/20170101/6345142/6345142.mpd'\n",
      " u'http://kooli-cdn.wecandeo.com/kooli.wecandeo.com/jtbc/20170331/6438161/6438161.mpd'\n",
      " u'http://kooli-cdn.wecandeo.com/kooli.wecandeo.com/tvn/20160808/6218295/6218295.mpd'\n",
      " u'http://kooli-cdn.wecandeo.com/kooli.wecandeo.com/tvn/20170326/6431923/6431923.mpd'\n",
      " u'http://kooli-cdn.wecandeo.com/kooli.wecandeo.com/sbs/20170320/6425408/6425408.mpd'\n",
      " u'http://kooli-cdn.wecandeo.com/kooli.wecandeo.com/kbs2/20170331/6436752/6436752.mpd'\n",
      " u'http://kooli-cdn.wecandeo.com/kooli.wecandeo.com/mbc/20161106/6298460/6298460.mpd'\n",
      " u'http://kooli-cdn.wecandeo.com/kooli.wecandeo.com/sbs/20160922/6253443/6253443.mpd']\n"
     ]
    }
   ],
   "source": [
    "unique_svr = dfs['svr'].unique() # Server name or Server URL\n",
    "print len(unique_svr)\n",
    "print unique_svr[:10]"
   ]
  },
  {
   "cell_type": "code",
   "execution_count": 42,
   "metadata": {},
   "outputs": [
    {
     "name": "stdout",
     "output_type": "stream",
     "text": [
      "4359\n",
      "[u'57d80ee3-4563-40c1-a64d-15a66c60edba'\n",
      " u'dc742456-10a3-48a5-9d4d-d8e8b220b069'\n",
      " u'95af6832-5e9d-4b07-91c3-7ef5a863e014'\n",
      " u'a2cf4b4f-7c7d-42df-87c3-96b2a5debf7a'\n",
      " u'f5d5c858-cc2f-4dec-831e-63fd6bb539a6'\n",
      " u'd6eaf52a-022d-4ad1-9cc5-68bdae59cfb1'\n",
      " u'd3d51af6-1eed-421e-852a-179b5f4ef83d'\n",
      " u'da713b93-6eec-4f54-8c0a-9b431343f1a9'\n",
      " u'363645eb-5557-444a-9eac-dd4a5205cd69'\n",
      " u'07cc27c4-4db3-41a1-85b8-1bc20bc0be84']\n"
     ]
    }
   ],
   "source": [
    "unique_szrid = dfs['szrid'].unique() # STZR Unique ID\n",
    "print len(unique_szrid)\n",
    "print unique_szrid[:10]"
   ]
  },
  {
   "cell_type": "code",
   "execution_count": 43,
   "metadata": {},
   "outputs": [
    {
     "name": "stdout",
     "output_type": "stream",
     "text": [
      "64727\n",
      "[u'4e7475b2-0b88-461f-9387-0a9b77251df8'\n",
      " u'7e588404-453f-4a45-a8aa-05b6b0ae5be4'\n",
      " u'f19a8414-64cd-418a-985e-61ae073d8915'\n",
      " u'7efccc8b-436d-40bf-8bd5-fe45d08039ca'\n",
      " u'14bd5375-4a03-460c-b0aa-d73fe16628b7'\n",
      " u'fb5b6348-3f14-4f8c-a5fe-f2633f20de40'\n",
      " u'8d04439a-03ea-416a-a3c6-4b2c008a6ce3'\n",
      " u'2c25e4ee-48bb-41c8-a167-f28585a0e106'\n",
      " u'468cb25d-92fa-43d5-8295-af5a4552c00e'\n",
      " u'd42e2d6e-5c75-43b2-ae4d-f4bd69ca3b2a']\n"
     ]
    }
   ],
   "source": [
    "unique_tid = dfs['tid'].unique() # ticket ID\n",
    "print len(unique_tid)\n",
    "print unique_tid[:10]"
   ]
  },
  {
   "cell_type": "code",
   "execution_count": 44,
   "metadata": {},
   "outputs": [
    {
     "name": "stdout",
     "output_type": "stream",
     "text": [
      "8\n",
      "[u'vh' u'lBuf' u'mplyevent' u'iBuf' u'upImg' u'errmsg' u'plyRdy' u'Buf']\n"
     ]
    }
   ],
   "source": [
    "unique_type = dfs['type'].unique() # log type\n",
    "print len(unique_type)\n",
    "print unique_type"
   ]
  },
  {
   "cell_type": "code",
   "execution_count": 45,
   "metadata": {},
   "outputs": [
    {
     "name": "stdout",
     "output_type": "stream",
     "text": [
      "4197\n",
      "[u'WUCH155103440' u'14110963601665' u'WUCH155102826' u'WUCH161600388'\n",
      " u'WUCH155101681' u'WUCH155102162' u'WUCH155101131' u'WUCH155101270'\n",
      " u'WUCH155102245' u'WUCH155102068']\n"
     ]
    }
   ],
   "source": [
    "unique_uid = dfs['uid'].unique() # User id\n",
    "print len(unique_uid)\n",
    "print unique_uid[:10]"
   ]
  },
  {
   "cell_type": "code",
   "execution_count": 46,
   "metadata": {},
   "outputs": [
    {
     "name": "stdout",
     "output_type": "stream",
     "text": [
      "1\n",
      "[u'user']\n"
     ]
    }
   ],
   "source": [
    "unique_utype = dfs['utype'].unique() # User type\n",
    "print len(unique_utype)\n",
    "print unique_utype"
   ]
  },
  {
   "cell_type": "markdown",
   "metadata": {},
   "source": [
    "##### => Drop utype"
   ]
  },
  {
   "cell_type": "code",
   "execution_count": 47,
   "metadata": {},
   "outputs": [
    {
     "name": "stdout",
     "output_type": "stream",
     "text": [
      "1\n",
      "[u'0.9.1']\n"
     ]
    }
   ],
   "source": [
    "unique_v = dfs['v'].unique() # Client API version\n",
    "print len(unique_v)\n",
    "print unique_v"
   ]
  },
  {
   "cell_type": "markdown",
   "metadata": {},
   "source": [
    "##### => Drop v"
   ]
  },
  {
   "cell_type": "code",
   "execution_count": 48,
   "metadata": {},
   "outputs": [
    {
     "name": "stdout",
     "output_type": "stream",
     "text": [
      "2\n",
      "[u'Unset' nan]\n"
     ]
    }
   ],
   "source": [
    "unique_yob = dfs['yob'].unique() # Year of birth\n",
    "print len(unique_yob)\n",
    "print unique_yob"
   ]
  },
  {
   "cell_type": "code",
   "execution_count": 49,
   "metadata": {},
   "outputs": [
    {
     "name": "stdout",
     "output_type": "stream",
     "text": [
      "180853\n",
      "['2017-03-31T23:56:07.535000000' '2017-03-31T23:57:12.602000000'\n",
      " '2017-03-31T23:56:57.448000000' ..., '2017-06-29T23:58:45.183000000'\n",
      " '2017-06-29T23:58:22.515000000' '2017-06-29T23:58:45.635000000']\n"
     ]
    }
   ],
   "source": [
    "unique_ts2 = dfs['ts2'].unique() # timestamp\n",
    "print len(unique_ts2)\n",
    "print unique_ts2"
   ]
  },
  {
   "cell_type": "markdown",
   "metadata": {},
   "source": [
    "### Now, drop them"
   ]
  },
  {
   "cell_type": "code",
   "execution_count": 50,
   "metadata": {
    "collapsed": true
   },
   "outputs": [],
   "source": [
    "def dropping_col(dfs, col_name):\n",
    "    if col_name in dfs.columns:\n",
    "        dfs = dfs.drop(col_name, axis = 1)\n",
    "    return dfs\n",
    "\n",
    "drop_col_lst = ['abtm','coiso','gen','mvcp','mvrt','mvsctg','stype','utype','v']\n",
    "for col in drop_col_lst:\n",
    "    dfs = dropping_col(dfs,col)"
   ]
  },
  {
   "cell_type": "code",
   "execution_count": 51,
   "metadata": {
    "collapsed": true
   },
   "outputs": [],
   "source": [
    "#dfs.info()"
   ]
  },
  {
   "cell_type": "markdown",
   "metadata": {},
   "source": [
    "# 08/15/2017 Understanding logs..\n",
    "\n",
    "    1. Groupby tid, and inspect\n",
    "    2. Groupby szrid, and inspect\n",
    "    3. Groupby uid, and inspect"
   ]
  },
  {
   "cell_type": "markdown",
   "metadata": {},
   "source": [
    "### Dropping more columns..."
   ]
  },
  {
   "cell_type": "code",
   "execution_count": 52,
   "metadata": {
    "collapsed": true
   },
   "outputs": [],
   "source": [
    "# Only columns of interest\n",
    "tmp_dfs = dfs[['ts2','drt','errmsg','mplyevnt','spos','ssid','szrid','tBuf','tIBuf','tLBuf','tPld','tVH','tid','type','uid','churn']]"
   ]
  },
  {
   "cell_type": "code",
   "execution_count": 53,
   "metadata": {},
   "outputs": [
    {
     "name": "stdout",
     "output_type": "stream",
     "text": [
      "<class 'pandas.core.frame.DataFrame'>\n",
      "Int64Index: 182000 entries, 0 to 181999\n",
      "Data columns (total 16 columns):\n",
      "ts2         182000 non-null datetime64[ns]\n",
      "drt         182000 non-null int64\n",
      "errmsg      2262 non-null object\n",
      "mplyevnt    41523 non-null object\n",
      "spos        167826 non-null object\n",
      "ssid        182000 non-null object\n",
      "szrid       182000 non-null object\n",
      "tBuf        182000 non-null int64\n",
      "tIBuf       182000 non-null int64\n",
      "tLBuf       182000 non-null int64\n",
      "tPld        182000 non-null int64\n",
      "tVH         182000 non-null int64\n",
      "tid         182000 non-null object\n",
      "type        182000 non-null object\n",
      "uid         182000 non-null object\n",
      "churn       182000 non-null bool\n",
      "dtypes: bool(1), datetime64[ns](1), int64(6), object(8)\n",
      "memory usage: 22.4+ MB\n"
     ]
    }
   ],
   "source": [
    "tmp_dfs.info()"
   ]
  },
  {
   "cell_type": "markdown",
   "metadata": {},
   "source": [
    "### Groupby tid"
   ]
  },
  {
   "cell_type": "code",
   "execution_count": 54,
   "metadata": {
    "scrolled": false
   },
   "outputs": [
    {
     "data": {
      "text/html": [
       "<div>\n",
       "<style>\n",
       "    .dataframe thead tr:only-child th {\n",
       "        text-align: right;\n",
       "    }\n",
       "\n",
       "    .dataframe thead th {\n",
       "        text-align: left;\n",
       "    }\n",
       "\n",
       "    .dataframe tbody tr th {\n",
       "        vertical-align: top;\n",
       "    }\n",
       "</style>\n",
       "<table border=\"1\" class=\"dataframe\">\n",
       "  <thead>\n",
       "    <tr style=\"text-align: right;\">\n",
       "      <th></th>\n",
       "      <th>ts2</th>\n",
       "      <th>drt</th>\n",
       "      <th>errmsg</th>\n",
       "      <th>mplyevnt</th>\n",
       "      <th>spos</th>\n",
       "      <th>ssid</th>\n",
       "      <th>szrid</th>\n",
       "      <th>tBuf</th>\n",
       "      <th>tIBuf</th>\n",
       "      <th>tLBuf</th>\n",
       "      <th>tPld</th>\n",
       "      <th>tVH</th>\n",
       "      <th>type</th>\n",
       "      <th>uid</th>\n",
       "      <th>churn</th>\n",
       "    </tr>\n",
       "    <tr>\n",
       "      <th>tid</th>\n",
       "      <th></th>\n",
       "      <th></th>\n",
       "      <th></th>\n",
       "      <th></th>\n",
       "      <th></th>\n",
       "      <th></th>\n",
       "      <th></th>\n",
       "      <th></th>\n",
       "      <th></th>\n",
       "      <th></th>\n",
       "      <th></th>\n",
       "      <th></th>\n",
       "      <th></th>\n",
       "      <th></th>\n",
       "      <th></th>\n",
       "    </tr>\n",
       "  </thead>\n",
       "  <tbody>\n",
       "    <tr>\n",
       "      <th>0000dc43-0653-4dd3-be67-1710eddbbef2</th>\n",
       "      <td>2</td>\n",
       "      <td>2</td>\n",
       "      <td>0</td>\n",
       "      <td>1</td>\n",
       "      <td>2</td>\n",
       "      <td>2</td>\n",
       "      <td>2</td>\n",
       "      <td>2</td>\n",
       "      <td>2</td>\n",
       "      <td>2</td>\n",
       "      <td>2</td>\n",
       "      <td>2</td>\n",
       "      <td>2</td>\n",
       "      <td>2</td>\n",
       "      <td>2</td>\n",
       "    </tr>\n",
       "    <tr>\n",
       "      <th>00012b82-1ab4-4109-a1f0-53ac7073db93</th>\n",
       "      <td>3</td>\n",
       "      <td>3</td>\n",
       "      <td>0</td>\n",
       "      <td>0</td>\n",
       "      <td>3</td>\n",
       "      <td>3</td>\n",
       "      <td>3</td>\n",
       "      <td>3</td>\n",
       "      <td>3</td>\n",
       "      <td>3</td>\n",
       "      <td>3</td>\n",
       "      <td>3</td>\n",
       "      <td>3</td>\n",
       "      <td>3</td>\n",
       "      <td>3</td>\n",
       "    </tr>\n",
       "    <tr>\n",
       "      <th>00034ba6-ccb3-4c22-9af3-5a7df3d991cf</th>\n",
       "      <td>3</td>\n",
       "      <td>3</td>\n",
       "      <td>0</td>\n",
       "      <td>2</td>\n",
       "      <td>3</td>\n",
       "      <td>3</td>\n",
       "      <td>3</td>\n",
       "      <td>3</td>\n",
       "      <td>3</td>\n",
       "      <td>3</td>\n",
       "      <td>3</td>\n",
       "      <td>3</td>\n",
       "      <td>3</td>\n",
       "      <td>3</td>\n",
       "      <td>3</td>\n",
       "    </tr>\n",
       "    <tr>\n",
       "      <th>00044168-4c0a-4b80-b3a7-9804427c3cc1</th>\n",
       "      <td>6</td>\n",
       "      <td>6</td>\n",
       "      <td>0</td>\n",
       "      <td>1</td>\n",
       "      <td>4</td>\n",
       "      <td>6</td>\n",
       "      <td>6</td>\n",
       "      <td>6</td>\n",
       "      <td>6</td>\n",
       "      <td>6</td>\n",
       "      <td>6</td>\n",
       "      <td>6</td>\n",
       "      <td>6</td>\n",
       "      <td>6</td>\n",
       "      <td>6</td>\n",
       "    </tr>\n",
       "    <tr>\n",
       "      <th>00056954-6e24-4135-8dc9-98937506358a</th>\n",
       "      <td>1</td>\n",
       "      <td>1</td>\n",
       "      <td>0</td>\n",
       "      <td>0</td>\n",
       "      <td>1</td>\n",
       "      <td>1</td>\n",
       "      <td>1</td>\n",
       "      <td>1</td>\n",
       "      <td>1</td>\n",
       "      <td>1</td>\n",
       "      <td>1</td>\n",
       "      <td>1</td>\n",
       "      <td>1</td>\n",
       "      <td>1</td>\n",
       "      <td>1</td>\n",
       "    </tr>\n",
       "    <tr>\n",
       "      <th>00061daf-d2d7-442c-9008-c81991e2e0f8</th>\n",
       "      <td>1</td>\n",
       "      <td>1</td>\n",
       "      <td>0</td>\n",
       "      <td>0</td>\n",
       "      <td>1</td>\n",
       "      <td>1</td>\n",
       "      <td>1</td>\n",
       "      <td>1</td>\n",
       "      <td>1</td>\n",
       "      <td>1</td>\n",
       "      <td>1</td>\n",
       "      <td>1</td>\n",
       "      <td>1</td>\n",
       "      <td>1</td>\n",
       "      <td>1</td>\n",
       "    </tr>\n",
       "    <tr>\n",
       "      <th>00070c33-1bea-47f9-89d0-d49e05f9e30e</th>\n",
       "      <td>6</td>\n",
       "      <td>6</td>\n",
       "      <td>0</td>\n",
       "      <td>3</td>\n",
       "      <td>5</td>\n",
       "      <td>6</td>\n",
       "      <td>6</td>\n",
       "      <td>6</td>\n",
       "      <td>6</td>\n",
       "      <td>6</td>\n",
       "      <td>6</td>\n",
       "      <td>6</td>\n",
       "      <td>6</td>\n",
       "      <td>6</td>\n",
       "      <td>6</td>\n",
       "    </tr>\n",
       "    <tr>\n",
       "      <th>0008596c-3f2d-4fb4-b80e-0bff2a915169</th>\n",
       "      <td>1</td>\n",
       "      <td>1</td>\n",
       "      <td>0</td>\n",
       "      <td>0</td>\n",
       "      <td>1</td>\n",
       "      <td>1</td>\n",
       "      <td>1</td>\n",
       "      <td>1</td>\n",
       "      <td>1</td>\n",
       "      <td>1</td>\n",
       "      <td>1</td>\n",
       "      <td>1</td>\n",
       "      <td>1</td>\n",
       "      <td>1</td>\n",
       "      <td>1</td>\n",
       "    </tr>\n",
       "    <tr>\n",
       "      <th>00098dda-9e71-4e47-a144-4046032ebb59</th>\n",
       "      <td>1</td>\n",
       "      <td>1</td>\n",
       "      <td>0</td>\n",
       "      <td>0</td>\n",
       "      <td>1</td>\n",
       "      <td>1</td>\n",
       "      <td>1</td>\n",
       "      <td>1</td>\n",
       "      <td>1</td>\n",
       "      <td>1</td>\n",
       "      <td>1</td>\n",
       "      <td>1</td>\n",
       "      <td>1</td>\n",
       "      <td>1</td>\n",
       "      <td>1</td>\n",
       "    </tr>\n",
       "    <tr>\n",
       "      <th>000b107f-952a-4082-9153-8938ea3576d2</th>\n",
       "      <td>3</td>\n",
       "      <td>3</td>\n",
       "      <td>0</td>\n",
       "      <td>0</td>\n",
       "      <td>3</td>\n",
       "      <td>3</td>\n",
       "      <td>3</td>\n",
       "      <td>3</td>\n",
       "      <td>3</td>\n",
       "      <td>3</td>\n",
       "      <td>3</td>\n",
       "      <td>3</td>\n",
       "      <td>3</td>\n",
       "      <td>3</td>\n",
       "      <td>3</td>\n",
       "    </tr>\n",
       "  </tbody>\n",
       "</table>\n",
       "</div>"
      ],
      "text/plain": [
       "                                      ts2  drt  errmsg  mplyevnt  spos  ssid  \\\n",
       "tid                                                                            \n",
       "0000dc43-0653-4dd3-be67-1710eddbbef2    2    2       0         1     2     2   \n",
       "00012b82-1ab4-4109-a1f0-53ac7073db93    3    3       0         0     3     3   \n",
       "00034ba6-ccb3-4c22-9af3-5a7df3d991cf    3    3       0         2     3     3   \n",
       "00044168-4c0a-4b80-b3a7-9804427c3cc1    6    6       0         1     4     6   \n",
       "00056954-6e24-4135-8dc9-98937506358a    1    1       0         0     1     1   \n",
       "00061daf-d2d7-442c-9008-c81991e2e0f8    1    1       0         0     1     1   \n",
       "00070c33-1bea-47f9-89d0-d49e05f9e30e    6    6       0         3     5     6   \n",
       "0008596c-3f2d-4fb4-b80e-0bff2a915169    1    1       0         0     1     1   \n",
       "00098dda-9e71-4e47-a144-4046032ebb59    1    1       0         0     1     1   \n",
       "000b107f-952a-4082-9153-8938ea3576d2    3    3       0         0     3     3   \n",
       "\n",
       "                                      szrid  tBuf  tIBuf  tLBuf  tPld  tVH  \\\n",
       "tid                                                                          \n",
       "0000dc43-0653-4dd3-be67-1710eddbbef2      2     2      2      2     2    2   \n",
       "00012b82-1ab4-4109-a1f0-53ac7073db93      3     3      3      3     3    3   \n",
       "00034ba6-ccb3-4c22-9af3-5a7df3d991cf      3     3      3      3     3    3   \n",
       "00044168-4c0a-4b80-b3a7-9804427c3cc1      6     6      6      6     6    6   \n",
       "00056954-6e24-4135-8dc9-98937506358a      1     1      1      1     1    1   \n",
       "00061daf-d2d7-442c-9008-c81991e2e0f8      1     1      1      1     1    1   \n",
       "00070c33-1bea-47f9-89d0-d49e05f9e30e      6     6      6      6     6    6   \n",
       "0008596c-3f2d-4fb4-b80e-0bff2a915169      1     1      1      1     1    1   \n",
       "00098dda-9e71-4e47-a144-4046032ebb59      1     1      1      1     1    1   \n",
       "000b107f-952a-4082-9153-8938ea3576d2      3     3      3      3     3    3   \n",
       "\n",
       "                                      type  uid  churn  \n",
       "tid                                                     \n",
       "0000dc43-0653-4dd3-be67-1710eddbbef2     2    2      2  \n",
       "00012b82-1ab4-4109-a1f0-53ac7073db93     3    3      3  \n",
       "00034ba6-ccb3-4c22-9af3-5a7df3d991cf     3    3      3  \n",
       "00044168-4c0a-4b80-b3a7-9804427c3cc1     6    6      6  \n",
       "00056954-6e24-4135-8dc9-98937506358a     1    1      1  \n",
       "00061daf-d2d7-442c-9008-c81991e2e0f8     1    1      1  \n",
       "00070c33-1bea-47f9-89d0-d49e05f9e30e     6    6      6  \n",
       "0008596c-3f2d-4fb4-b80e-0bff2a915169     1    1      1  \n",
       "00098dda-9e71-4e47-a144-4046032ebb59     1    1      1  \n",
       "000b107f-952a-4082-9153-8938ea3576d2     3    3      3  "
      ]
     },
     "execution_count": 54,
     "metadata": {},
     "output_type": "execute_result"
    }
   ],
   "source": [
    "tmp_dfs.groupby('tid').count().iloc[:10,:]\n",
    "# Not useful.."
   ]
  },
  {
   "cell_type": "markdown",
   "metadata": {},
   "source": [
    "### Let's see what are those.."
   ]
  },
  {
   "cell_type": "code",
   "execution_count": 55,
   "metadata": {
    "collapsed": true
   },
   "outputs": [],
   "source": [
    "tid_grouped = tmp_dfs.groupby('tid')"
   ]
  },
  {
   "cell_type": "code",
   "execution_count": 56,
   "metadata": {},
   "outputs": [
    {
     "data": {
      "text/plain": [
       "dict"
      ]
     },
     "execution_count": 56,
     "metadata": {},
     "output_type": "execute_result"
    }
   ],
   "source": [
    "type(tid_grouped.groups)"
   ]
  },
  {
   "cell_type": "code",
   "execution_count": 57,
   "metadata": {},
   "outputs": [
    {
     "data": {
      "text/plain": [
       "[u'6fac8ee6-69c6-4a92-851b-9e0a055694bb',\n",
       " u'9cf0b8cf-3e38-4324-8b39-e4133a9d83c7',\n",
       " u'6c9305ea-fe8e-4252-8b89-e5724dc3a6f5',\n",
       " u'b83c45a3-5f4b-4d83-a4a5-d5e2eac6aec6',\n",
       " u'c48656f1-42d3-4f82-8be9-5def0b03a26c']"
      ]
     },
     "execution_count": 57,
     "metadata": {},
     "output_type": "execute_result"
    }
   ],
   "source": [
    "tid_grouped.groups.keys()[:5]"
   ]
  },
  {
   "cell_type": "code",
   "execution_count": 58,
   "metadata": {},
   "outputs": [
    {
     "name": "stdout",
     "output_type": "stream",
     "text": [
      "64727\n"
     ]
    }
   ],
   "source": [
    "# How many 'tid's\n",
    "print len(tid_grouped.groups.keys())"
   ]
  },
  {
   "cell_type": "code",
   "execution_count": 59,
   "metadata": {},
   "outputs": [
    {
     "name": "stdout",
     "output_type": "stream",
     "text": [
      "tid_lst:  64727\n"
     ]
    }
   ],
   "source": [
    "tid_lst = tmp_dfs['tid'].unique()\n",
    "print 'tid_lst: ',len(tid_lst)"
   ]
  },
  {
   "cell_type": "code",
   "execution_count": 60,
   "metadata": {
    "scrolled": false
   },
   "outputs": [
    {
     "name": "stdout",
     "output_type": "stream",
     "text": [
      "<tid>:  4e7475b2-0b88-461f-9387-0a9b77251df8\n",
      "\n",
      "<tid dataframe>:                       ts2      drt  \\\n",
      "0 2017-03-31 23:56:07.535  2234000   \n",
      "\n",
      "                                              errmsg   mplyevnt   spos  \\\n",
      "0  com.google.android.exoplayer.audio.AudioTrack$...  iBufStart  V0009   \n",
      "\n",
      "                                   ssid                                 szrid  \\\n",
      "0  be86c466-c943-4f35-86f0-e7dbe678def0  57d80ee3-4563-40c1-a64d-15a66c60edba   \n",
      "\n",
      "   tBuf  tIBuf  tLBuf   tPld    tVH                                   tid  \\\n",
      "0   821      6   5003  49377  59880  4e7475b2-0b88-461f-9387-0a9b77251df8   \n",
      "\n",
      "  type            uid  churn  \n",
      "0   vh  WUCH155103440  False  \n",
      "<class 'pandas.core.frame.DataFrame'>\n",
      "================================================================================\n",
      "\n",
      "<tid>:  7e588404-453f-4a45-a8aa-05b6b0ae5be4\n",
      "\n",
      "<tid dataframe>:                          ts2      drt  \\\n",
      "1    2017-03-31 23:57:12.602  5974000   \n",
      "38   2017-03-31 23:57:17.607  1512000   \n",
      "510  2017-03-31 23:57:27.618  3198000   \n",
      "1137 2017-03-31 23:57:47.640        0   \n",
      "1284 2017-03-31 23:57:52.646        0   \n",
      "1467 2017-03-31 23:57:57.651        0   \n",
      "1830 2017-03-31 23:58:07.662        0   \n",
      "\n",
      "                                                 errmsg   mplyevnt   spos  \\\n",
      "1     com.google.android.exoplayer.audio.AudioTrack$...  iBufStart  V0034   \n",
      "38               Unexpected IllegalStateException: null      brchg  V0053   \n",
      "510                                                 NaN      brchg  V0007   \n",
      "1137                                                NaN        NaN  V0073   \n",
      "1284                                                NaN        NaN  V0045   \n",
      "1467                                                NaN        NaN  V0052   \n",
      "1830                                                NaN        NaN    NaN   \n",
      "\n",
      "                                      ssid  \\\n",
      "1     894819a2-ca4a-47d9-9e5c-6bd2ce54277e   \n",
      "38    894819a2-ca4a-47d9-9e5c-6bd2ce54277e   \n",
      "510   894819a2-ca4a-47d9-9e5c-6bd2ce54277e   \n",
      "1137  894819a2-ca4a-47d9-9e5c-6bd2ce54277e   \n",
      "1284  894819a2-ca4a-47d9-9e5c-6bd2ce54277e   \n",
      "1467  894819a2-ca4a-47d9-9e5c-6bd2ce54277e   \n",
      "1830  894819a2-ca4a-47d9-9e5c-6bd2ce54277e   \n",
      "\n",
      "                                     szrid  tBuf  tIBuf  tLBuf    tPld    tVH  \\\n",
      "1     dc742456-10a3-48a5-9d4d-d8e8b220b069   208      6   5003   72154  36047   \n",
      "38    dc742456-10a3-48a5-9d4d-d8e8b220b069   207      6   5004  205631  59997   \n",
      "510   dc742456-10a3-48a5-9d4d-d8e8b220b069     0      0   5003       0  22221   \n",
      "1137  dc742456-10a3-48a5-9d4d-d8e8b220b069     0      0      0       0      0   \n",
      "1284  dc742456-10a3-48a5-9d4d-d8e8b220b069     0      0      0       0      0   \n",
      "1467  dc742456-10a3-48a5-9d4d-d8e8b220b069     0      0      0       0      0   \n",
      "1830  dc742456-10a3-48a5-9d4d-d8e8b220b069     0      0      0       0      0   \n",
      "\n",
      "                                       tid  type             uid  churn  \n",
      "1     7e588404-453f-4a45-a8aa-05b6b0ae5be4  lBuf  14110963601665  False  \n",
      "38    7e588404-453f-4a45-a8aa-05b6b0ae5be4  lBuf  14110963601665  False  \n",
      "510   7e588404-453f-4a45-a8aa-05b6b0ae5be4  lBuf  14110963601665  False  \n",
      "1137  7e588404-453f-4a45-a8aa-05b6b0ae5be4  lBuf  14110963601665  False  \n",
      "1284  7e588404-453f-4a45-a8aa-05b6b0ae5be4  lBuf  14110963601665  False  \n",
      "1467  7e588404-453f-4a45-a8aa-05b6b0ae5be4  lBuf  14110963601665  False  \n",
      "1830  7e588404-453f-4a45-a8aa-05b6b0ae5be4  lBuf  14110963601665  False  \n",
      "<class 'pandas.core.frame.DataFrame'>\n",
      "================================================================================\n",
      "\n"
     ]
    }
   ],
   "source": [
    "# Sample\n",
    "for tid in tid_lst[:2]:\n",
    "    print '<tid>: ',tid\n",
    "    print ''\n",
    "    print '<tid dataframe>:',tid_grouped.get_group(tid)\n",
    "    print type(tid_grouped.get_group(tid))\n",
    "    print '=='*40\n",
    "    print ''"
   ]
  },
  {
   "cell_type": "markdown",
   "metadata": {},
   "source": [
    "    1. It is sorted by timestamp which is nice\n",
    "    2. 'ssid', 'szrid', 'uid' could be same... Really?\n",
    "    3. How about 'type'?"
   ]
  },
  {
   "cell_type": "code",
   "execution_count": 61,
   "metadata": {},
   "outputs": [
    {
     "name": "stdout",
     "output_type": "stream",
     "text": [
      "tid with different_ssid_szrid_uid_churn:  Unset\n",
      "The number of tid with same ssid, szrid, uid and churn:  64726\n",
      "The number of tid with same type:  46537\n",
      "The number of unique tid:  64727\n",
      "False\n",
      "False\n"
     ]
    }
   ],
   "source": [
    "# let's see\n",
    "i=0;j=0;\n",
    "for tid in tid_lst:\n",
    "    if all(tid_grouped.get_group(tid).apply(lambda x: min(x) == max(x))[['ssid','szrid','uid','churn']]):\n",
    "        i+=1;\n",
    "    else: \n",
    "        print 'tid with different_ssid_szrid_uid_churn: ',tid\n",
    "    if all(tid_grouped.get_group(tid).apply(lambda x: min(x) == max(x))[['type']]):\n",
    "        j+=1;\n",
    "print 'The number of tid with same ssid, szrid, uid and churn: ',i\n",
    "print 'The number of tid with same type: ',j\n",
    "print 'The number of unique tid: ',len(tid_lst)\n",
    "print i == len(tid_lst) # Every tid has this\n",
    "print j == len(tid_lst) # type are not same"
   ]
  },
  {
   "cell_type": "markdown",
   "metadata": {},
   "source": [
    "    <same ssid, szrid, uid and churn>\n",
    "    1. Off by 1 (# tid unique: 64727 vs 64726: # tid with same ssid, szrid, uid and churn)\n",
    "    2. Find that group with tid == 'Unset'\n",
    "    \n",
    "    <same type>\n",
    "    1. Off by a lot...\n",
    "    2. Thus, type can vary within a tid"
   ]
  },
  {
   "cell_type": "code",
   "execution_count": 62,
   "metadata": {
    "scrolled": false
   },
   "outputs": [
    {
     "data": {
      "text/html": [
       "<div>\n",
       "<style>\n",
       "    .dataframe thead tr:only-child th {\n",
       "        text-align: right;\n",
       "    }\n",
       "\n",
       "    .dataframe thead th {\n",
       "        text-align: left;\n",
       "    }\n",
       "\n",
       "    .dataframe tbody tr th {\n",
       "        vertical-align: top;\n",
       "    }\n",
       "</style>\n",
       "<table border=\"1\" class=\"dataframe\">\n",
       "  <thead>\n",
       "    <tr style=\"text-align: right;\">\n",
       "      <th></th>\n",
       "      <th>ts2</th>\n",
       "      <th>drt</th>\n",
       "      <th>errmsg</th>\n",
       "      <th>mplyevnt</th>\n",
       "      <th>spos</th>\n",
       "      <th>ssid</th>\n",
       "      <th>szrid</th>\n",
       "      <th>tBuf</th>\n",
       "      <th>tIBuf</th>\n",
       "      <th>tLBuf</th>\n",
       "      <th>tPld</th>\n",
       "      <th>tVH</th>\n",
       "      <th>tid</th>\n",
       "      <th>type</th>\n",
       "      <th>uid</th>\n",
       "      <th>churn</th>\n",
       "    </tr>\n",
       "  </thead>\n",
       "  <tbody>\n",
       "    <tr>\n",
       "      <th>153</th>\n",
       "      <td>2017-03-31 23:55:07.460</td>\n",
       "      <td>2679000</td>\n",
       "      <td>NaN</td>\n",
       "      <td>bufStart</td>\n",
       "      <td>V0037</td>\n",
       "      <td>1a52f33a-af63-4787-bd1c-6ada10dd102f</td>\n",
       "      <td>387fb0a0-667b-4e32-acb9-ba37aa7841b0</td>\n",
       "      <td>0</td>\n",
       "      <td>0</td>\n",
       "      <td>5004</td>\n",
       "      <td>0</td>\n",
       "      <td>10000</td>\n",
       "      <td>Unset</td>\n",
       "      <td>plyRdy</td>\n",
       "      <td>WUCH155101122</td>\n",
       "      <td>False</td>\n",
       "    </tr>\n",
       "    <tr>\n",
       "      <th>201</th>\n",
       "      <td>2017-03-31 23:55:07.463</td>\n",
       "      <td>3533000</td>\n",
       "      <td>NaN</td>\n",
       "      <td>bufStart</td>\n",
       "      <td>V0000</td>\n",
       "      <td>1a52f33a-af63-4787-bd1c-6ada10dd102f</td>\n",
       "      <td>387fb0a0-667b-4e32-acb9-ba37aa7841b0</td>\n",
       "      <td>0</td>\n",
       "      <td>0</td>\n",
       "      <td>5004</td>\n",
       "      <td>0</td>\n",
       "      <td>59867</td>\n",
       "      <td>Unset</td>\n",
       "      <td>mplyevent</td>\n",
       "      <td>WUCH155101122</td>\n",
       "      <td>False</td>\n",
       "    </tr>\n",
       "    <tr>\n",
       "      <th>594</th>\n",
       "      <td>2017-03-31 23:56:22.962</td>\n",
       "      <td>2897000</td>\n",
       "      <td>NaN</td>\n",
       "      <td>NaN</td>\n",
       "      <td>V0066</td>\n",
       "      <td>02b7e66a-d6d3-4f0a-a228-0aa3214496e0</td>\n",
       "      <td>a6ce7a11-3b65-4e6c-b048-5a1af639f197</td>\n",
       "      <td>0</td>\n",
       "      <td>0</td>\n",
       "      <td>0</td>\n",
       "      <td>0</td>\n",
       "      <td>32010</td>\n",
       "      <td>Unset</td>\n",
       "      <td>mplyevent</td>\n",
       "      <td>WUCH155100177</td>\n",
       "      <td>True</td>\n",
       "    </tr>\n",
       "    <tr>\n",
       "      <th>682</th>\n",
       "      <td>2017-03-31 23:57:31.873</td>\n",
       "      <td>0</td>\n",
       "      <td>NaN</td>\n",
       "      <td>NaN</td>\n",
       "      <td>V0046</td>\n",
       "      <td>dc380759-21a3-4d49-8158-7414ebd4496d</td>\n",
       "      <td>6edf787c-6c02-4537-b8b1-9aee1d4d2c58</td>\n",
       "      <td>0</td>\n",
       "      <td>0</td>\n",
       "      <td>0</td>\n",
       "      <td>0</td>\n",
       "      <td>0</td>\n",
       "      <td>Unset</td>\n",
       "      <td>mplyevent</td>\n",
       "      <td>14110962300019</td>\n",
       "      <td>False</td>\n",
       "    </tr>\n",
       "    <tr>\n",
       "      <th>1148</th>\n",
       "      <td>2017-03-31 23:55:41.422</td>\n",
       "      <td>0</td>\n",
       "      <td>NaN</td>\n",
       "      <td>NaN</td>\n",
       "      <td>V0003</td>\n",
       "      <td>084a3f86-7ea8-4266-8b64-3527a5fd0fcf</td>\n",
       "      <td>4fd26cd7-f05b-4b3c-a0a6-c65d890bd57e</td>\n",
       "      <td>0</td>\n",
       "      <td>0</td>\n",
       "      <td>0</td>\n",
       "      <td>0</td>\n",
       "      <td>0</td>\n",
       "      <td>Unset</td>\n",
       "      <td>plyRdy</td>\n",
       "      <td>WUCH155102898</td>\n",
       "      <td>False</td>\n",
       "    </tr>\n",
       "    <tr>\n",
       "      <th>1378</th>\n",
       "      <td>2017-03-31 23:57:58.293</td>\n",
       "      <td>0</td>\n",
       "      <td>NaN</td>\n",
       "      <td>NaN</td>\n",
       "      <td>V0050</td>\n",
       "      <td>dc537617-63f9-49c5-a990-7cdf6904ef56</td>\n",
       "      <td>44eb3f13-81be-4f60-b84f-6443fbd9dab8</td>\n",
       "      <td>0</td>\n",
       "      <td>0</td>\n",
       "      <td>0</td>\n",
       "      <td>0</td>\n",
       "      <td>0</td>\n",
       "      <td>Unset</td>\n",
       "      <td>plyRdy</td>\n",
       "      <td>WUCH155104392</td>\n",
       "      <td>False</td>\n",
       "    </tr>\n",
       "    <tr>\n",
       "      <th>1460</th>\n",
       "      <td>2017-03-31 23:57:58.296</td>\n",
       "      <td>0</td>\n",
       "      <td>NaN</td>\n",
       "      <td>NaN</td>\n",
       "      <td>V0063</td>\n",
       "      <td>dc537617-63f9-49c5-a990-7cdf6904ef56</td>\n",
       "      <td>44eb3f13-81be-4f60-b84f-6443fbd9dab8</td>\n",
       "      <td>0</td>\n",
       "      <td>0</td>\n",
       "      <td>0</td>\n",
       "      <td>0</td>\n",
       "      <td>0</td>\n",
       "      <td>Unset</td>\n",
       "      <td>mplyevent</td>\n",
       "      <td>WUCH155104392</td>\n",
       "      <td>False</td>\n",
       "    </tr>\n",
       "    <tr>\n",
       "      <th>1604</th>\n",
       "      <td>2017-03-31 23:54:55.674</td>\n",
       "      <td>0</td>\n",
       "      <td>NaN</td>\n",
       "      <td>NaN</td>\n",
       "      <td>V0038</td>\n",
       "      <td>ad6a4964-43b7-41e7-9c95-950ac4b931ba</td>\n",
       "      <td>914e6039-ed81-414a-add6-0092c62eb0b5</td>\n",
       "      <td>0</td>\n",
       "      <td>0</td>\n",
       "      <td>0</td>\n",
       "      <td>0</td>\n",
       "      <td>0</td>\n",
       "      <td>Unset</td>\n",
       "      <td>plyRdy</td>\n",
       "      <td>WUCH155102391</td>\n",
       "      <td>False</td>\n",
       "    </tr>\n",
       "    <tr>\n",
       "      <th>1872</th>\n",
       "      <td>2017-03-31 23:58:15.032</td>\n",
       "      <td>0</td>\n",
       "      <td>NaN</td>\n",
       "      <td>NaN</td>\n",
       "      <td>NaN</td>\n",
       "      <td>3ea2cd47-62fb-4dd2-a17e-097b39e4ce80</td>\n",
       "      <td>c351c96e-adf1-4d3d-82fe-6fe25493f3ff</td>\n",
       "      <td>0</td>\n",
       "      <td>0</td>\n",
       "      <td>0</td>\n",
       "      <td>0</td>\n",
       "      <td>0</td>\n",
       "      <td>Unset</td>\n",
       "      <td>mplyevent</td>\n",
       "      <td>WUCH155100947</td>\n",
       "      <td>False</td>\n",
       "    </tr>\n",
       "    <tr>\n",
       "      <th>1962</th>\n",
       "      <td>2017-03-31 23:58:15.029</td>\n",
       "      <td>0</td>\n",
       "      <td>NaN</td>\n",
       "      <td>NaN</td>\n",
       "      <td>NaN</td>\n",
       "      <td>3ea2cd47-62fb-4dd2-a17e-097b39e4ce80</td>\n",
       "      <td>c351c96e-adf1-4d3d-82fe-6fe25493f3ff</td>\n",
       "      <td>0</td>\n",
       "      <td>0</td>\n",
       "      <td>0</td>\n",
       "      <td>0</td>\n",
       "      <td>0</td>\n",
       "      <td>Unset</td>\n",
       "      <td>plyRdy</td>\n",
       "      <td>WUCH155100947</td>\n",
       "      <td>False</td>\n",
       "    </tr>\n",
       "  </tbody>\n",
       "</table>\n",
       "</div>"
      ],
      "text/plain": [
       "                         ts2      drt errmsg  mplyevnt   spos  \\\n",
       "153  2017-03-31 23:55:07.460  2679000    NaN  bufStart  V0037   \n",
       "201  2017-03-31 23:55:07.463  3533000    NaN  bufStart  V0000   \n",
       "594  2017-03-31 23:56:22.962  2897000    NaN       NaN  V0066   \n",
       "682  2017-03-31 23:57:31.873        0    NaN       NaN  V0046   \n",
       "1148 2017-03-31 23:55:41.422        0    NaN       NaN  V0003   \n",
       "1378 2017-03-31 23:57:58.293        0    NaN       NaN  V0050   \n",
       "1460 2017-03-31 23:57:58.296        0    NaN       NaN  V0063   \n",
       "1604 2017-03-31 23:54:55.674        0    NaN       NaN  V0038   \n",
       "1872 2017-03-31 23:58:15.032        0    NaN       NaN    NaN   \n",
       "1962 2017-03-31 23:58:15.029        0    NaN       NaN    NaN   \n",
       "\n",
       "                                      ssid  \\\n",
       "153   1a52f33a-af63-4787-bd1c-6ada10dd102f   \n",
       "201   1a52f33a-af63-4787-bd1c-6ada10dd102f   \n",
       "594   02b7e66a-d6d3-4f0a-a228-0aa3214496e0   \n",
       "682   dc380759-21a3-4d49-8158-7414ebd4496d   \n",
       "1148  084a3f86-7ea8-4266-8b64-3527a5fd0fcf   \n",
       "1378  dc537617-63f9-49c5-a990-7cdf6904ef56   \n",
       "1460  dc537617-63f9-49c5-a990-7cdf6904ef56   \n",
       "1604  ad6a4964-43b7-41e7-9c95-950ac4b931ba   \n",
       "1872  3ea2cd47-62fb-4dd2-a17e-097b39e4ce80   \n",
       "1962  3ea2cd47-62fb-4dd2-a17e-097b39e4ce80   \n",
       "\n",
       "                                     szrid  tBuf  tIBuf  tLBuf  tPld    tVH  \\\n",
       "153   387fb0a0-667b-4e32-acb9-ba37aa7841b0     0      0   5004     0  10000   \n",
       "201   387fb0a0-667b-4e32-acb9-ba37aa7841b0     0      0   5004     0  59867   \n",
       "594   a6ce7a11-3b65-4e6c-b048-5a1af639f197     0      0      0     0  32010   \n",
       "682   6edf787c-6c02-4537-b8b1-9aee1d4d2c58     0      0      0     0      0   \n",
       "1148  4fd26cd7-f05b-4b3c-a0a6-c65d890bd57e     0      0      0     0      0   \n",
       "1378  44eb3f13-81be-4f60-b84f-6443fbd9dab8     0      0      0     0      0   \n",
       "1460  44eb3f13-81be-4f60-b84f-6443fbd9dab8     0      0      0     0      0   \n",
       "1604  914e6039-ed81-414a-add6-0092c62eb0b5     0      0      0     0      0   \n",
       "1872  c351c96e-adf1-4d3d-82fe-6fe25493f3ff     0      0      0     0      0   \n",
       "1962  c351c96e-adf1-4d3d-82fe-6fe25493f3ff     0      0      0     0      0   \n",
       "\n",
       "        tid       type             uid  churn  \n",
       "153   Unset     plyRdy   WUCH155101122  False  \n",
       "201   Unset  mplyevent   WUCH155101122  False  \n",
       "594   Unset  mplyevent   WUCH155100177   True  \n",
       "682   Unset  mplyevent  14110962300019  False  \n",
       "1148  Unset     plyRdy   WUCH155102898  False  \n",
       "1378  Unset     plyRdy   WUCH155104392  False  \n",
       "1460  Unset  mplyevent   WUCH155104392  False  \n",
       "1604  Unset     plyRdy   WUCH155102391  False  \n",
       "1872  Unset  mplyevent   WUCH155100947  False  \n",
       "1962  Unset     plyRdy   WUCH155100947  False  "
      ]
     },
     "execution_count": 62,
     "metadata": {},
     "output_type": "execute_result"
    }
   ],
   "source": [
    "tid_grouped.get_group('Unset').iloc[:10,:] # group with tid == Unset"
   ]
  },
  {
   "cell_type": "markdown",
   "metadata": {},
   "source": [
    "    1. Many different ssid, szrid, uid and churn with the group with tid == 'Unset'\n",
    "    2. It's better to remove this group with tid == 'Unset'"
   ]
  },
  {
   "cell_type": "markdown",
   "metadata": {},
   "source": [
    "### Drop tid == 'Unset'"
   ]
  },
  {
   "cell_type": "code",
   "execution_count": 63,
   "metadata": {},
   "outputs": [
    {
     "name": "stdout",
     "output_type": "stream",
     "text": [
      "whole:  (182000, 16)\n",
      "tid==Unset:  (2253, 16)\n",
      "after removing tid==Unset:  179747\n"
     ]
    }
   ],
   "source": [
    "print 'whole: ',tmp_dfs.shape\n",
    "print 'tid==Unset: ',tmp_dfs[tmp_dfs['tid']=='Unset'].shape\n",
    "print 'after removing tid==Unset: ', tmp_dfs.shape[0] - tmp_dfs[tmp_dfs['tid']=='Unset'].shape[0]"
   ]
  },
  {
   "cell_type": "code",
   "execution_count": 64,
   "metadata": {
    "collapsed": true
   },
   "outputs": [],
   "source": [
    "tmp_dfs_rmv_tid_Uns = tmp_dfs[tmp_dfs['tid']!='Unset']"
   ]
  },
  {
   "cell_type": "code",
   "execution_count": 65,
   "metadata": {},
   "outputs": [
    {
     "data": {
      "text/plain": [
       "(179747, 16)"
      ]
     },
     "execution_count": 65,
     "metadata": {},
     "output_type": "execute_result"
    }
   ],
   "source": [
    "tmp_dfs_rmv_tid_Uns.shape "
   ]
  },
  {
   "cell_type": "code",
   "execution_count": 66,
   "metadata": {},
   "outputs": [
    {
     "name": "stdout",
     "output_type": "stream",
     "text": [
      "64726\n",
      "tid_rmv_tid_Uns_lst:  64726\n"
     ]
    }
   ],
   "source": [
    "tid_rmv_tid_Uns_grouped = tmp_dfs_rmv_tid_Uns.groupby('tid') \n",
    "\n",
    "# How many 'tid's\n",
    "print len(tid_rmv_tid_Uns_grouped.groups.keys())\n",
    "\n",
    "# How many 'tid's\n",
    "tid_rmv_tid_Uns_lst = tmp_dfs_rmv_tid_Uns['tid'].unique()\n",
    "print 'tid_rmv_tid_Uns_lst: ',len(tid_rmv_tid_Uns_lst)"
   ]
  },
  {
   "cell_type": "code",
   "execution_count": 67,
   "metadata": {},
   "outputs": [
    {
     "name": "stdout",
     "output_type": "stream",
     "text": [
      "The number of tid with same ssid, szrid, uid and churn:  64726\n",
      "The number of tid with same type:  46537\n",
      "The number of unique tid:  64726\n",
      "True\n",
      "False\n"
     ]
    }
   ],
   "source": [
    "# let's see\n",
    "i=0;j=0;\n",
    "for tid in tid_rmv_tid_Uns_lst:\n",
    "    if all(tid_rmv_tid_Uns_grouped.get_group(tid).apply(lambda x: min(x) == max(x))[['ssid','szrid','uid','churn']]):\n",
    "        i+=1;\n",
    "    else: \n",
    "        print 'tid with different_ssid_szrid_uid_churn: ',tid\n",
    "    if all(tid_rmv_tid_Uns_grouped.get_group(tid).apply(lambda x: min(x) == max(x))[['type']]):\n",
    "        j+=1;\n",
    "print 'The number of tid with same ssid, szrid, uid and churn: ',i\n",
    "print 'The number of tid with same type: ',j\n",
    "print 'The number of unique tid: ',len(tid_rmv_tid_Uns_lst)\n",
    "print i == len(tid_rmv_tid_Uns_lst) # Every tid has this\n",
    "print j == len(tid_rmv_tid_Uns_lst) # type are not same"
   ]
  },
  {
   "cell_type": "code",
   "execution_count": 68,
   "metadata": {
    "scrolled": false
   },
   "outputs": [
    {
     "name": "stdout",
     "output_type": "stream",
     "text": [
      "<tid>:  4e7475b2-0b88-461f-9387-0a9b77251df8\n",
      "\n",
      "<tid dataframe>:                       ts2      drt  \\\n",
      "0 2017-03-31 23:56:07.535  2234000   \n",
      "\n",
      "                                              errmsg   mplyevnt   spos  \\\n",
      "0  com.google.android.exoplayer.audio.AudioTrack$...  iBufStart  V0009   \n",
      "\n",
      "                                   ssid                                 szrid  \\\n",
      "0  be86c466-c943-4f35-86f0-e7dbe678def0  57d80ee3-4563-40c1-a64d-15a66c60edba   \n",
      "\n",
      "   tBuf  tIBuf  tLBuf   tPld    tVH                                   tid  \\\n",
      "0   821      6   5003  49377  59880  4e7475b2-0b88-461f-9387-0a9b77251df8   \n",
      "\n",
      "  type            uid  churn  \n",
      "0   vh  WUCH155103440  False  \n",
      "<class 'pandas.core.frame.DataFrame'>\n",
      "================================================================================\n",
      "\n",
      "<tid>:  7e588404-453f-4a45-a8aa-05b6b0ae5be4\n",
      "\n",
      "<tid dataframe>:                          ts2      drt  \\\n",
      "1    2017-03-31 23:57:12.602  5974000   \n",
      "38   2017-03-31 23:57:17.607  1512000   \n",
      "510  2017-03-31 23:57:27.618  3198000   \n",
      "1137 2017-03-31 23:57:47.640        0   \n",
      "1284 2017-03-31 23:57:52.646        0   \n",
      "1467 2017-03-31 23:57:57.651        0   \n",
      "1830 2017-03-31 23:58:07.662        0   \n",
      "\n",
      "                                                 errmsg   mplyevnt   spos  \\\n",
      "1     com.google.android.exoplayer.audio.AudioTrack$...  iBufStart  V0034   \n",
      "38               Unexpected IllegalStateException: null      brchg  V0053   \n",
      "510                                                 NaN      brchg  V0007   \n",
      "1137                                                NaN        NaN  V0073   \n",
      "1284                                                NaN        NaN  V0045   \n",
      "1467                                                NaN        NaN  V0052   \n",
      "1830                                                NaN        NaN    NaN   \n",
      "\n",
      "                                      ssid  \\\n",
      "1     894819a2-ca4a-47d9-9e5c-6bd2ce54277e   \n",
      "38    894819a2-ca4a-47d9-9e5c-6bd2ce54277e   \n",
      "510   894819a2-ca4a-47d9-9e5c-6bd2ce54277e   \n",
      "1137  894819a2-ca4a-47d9-9e5c-6bd2ce54277e   \n",
      "1284  894819a2-ca4a-47d9-9e5c-6bd2ce54277e   \n",
      "1467  894819a2-ca4a-47d9-9e5c-6bd2ce54277e   \n",
      "1830  894819a2-ca4a-47d9-9e5c-6bd2ce54277e   \n",
      "\n",
      "                                     szrid  tBuf  tIBuf  tLBuf    tPld    tVH  \\\n",
      "1     dc742456-10a3-48a5-9d4d-d8e8b220b069   208      6   5003   72154  36047   \n",
      "38    dc742456-10a3-48a5-9d4d-d8e8b220b069   207      6   5004  205631  59997   \n",
      "510   dc742456-10a3-48a5-9d4d-d8e8b220b069     0      0   5003       0  22221   \n",
      "1137  dc742456-10a3-48a5-9d4d-d8e8b220b069     0      0      0       0      0   \n",
      "1284  dc742456-10a3-48a5-9d4d-d8e8b220b069     0      0      0       0      0   \n",
      "1467  dc742456-10a3-48a5-9d4d-d8e8b220b069     0      0      0       0      0   \n",
      "1830  dc742456-10a3-48a5-9d4d-d8e8b220b069     0      0      0       0      0   \n",
      "\n",
      "                                       tid  type             uid  churn  \n",
      "1     7e588404-453f-4a45-a8aa-05b6b0ae5be4  lBuf  14110963601665  False  \n",
      "38    7e588404-453f-4a45-a8aa-05b6b0ae5be4  lBuf  14110963601665  False  \n",
      "510   7e588404-453f-4a45-a8aa-05b6b0ae5be4  lBuf  14110963601665  False  \n",
      "1137  7e588404-453f-4a45-a8aa-05b6b0ae5be4  lBuf  14110963601665  False  \n",
      "1284  7e588404-453f-4a45-a8aa-05b6b0ae5be4  lBuf  14110963601665  False  \n",
      "1467  7e588404-453f-4a45-a8aa-05b6b0ae5be4  lBuf  14110963601665  False  \n",
      "1830  7e588404-453f-4a45-a8aa-05b6b0ae5be4  lBuf  14110963601665  False  \n",
      "<class 'pandas.core.frame.DataFrame'>\n",
      "================================================================================\n",
      "\n"
     ]
    }
   ],
   "source": [
    "# Sample\n",
    "for tid in tid_rmv_tid_Uns_lst[0:2]:\n",
    "    print '<tid>: ',tid\n",
    "    print ''\n",
    "    print '<tid dataframe>:',tid_rmv_tid_Uns_grouped.get_group(tid)\n",
    "    print type(tid_rmv_tid_Uns_grouped.get_group(tid))\n",
    "    print '=='*40\n",
    "    print ''"
   ]
  },
  {
   "cell_type": "markdown",
   "metadata": {},
   "source": [
    "    1. O.K. Now, 'ssid','szrid','uid' are all same\n",
    "    2. 'type' is not the same"
   ]
  },
  {
   "cell_type": "markdown",
   "metadata": {},
   "source": [
    "### Groupby uid"
   ]
  },
  {
   "cell_type": "code",
   "execution_count": 69,
   "metadata": {},
   "outputs": [
    {
     "name": "stdout",
     "output_type": "stream",
     "text": [
      "[u'WUCH155102022', u'WUCH155102023', u'WUCH155102027', u'WUCH155102025', u'WUCH155102028']\n"
     ]
    }
   ],
   "source": [
    "uid_grouped = tmp_dfs.groupby('uid')\n",
    "print uid_grouped.groups.keys()[:5]"
   ]
  },
  {
   "cell_type": "code",
   "execution_count": 70,
   "metadata": {},
   "outputs": [
    {
     "name": "stdout",
     "output_type": "stream",
     "text": [
      "4197\n"
     ]
    }
   ],
   "source": [
    "# How many 'uid's\n",
    "print len(uid_grouped.groups.keys())"
   ]
  },
  {
   "cell_type": "code",
   "execution_count": 71,
   "metadata": {},
   "outputs": [
    {
     "name": "stdout",
     "output_type": "stream",
     "text": [
      "uid_lst:  4197\n"
     ]
    }
   ],
   "source": [
    "uid_lst = tmp_dfs['uid'].unique()\n",
    "print 'uid_lst: ',len(uid_lst)"
   ]
  },
  {
   "cell_type": "code",
   "execution_count": 72,
   "metadata": {
    "scrolled": false
   },
   "outputs": [
    {
     "name": "stdout",
     "output_type": "stream",
     "text": [
      "<uid>:  WUCH155103440\n",
      "\n",
      "<uid dataframe>:                            ts2      drt  \\\n",
      "0      2017-03-31 23:56:07.535  2234000   \n",
      "8659   2017-04-04 23:59:10.832  3169000   \n",
      "10779  2017-04-05 23:58:55.037        0   \n",
      "19644  2017-04-09 23:44:53.721        0   \n",
      "38462  2017-04-19 23:49:18.169  5066000   \n",
      "45519  2017-04-22 23:46:04.536        0   \n",
      "89330  2017-05-14 23:48:42.355        0   \n",
      "97491  2017-05-18 23:49:16.120        0   \n",
      "106051 2017-05-23 23:50:50.805  3049000   \n",
      "109840 2017-05-24 23:52:04.730        0   \n",
      "122622 2017-05-31 23:48:22.227        0   \n",
      "127633 2017-06-02 23:47:50.102        0   \n",
      "127652 2017-06-02 23:47:50.310        0   \n",
      "127664 2017-06-02 23:47:49.299        0   \n",
      "127683 2017-06-02 23:47:50.307        0   \n",
      "137958 2017-06-07 23:50:34.925        0   \n",
      "166037 2017-06-22 23:52:50.786  4863000   \n",
      "166681 2017-06-22 23:53:18.798        0   \n",
      "166725 2017-06-22 23:53:18.796        0   \n",
      "166806 2017-06-22 23:53:22.801        0   \n",
      "166831 2017-06-22 23:53:22.805        0   \n",
      "167426 2017-06-22 23:53:46.775        0   \n",
      "168839 2017-06-23 23:53:43.668        0   \n",
      "169185 2017-06-23 23:53:59.580        0   \n",
      "169653 2017-06-23 23:54:15.593        0   \n",
      "169958 2017-06-23 23:54:26.583        0   \n",
      "171779 2017-06-24 23:56:21.936        0   \n",
      "171949 2017-06-24 23:56:29.885        0   \n",
      "173285 2017-06-25 23:53:27.383        0   \n",
      "173834 2017-06-25 23:53:47.385        0   \n",
      "176060 2017-06-27 23:55:21.533        0   \n",
      "177773 2017-06-27 23:56:17.537        0   \n",
      "\n",
      "                                                   errmsg   mplyevnt   spos  \\\n",
      "0       com.google.android.exoplayer.audio.AudioTrack$...  iBufStart  V0009   \n",
      "8659                                                  NaN        NaN  V0005   \n",
      "10779                                                 NaN        NaN  V0051   \n",
      "19644                                                 NaN        NaN  V0020   \n",
      "38462                                                 NaN        NaN  V0004   \n",
      "45519                                                 NaN        NaN  V0047   \n",
      "89330                                                 NaN        NaN  V0041   \n",
      "97491                                                 NaN        NaN  V0018   \n",
      "106051  com.google.android.exoplayer.audio.AudioTrack$...  iBufStart  V0033   \n",
      "109840                                                NaN        NaN    NaN   \n",
      "122622                                                NaN        NaN  V0027   \n",
      "127633                                                NaN        NaN  V0048   \n",
      "127652                                                NaN        NaN  V0061   \n",
      "127664                                                NaN        NaN  V0010   \n",
      "127683                                                NaN        NaN  V0048   \n",
      "137958                                                NaN        NaN    NaN   \n",
      "166037                                                NaN      brchg  V0003   \n",
      "166681                                                NaN        NaN  V0069   \n",
      "166725                                                NaN        NaN  V0033   \n",
      "166806                                                NaN        NaN  V0015   \n",
      "166831                                                NaN        NaN  V0044   \n",
      "167426                                                NaN        NaN  V0051   \n",
      "168839                                                NaN        NaN  V0062   \n",
      "169185                                                NaN        NaN  V0059   \n",
      "169653                                                NaN        NaN  V0042   \n",
      "169958                                                NaN        NaN    NaN   \n",
      "171779                                                NaN        NaN  V0016   \n",
      "171949                                                NaN        NaN    NaN   \n",
      "173285                                                NaN        NaN  V0030   \n",
      "173834                                                NaN        NaN  V0069   \n",
      "176060                                                NaN      brchg  V0003   \n",
      "177773                                                NaN        NaN  V0017   \n",
      "\n",
      "                                        ssid  \\\n",
      "0       be86c466-c943-4f35-86f0-e7dbe678def0   \n",
      "8659    2ca786f3-56f9-4b6e-84f3-4fb9db26dfb3   \n",
      "10779   08bc972c-7047-45a3-8edd-aa07ffd4f0e9   \n",
      "19644   526d695e-2d67-4898-bf62-5ab738688b4d   \n",
      "38462   e487368b-7651-410c-9e02-cb522eeab00e   \n",
      "45519   be384b5c-ae93-4c1f-a414-6603777b64e4   \n",
      "89330   a3713887-00e3-4186-b61c-6774fee244c4   \n",
      "97491   368db005-957b-4252-be24-3c476fc612e4   \n",
      "106051  bfa5d7a9-4aba-48b4-888e-5ccdc1334212   \n",
      "109840  fb63e01a-1bf0-4e85-af72-a065821fbcf5   \n",
      "122622  c185e2db-4cfa-47c4-91ba-f5f30f1f193c   \n",
      "127633  640ece60-2d0b-4826-9600-9d4af728100e   \n",
      "127652  640ece60-2d0b-4826-9600-9d4af728100e   \n",
      "127664  640ece60-2d0b-4826-9600-9d4af728100e   \n",
      "127683  640ece60-2d0b-4826-9600-9d4af728100e   \n",
      "137958  fba3d844-7545-47eb-a769-f6a6b798b1f6   \n",
      "166037  9ec29157-9a01-4b57-8334-e7d265d8d317   \n",
      "166681  9ec29157-9a01-4b57-8334-e7d265d8d317   \n",
      "166725  9ec29157-9a01-4b57-8334-e7d265d8d317   \n",
      "166806  9ec29157-9a01-4b57-8334-e7d265d8d317   \n",
      "166831  9ec29157-9a01-4b57-8334-e7d265d8d317   \n",
      "167426  9ec29157-9a01-4b57-8334-e7d265d8d317   \n",
      "168839  5d749b5c-0c22-42e9-ad65-1b0fbd26e17a   \n",
      "169185  5d749b5c-0c22-42e9-ad65-1b0fbd26e17a   \n",
      "169653  5d749b5c-0c22-42e9-ad65-1b0fbd26e17a   \n",
      "169958  5d749b5c-0c22-42e9-ad65-1b0fbd26e17a   \n",
      "171779  119eee11-48d5-43f3-8fe5-cc928593680e   \n",
      "171949  119eee11-48d5-43f3-8fe5-cc928593680e   \n",
      "173285  93796a7b-d8cc-4a8b-a42e-fb3963c70699   \n",
      "173834  93796a7b-d8cc-4a8b-a42e-fb3963c70699   \n",
      "176060  7f1d0225-f19f-4bad-a482-e4535240fb77   \n",
      "177773  7f1d0225-f19f-4bad-a482-e4535240fb77   \n",
      "\n",
      "                                       szrid  tBuf  tIBuf  tLBuf     tPld  \\\n",
      "0       57d80ee3-4563-40c1-a64d-15a66c60edba   821      6   5003    49377   \n",
      "8659    57d80ee3-4563-40c1-a64d-15a66c60edba     0      0      0        0   \n",
      "10779   57d80ee3-4563-40c1-a64d-15a66c60edba     0      0      0        0   \n",
      "19644   57d80ee3-4563-40c1-a64d-15a66c60edba     0      0      0        0   \n",
      "38462   57d80ee3-4563-40c1-a64d-15a66c60edba     0      0   5003        0   \n",
      "45519   57d80ee3-4563-40c1-a64d-15a66c60edba     0      0      0        0   \n",
      "89330   57d80ee3-4563-40c1-a64d-15a66c60edba     0      0      0        0   \n",
      "97491   57d80ee3-4563-40c1-a64d-15a66c60edba     0      0      0        0   \n",
      "106051  57d80ee3-4563-40c1-a64d-15a66c60edba  3813      7   5004  8403514   \n",
      "109840  57d80ee3-4563-40c1-a64d-15a66c60edba     0      0      0        0   \n",
      "122622  57d80ee3-4563-40c1-a64d-15a66c60edba     0      0   5004        0   \n",
      "127633  57d80ee3-4563-40c1-a64d-15a66c60edba     0      0      0        0   \n",
      "127652  57d80ee3-4563-40c1-a64d-15a66c60edba     0      0      0        0   \n",
      "127664  57d80ee3-4563-40c1-a64d-15a66c60edba     0      0      0        0   \n",
      "127683  57d80ee3-4563-40c1-a64d-15a66c60edba     0      0      0        0   \n",
      "137958  57d80ee3-4563-40c1-a64d-15a66c60edba     0      0      0        0   \n",
      "166037  57d80ee3-4563-40c1-a64d-15a66c60edba  5004      0   5004        0   \n",
      "166681  57d80ee3-4563-40c1-a64d-15a66c60edba     0      0      0        0   \n",
      "166725  57d80ee3-4563-40c1-a64d-15a66c60edba     0      0      0        0   \n",
      "166806  57d80ee3-4563-40c1-a64d-15a66c60edba     0      0      0        0   \n",
      "166831  57d80ee3-4563-40c1-a64d-15a66c60edba     0      0      0        0   \n",
      "167426  57d80ee3-4563-40c1-a64d-15a66c60edba     0      0      0        0   \n",
      "168839  57d80ee3-4563-40c1-a64d-15a66c60edba     0      0      0        0   \n",
      "169185  57d80ee3-4563-40c1-a64d-15a66c60edba     0      0      0        0   \n",
      "169653  57d80ee3-4563-40c1-a64d-15a66c60edba     0      0      0        0   \n",
      "169958  57d80ee3-4563-40c1-a64d-15a66c60edba     0      0      0        0   \n",
      "171779  57d80ee3-4563-40c1-a64d-15a66c60edba     0      0      0        0   \n",
      "171949  57d80ee3-4563-40c1-a64d-15a66c60edba     0      0      0        0   \n",
      "173285  57d80ee3-4563-40c1-a64d-15a66c60edba     0      0      0        0   \n",
      "173834  57d80ee3-4563-40c1-a64d-15a66c60edba     0      0      0        0   \n",
      "176060  57d80ee3-4563-40c1-a64d-15a66c60edba  5003      0   5003        0   \n",
      "177773  57d80ee3-4563-40c1-a64d-15a66c60edba     0      0      0        0   \n",
      "\n",
      "          tVH                                   tid       type            uid  \\\n",
      "0       59880  4e7475b2-0b88-461f-9387-0a9b77251df8         vh  WUCH155103440   \n",
      "8659    39996  c9167cb3-3b91-4976-9b77-249bdb33d13a         vh  WUCH155103440   \n",
      "10779       0  38715be0-5557-4daf-8f43-9175ab5116bd         vh  WUCH155103440   \n",
      "19644       0  718e8af0-3264-4986-bf4c-727a96b96c3e         vh  WUCH155103440   \n",
      "38462    3975  3bb7c07d-7cd3-4c55-beb5-45eb40b0cbbc         vh  WUCH155103440   \n",
      "45519       0  1cd81662-2df3-483f-8a06-ec0e407e8dbf         vh  WUCH155103440   \n",
      "89330       0  c8493ed6-ad63-40c4-90d0-125bbf8c05c7         vh  WUCH155103440   \n",
      "97491       0  87706c71-1e65-4e93-98c8-c67081b13e5f         vh  WUCH155103440   \n",
      "106051  59861  d5e8bc8c-9851-45e7-9278-ad7c0d2b3a3b         vh  WUCH155103440   \n",
      "109840      0  c5504369-08a4-4b3b-a424-0785e95b97bc         vh  WUCH155103440   \n",
      "122622      0  5827800f-a85c-46f6-8472-23701136b3d0      upImg  WUCH155103440   \n",
      "127633      0  c178def1-21be-45b2-a9a6-60c46cf608f5  mplyevent  WUCH155103440   \n",
      "127652      0  c178def1-21be-45b2-a9a6-60c46cf608f5  mplyevent  WUCH155103440   \n",
      "127664      0  c178def1-21be-45b2-a9a6-60c46cf608f5  mplyevent  WUCH155103440   \n",
      "127683      0  c178def1-21be-45b2-a9a6-60c46cf608f5         vh  WUCH155103440   \n",
      "137958      0  96c61605-7847-47b6-b9c6-c5796934f65a         vh  WUCH155103440   \n",
      "166037  59942  b760f9e0-7f90-4883-9f39-84ecbe572c66  mplyevent  WUCH155103440   \n",
      "166681      0  b760f9e0-7f90-4883-9f39-84ecbe572c66         vh  WUCH155103440   \n",
      "166725      0  b760f9e0-7f90-4883-9f39-84ecbe572c66  mplyevent  WUCH155103440   \n",
      "166806      0  b760f9e0-7f90-4883-9f39-84ecbe572c66  mplyevent  WUCH155103440   \n",
      "166831      0  b760f9e0-7f90-4883-9f39-84ecbe572c66         vh  WUCH155103440   \n",
      "167426      0  b760f9e0-7f90-4883-9f39-84ecbe572c66  mplyevent  WUCH155103440   \n",
      "168839      0  819f0e0a-74a5-455e-8207-e0574e5c12be         vh  WUCH155103440   \n",
      "169185      0  819f0e0a-74a5-455e-8207-e0574e5c12be  mplyevent  WUCH155103440   \n",
      "169653      0  819f0e0a-74a5-455e-8207-e0574e5c12be  mplyevent  WUCH155103440   \n",
      "169958      0  819f0e0a-74a5-455e-8207-e0574e5c12be  mplyevent  WUCH155103440   \n",
      "171779      0  29089303-262b-43c7-8e01-0b91db668ddd         vh  WUCH155103440   \n",
      "171949      0  29089303-262b-43c7-8e01-0b91db668ddd  mplyevent  WUCH155103440   \n",
      "173285      0  a793d60b-ae63-4f5b-9ac8-4121fd1fafb7  mplyevent  WUCH155103440   \n",
      "173834      0  a793d60b-ae63-4f5b-9ac8-4121fd1fafb7         vh  WUCH155103440   \n",
      "176060  59865  a63254d6-35b9-4c58-b4cd-823c1d399631         vh  WUCH155103440   \n",
      "177773      0  a63254d6-35b9-4c58-b4cd-823c1d399631  mplyevent  WUCH155103440   \n",
      "\n",
      "        churn  \n",
      "0       False  \n",
      "8659    False  \n",
      "10779   False  \n",
      "19644   False  \n",
      "38462   False  \n",
      "45519   False  \n",
      "89330   False  \n",
      "97491   False  \n",
      "106051  False  \n",
      "109840  False  \n",
      "122622  False  \n",
      "127633  False  \n",
      "127652  False  \n",
      "127664  False  \n",
      "127683  False  \n",
      "137958  False  \n",
      "166037  False  \n",
      "166681  False  \n",
      "166725  False  \n",
      "166806  False  \n",
      "166831  False  \n",
      "167426  False  \n",
      "168839  False  \n",
      "169185  False  \n",
      "169653  False  \n",
      "169958  False  \n",
      "171779  False  \n",
      "171949  False  \n",
      "173285  False  \n",
      "173834  False  \n",
      "176060  False  \n",
      "177773  False  \n",
      "<class 'pandas.core.frame.DataFrame'>\n",
      "================================================================================\n",
      "\n"
     ]
    }
   ],
   "source": [
    "# Sample\n",
    "for uid in uid_lst[:1]:\n",
    "    print '<uid>: ',uid\n",
    "    print ''\n",
    "    print '<uid dataframe>:',uid_grouped.get_group(uid)\n",
    "    print type(uid_grouped.get_group(uid))\n",
    "    print '=='*40\n",
    "    print ''"
   ]
  },
  {
   "cell_type": "code",
   "execution_count": 73,
   "metadata": {
    "scrolled": true
   },
   "outputs": [
    {
     "name": "stdout",
     "output_type": "stream",
     "text": [
      "\n",
      "The number of uid with same szrid:  4063\n",
      "The number of uid with diff szrid:  134\n",
      "The number of unique uid:  4197\n",
      "True\n"
     ]
    }
   ],
   "source": [
    "# let's see\n",
    "i=0;j=0;\n",
    "for uid in uid_lst:\n",
    "    if all(uid_grouped.get_group(uid).apply(lambda x: min(x) == max(x))[['szrid']]):\n",
    "        i+=1;\n",
    "    else: \n",
    "        #print 'uid with different_szrid: ',uid\n",
    "        #print 'diff szrids: ',uid_grouped.get_group(uid)['szrid'].unique()  # diff szrids\n",
    "        #print ''\n",
    "        j+=1;\n",
    "print ''\n",
    "print 'The number of uid with same szrid: ',i\n",
    "print 'The number of uid with diff szrid: ',j\n",
    "print 'The number of unique uid: ',len(uid_lst)\n",
    "print (i+j) == len(uid_lst) "
   ]
  },
  {
   "cell_type": "code",
   "execution_count": 74,
   "metadata": {},
   "outputs": [
    {
     "name": "stdout",
     "output_type": "stream",
     "text": [
      "\n",
      "The number of uid with same churn:  4197\n",
      "The number of uid with diff churn:  0\n",
      "The number of unique uid:  4197\n",
      "True\n"
     ]
    }
   ],
   "source": [
    "# let's see\n",
    "i=0;j=0;\n",
    "for uid in uid_lst:\n",
    "    if all(uid_grouped.get_group(uid).apply(lambda x: min(x) == max(x))[['churn']]):\n",
    "        i+=1;\n",
    "    else: \n",
    "        print 'uid with different_churn: ',uid\n",
    "        print 'diff churn: ',uid_grouped.get_group(uid)['churn'].unique()  # diff szrids\n",
    "        j+=1;\n",
    "print ''\n",
    "print 'The number of uid with same churn: ',i\n",
    "print 'The number of uid with diff churn: ',j\n",
    "print 'The number of unique uid: ',len(uid_lst)\n",
    "print (i+j) == len(uid_lst) "
   ]
  },
  {
   "cell_type": "code",
   "execution_count": 75,
   "metadata": {},
   "outputs": [
    {
     "name": "stdout",
     "output_type": "stream",
     "text": [
      "\n",
      "The number of uid with same tid:  293\n",
      "The number of uid with diff tid:  3904\n",
      "The number of unique uid:  4197\n",
      "True\n"
     ]
    }
   ],
   "source": [
    "# let's see\n",
    "i=0;j=0;\n",
    "for uid in uid_lst:\n",
    "    if all(uid_grouped.get_group(uid).apply(lambda x: min(x) == max(x))[['tid']]):\n",
    "        i+=1;\n",
    "    else: \n",
    "        #print 'uid with different_tid: ',uid\n",
    "        #print 'diff tids: ',uid_grouped.get_group(uid)['tid'].unique()  # diff tids\n",
    "        #print ''\n",
    "        j+=1;\n",
    "print ''\n",
    "print 'The number of uid with same tid: ',i\n",
    "print 'The number of uid with diff tid: ',j\n",
    "print 'The number of unique uid: ',len(uid_lst)\n",
    "print (i+j) == len(uid_lst) "
   ]
  },
  {
   "cell_type": "markdown",
   "metadata": {},
   "source": [
    "### Groupby szrid"
   ]
  },
  {
   "cell_type": "code",
   "execution_count": 76,
   "metadata": {
    "collapsed": true
   },
   "outputs": [],
   "source": [
    "szrid_grouped = tmp_dfs.groupby('szrid')"
   ]
  },
  {
   "cell_type": "code",
   "execution_count": 77,
   "metadata": {},
   "outputs": [
    {
     "data": {
      "text/plain": [
       "[u'fa11475f-7d67-48f9-b6d8-cbf58c2601a4',\n",
       " u'f241da71-a260-492e-a151-becde3be99d6',\n",
       " u'78bfe5c0-9efd-4b23-ab77-97a8f0deded6',\n",
       " u'ed8e8bc6-4925-4e6d-a685-fde061e84487',\n",
       " u'f30eafa6-9e11-496c-b339-c8eba2953c7b']"
      ]
     },
     "execution_count": 77,
     "metadata": {},
     "output_type": "execute_result"
    }
   ],
   "source": [
    "szrid_grouped.groups.keys()[:5]"
   ]
  },
  {
   "cell_type": "code",
   "execution_count": 78,
   "metadata": {},
   "outputs": [
    {
     "name": "stdout",
     "output_type": "stream",
     "text": [
      "4359\n"
     ]
    }
   ],
   "source": [
    "# How many 'szrid's\n",
    "print len(szrid_grouped.groups.keys())"
   ]
  },
  {
   "cell_type": "code",
   "execution_count": 79,
   "metadata": {},
   "outputs": [
    {
     "name": "stdout",
     "output_type": "stream",
     "text": [
      "szrid_lst:  4359\n"
     ]
    }
   ],
   "source": [
    "szrid_lst = tmp_dfs['szrid'].unique()\n",
    "print 'szrid_lst: ',len(szrid_lst)"
   ]
  },
  {
   "cell_type": "code",
   "execution_count": 80,
   "metadata": {
    "scrolled": false
   },
   "outputs": [
    {
     "name": "stdout",
     "output_type": "stream",
     "text": [
      "<szrid>:  57d80ee3-4563-40c1-a64d-15a66c60edba\n",
      "\n",
      "<szrid dataframe>:                            ts2      drt  \\\n",
      "0      2017-03-31 23:56:07.535  2234000   \n",
      "8659   2017-04-04 23:59:10.832  3169000   \n",
      "10779  2017-04-05 23:58:55.037        0   \n",
      "19644  2017-04-09 23:44:53.721        0   \n",
      "38462  2017-04-19 23:49:18.169  5066000   \n",
      "45519  2017-04-22 23:46:04.536        0   \n",
      "89330  2017-05-14 23:48:42.355        0   \n",
      "97491  2017-05-18 23:49:16.120        0   \n",
      "106051 2017-05-23 23:50:50.805  3049000   \n",
      "109840 2017-05-24 23:52:04.730        0   \n",
      "122622 2017-05-31 23:48:22.227        0   \n",
      "127633 2017-06-02 23:47:50.102        0   \n",
      "127652 2017-06-02 23:47:50.310        0   \n",
      "127664 2017-06-02 23:47:49.299        0   \n",
      "127683 2017-06-02 23:47:50.307        0   \n",
      "137958 2017-06-07 23:50:34.925        0   \n",
      "166037 2017-06-22 23:52:50.786  4863000   \n",
      "166681 2017-06-22 23:53:18.798        0   \n",
      "166725 2017-06-22 23:53:18.796        0   \n",
      "166806 2017-06-22 23:53:22.801        0   \n",
      "166831 2017-06-22 23:53:22.805        0   \n",
      "167426 2017-06-22 23:53:46.775        0   \n",
      "168839 2017-06-23 23:53:43.668        0   \n",
      "169185 2017-06-23 23:53:59.580        0   \n",
      "169653 2017-06-23 23:54:15.593        0   \n",
      "169958 2017-06-23 23:54:26.583        0   \n",
      "171779 2017-06-24 23:56:21.936        0   \n",
      "171949 2017-06-24 23:56:29.885        0   \n",
      "173285 2017-06-25 23:53:27.383        0   \n",
      "173834 2017-06-25 23:53:47.385        0   \n",
      "176060 2017-06-27 23:55:21.533        0   \n",
      "177773 2017-06-27 23:56:17.537        0   \n",
      "\n",
      "                                                   errmsg   mplyevnt   spos  \\\n",
      "0       com.google.android.exoplayer.audio.AudioTrack$...  iBufStart  V0009   \n",
      "8659                                                  NaN        NaN  V0005   \n",
      "10779                                                 NaN        NaN  V0051   \n",
      "19644                                                 NaN        NaN  V0020   \n",
      "38462                                                 NaN        NaN  V0004   \n",
      "45519                                                 NaN        NaN  V0047   \n",
      "89330                                                 NaN        NaN  V0041   \n",
      "97491                                                 NaN        NaN  V0018   \n",
      "106051  com.google.android.exoplayer.audio.AudioTrack$...  iBufStart  V0033   \n",
      "109840                                                NaN        NaN    NaN   \n",
      "122622                                                NaN        NaN  V0027   \n",
      "127633                                                NaN        NaN  V0048   \n",
      "127652                                                NaN        NaN  V0061   \n",
      "127664                                                NaN        NaN  V0010   \n",
      "127683                                                NaN        NaN  V0048   \n",
      "137958                                                NaN        NaN    NaN   \n",
      "166037                                                NaN      brchg  V0003   \n",
      "166681                                                NaN        NaN  V0069   \n",
      "166725                                                NaN        NaN  V0033   \n",
      "166806                                                NaN        NaN  V0015   \n",
      "166831                                                NaN        NaN  V0044   \n",
      "167426                                                NaN        NaN  V0051   \n",
      "168839                                                NaN        NaN  V0062   \n",
      "169185                                                NaN        NaN  V0059   \n",
      "169653                                                NaN        NaN  V0042   \n",
      "169958                                                NaN        NaN    NaN   \n",
      "171779                                                NaN        NaN  V0016   \n",
      "171949                                                NaN        NaN    NaN   \n",
      "173285                                                NaN        NaN  V0030   \n",
      "173834                                                NaN        NaN  V0069   \n",
      "176060                                                NaN      brchg  V0003   \n",
      "177773                                                NaN        NaN  V0017   \n",
      "\n",
      "                                        ssid  \\\n",
      "0       be86c466-c943-4f35-86f0-e7dbe678def0   \n",
      "8659    2ca786f3-56f9-4b6e-84f3-4fb9db26dfb3   \n",
      "10779   08bc972c-7047-45a3-8edd-aa07ffd4f0e9   \n",
      "19644   526d695e-2d67-4898-bf62-5ab738688b4d   \n",
      "38462   e487368b-7651-410c-9e02-cb522eeab00e   \n",
      "45519   be384b5c-ae93-4c1f-a414-6603777b64e4   \n",
      "89330   a3713887-00e3-4186-b61c-6774fee244c4   \n",
      "97491   368db005-957b-4252-be24-3c476fc612e4   \n",
      "106051  bfa5d7a9-4aba-48b4-888e-5ccdc1334212   \n",
      "109840  fb63e01a-1bf0-4e85-af72-a065821fbcf5   \n",
      "122622  c185e2db-4cfa-47c4-91ba-f5f30f1f193c   \n",
      "127633  640ece60-2d0b-4826-9600-9d4af728100e   \n",
      "127652  640ece60-2d0b-4826-9600-9d4af728100e   \n",
      "127664  640ece60-2d0b-4826-9600-9d4af728100e   \n",
      "127683  640ece60-2d0b-4826-9600-9d4af728100e   \n",
      "137958  fba3d844-7545-47eb-a769-f6a6b798b1f6   \n",
      "166037  9ec29157-9a01-4b57-8334-e7d265d8d317   \n",
      "166681  9ec29157-9a01-4b57-8334-e7d265d8d317   \n",
      "166725  9ec29157-9a01-4b57-8334-e7d265d8d317   \n",
      "166806  9ec29157-9a01-4b57-8334-e7d265d8d317   \n",
      "166831  9ec29157-9a01-4b57-8334-e7d265d8d317   \n",
      "167426  9ec29157-9a01-4b57-8334-e7d265d8d317   \n",
      "168839  5d749b5c-0c22-42e9-ad65-1b0fbd26e17a   \n",
      "169185  5d749b5c-0c22-42e9-ad65-1b0fbd26e17a   \n",
      "169653  5d749b5c-0c22-42e9-ad65-1b0fbd26e17a   \n",
      "169958  5d749b5c-0c22-42e9-ad65-1b0fbd26e17a   \n",
      "171779  119eee11-48d5-43f3-8fe5-cc928593680e   \n",
      "171949  119eee11-48d5-43f3-8fe5-cc928593680e   \n",
      "173285  93796a7b-d8cc-4a8b-a42e-fb3963c70699   \n",
      "173834  93796a7b-d8cc-4a8b-a42e-fb3963c70699   \n",
      "176060  7f1d0225-f19f-4bad-a482-e4535240fb77   \n",
      "177773  7f1d0225-f19f-4bad-a482-e4535240fb77   \n",
      "\n",
      "                                       szrid  tBuf  tIBuf  tLBuf     tPld  \\\n",
      "0       57d80ee3-4563-40c1-a64d-15a66c60edba   821      6   5003    49377   \n",
      "8659    57d80ee3-4563-40c1-a64d-15a66c60edba     0      0      0        0   \n",
      "10779   57d80ee3-4563-40c1-a64d-15a66c60edba     0      0      0        0   \n",
      "19644   57d80ee3-4563-40c1-a64d-15a66c60edba     0      0      0        0   \n",
      "38462   57d80ee3-4563-40c1-a64d-15a66c60edba     0      0   5003        0   \n",
      "45519   57d80ee3-4563-40c1-a64d-15a66c60edba     0      0      0        0   \n",
      "89330   57d80ee3-4563-40c1-a64d-15a66c60edba     0      0      0        0   \n",
      "97491   57d80ee3-4563-40c1-a64d-15a66c60edba     0      0      0        0   \n",
      "106051  57d80ee3-4563-40c1-a64d-15a66c60edba  3813      7   5004  8403514   \n",
      "109840  57d80ee3-4563-40c1-a64d-15a66c60edba     0      0      0        0   \n",
      "122622  57d80ee3-4563-40c1-a64d-15a66c60edba     0      0   5004        0   \n",
      "127633  57d80ee3-4563-40c1-a64d-15a66c60edba     0      0      0        0   \n",
      "127652  57d80ee3-4563-40c1-a64d-15a66c60edba     0      0      0        0   \n",
      "127664  57d80ee3-4563-40c1-a64d-15a66c60edba     0      0      0        0   \n",
      "127683  57d80ee3-4563-40c1-a64d-15a66c60edba     0      0      0        0   \n",
      "137958  57d80ee3-4563-40c1-a64d-15a66c60edba     0      0      0        0   \n",
      "166037  57d80ee3-4563-40c1-a64d-15a66c60edba  5004      0   5004        0   \n",
      "166681  57d80ee3-4563-40c1-a64d-15a66c60edba     0      0      0        0   \n",
      "166725  57d80ee3-4563-40c1-a64d-15a66c60edba     0      0      0        0   \n",
      "166806  57d80ee3-4563-40c1-a64d-15a66c60edba     0      0      0        0   \n",
      "166831  57d80ee3-4563-40c1-a64d-15a66c60edba     0      0      0        0   \n",
      "167426  57d80ee3-4563-40c1-a64d-15a66c60edba     0      0      0        0   \n",
      "168839  57d80ee3-4563-40c1-a64d-15a66c60edba     0      0      0        0   \n",
      "169185  57d80ee3-4563-40c1-a64d-15a66c60edba     0      0      0        0   \n",
      "169653  57d80ee3-4563-40c1-a64d-15a66c60edba     0      0      0        0   \n",
      "169958  57d80ee3-4563-40c1-a64d-15a66c60edba     0      0      0        0   \n",
      "171779  57d80ee3-4563-40c1-a64d-15a66c60edba     0      0      0        0   \n",
      "171949  57d80ee3-4563-40c1-a64d-15a66c60edba     0      0      0        0   \n",
      "173285  57d80ee3-4563-40c1-a64d-15a66c60edba     0      0      0        0   \n",
      "173834  57d80ee3-4563-40c1-a64d-15a66c60edba     0      0      0        0   \n",
      "176060  57d80ee3-4563-40c1-a64d-15a66c60edba  5003      0   5003        0   \n",
      "177773  57d80ee3-4563-40c1-a64d-15a66c60edba     0      0      0        0   \n",
      "\n",
      "          tVH                                   tid       type            uid  \\\n",
      "0       59880  4e7475b2-0b88-461f-9387-0a9b77251df8         vh  WUCH155103440   \n",
      "8659    39996  c9167cb3-3b91-4976-9b77-249bdb33d13a         vh  WUCH155103440   \n",
      "10779       0  38715be0-5557-4daf-8f43-9175ab5116bd         vh  WUCH155103440   \n",
      "19644       0  718e8af0-3264-4986-bf4c-727a96b96c3e         vh  WUCH155103440   \n",
      "38462    3975  3bb7c07d-7cd3-4c55-beb5-45eb40b0cbbc         vh  WUCH155103440   \n",
      "45519       0  1cd81662-2df3-483f-8a06-ec0e407e8dbf         vh  WUCH155103440   \n",
      "89330       0  c8493ed6-ad63-40c4-90d0-125bbf8c05c7         vh  WUCH155103440   \n",
      "97491       0  87706c71-1e65-4e93-98c8-c67081b13e5f         vh  WUCH155103440   \n",
      "106051  59861  d5e8bc8c-9851-45e7-9278-ad7c0d2b3a3b         vh  WUCH155103440   \n",
      "109840      0  c5504369-08a4-4b3b-a424-0785e95b97bc         vh  WUCH155103440   \n",
      "122622      0  5827800f-a85c-46f6-8472-23701136b3d0      upImg  WUCH155103440   \n",
      "127633      0  c178def1-21be-45b2-a9a6-60c46cf608f5  mplyevent  WUCH155103440   \n",
      "127652      0  c178def1-21be-45b2-a9a6-60c46cf608f5  mplyevent  WUCH155103440   \n",
      "127664      0  c178def1-21be-45b2-a9a6-60c46cf608f5  mplyevent  WUCH155103440   \n",
      "127683      0  c178def1-21be-45b2-a9a6-60c46cf608f5         vh  WUCH155103440   \n",
      "137958      0  96c61605-7847-47b6-b9c6-c5796934f65a         vh  WUCH155103440   \n",
      "166037  59942  b760f9e0-7f90-4883-9f39-84ecbe572c66  mplyevent  WUCH155103440   \n",
      "166681      0  b760f9e0-7f90-4883-9f39-84ecbe572c66         vh  WUCH155103440   \n",
      "166725      0  b760f9e0-7f90-4883-9f39-84ecbe572c66  mplyevent  WUCH155103440   \n",
      "166806      0  b760f9e0-7f90-4883-9f39-84ecbe572c66  mplyevent  WUCH155103440   \n",
      "166831      0  b760f9e0-7f90-4883-9f39-84ecbe572c66         vh  WUCH155103440   \n",
      "167426      0  b760f9e0-7f90-4883-9f39-84ecbe572c66  mplyevent  WUCH155103440   \n",
      "168839      0  819f0e0a-74a5-455e-8207-e0574e5c12be         vh  WUCH155103440   \n",
      "169185      0  819f0e0a-74a5-455e-8207-e0574e5c12be  mplyevent  WUCH155103440   \n",
      "169653      0  819f0e0a-74a5-455e-8207-e0574e5c12be  mplyevent  WUCH155103440   \n",
      "169958      0  819f0e0a-74a5-455e-8207-e0574e5c12be  mplyevent  WUCH155103440   \n",
      "171779      0  29089303-262b-43c7-8e01-0b91db668ddd         vh  WUCH155103440   \n",
      "171949      0  29089303-262b-43c7-8e01-0b91db668ddd  mplyevent  WUCH155103440   \n",
      "173285      0  a793d60b-ae63-4f5b-9ac8-4121fd1fafb7  mplyevent  WUCH155103440   \n",
      "173834      0  a793d60b-ae63-4f5b-9ac8-4121fd1fafb7         vh  WUCH155103440   \n",
      "176060  59865  a63254d6-35b9-4c58-b4cd-823c1d399631         vh  WUCH155103440   \n",
      "177773      0  a63254d6-35b9-4c58-b4cd-823c1d399631  mplyevent  WUCH155103440   \n",
      "\n",
      "        churn  \n",
      "0       False  \n",
      "8659    False  \n",
      "10779   False  \n",
      "19644   False  \n",
      "38462   False  \n",
      "45519   False  \n",
      "89330   False  \n",
      "97491   False  \n",
      "106051  False  \n",
      "109840  False  \n",
      "122622  False  \n",
      "127633  False  \n",
      "127652  False  \n",
      "127664  False  \n",
      "127683  False  \n",
      "137958  False  \n",
      "166037  False  \n",
      "166681  False  \n",
      "166725  False  \n",
      "166806  False  \n",
      "166831  False  \n",
      "167426  False  \n",
      "168839  False  \n",
      "169185  False  \n",
      "169653  False  \n",
      "169958  False  \n",
      "171779  False  \n",
      "171949  False  \n",
      "173285  False  \n",
      "173834  False  \n",
      "176060  False  \n",
      "177773  False  \n",
      "<class 'pandas.core.frame.DataFrame'>\n",
      "================================================================================\n",
      "\n"
     ]
    }
   ],
   "source": [
    "# Sample\n",
    "for szrid in szrid_lst[:1]:\n",
    "    print '<szrid>: ',szrid\n",
    "    print ''\n",
    "    print '<szrid dataframe>:',szrid_grouped.get_group(szrid)\n",
    "    print type(szrid_grouped.get_group(szrid))\n",
    "    print '=='*40\n",
    "    print ''"
   ]
  },
  {
   "cell_type": "code",
   "execution_count": 81,
   "metadata": {},
   "outputs": [
    {
     "name": "stdout",
     "output_type": "stream",
     "text": [
      "\n",
      "The number of szrid with same uid:  4359\n",
      "The number of szrid with diff uid:  0\n",
      "The number of unique szrid:  4359\n",
      "True\n"
     ]
    }
   ],
   "source": [
    "# let's see\n",
    "i=0;j=0;\n",
    "for szrid in szrid_lst:\n",
    "    if all(szrid_grouped.get_group(szrid).apply(lambda x: min(x) == max(x))[['uid']]):\n",
    "        i+=1;\n",
    "    else: \n",
    "        print 'szrid with different_uid: ',szrid\n",
    "        print 'diff uids: ',szrid_grouped.get_group(szrid)['uid'].unique()  # diff uids\n",
    "        j+=1;\n",
    "print ''\n",
    "print 'The number of szrid with same uid: ',i\n",
    "print 'The number of szrid with diff uid: ',j\n",
    "print 'The number of unique szrid: ',len(szrid_lst)\n",
    "print (i+j) == len(szrid_lst) "
   ]
  },
  {
   "cell_type": "code",
   "execution_count": 82,
   "metadata": {
    "scrolled": true
   },
   "outputs": [
    {
     "name": "stdout",
     "output_type": "stream",
     "text": [
      "\n",
      "The number of szrid with same tid:  347\n",
      "The number of szrid with diff tid:  4012\n",
      "The number of unique szrid:  4359\n",
      "True\n"
     ]
    }
   ],
   "source": [
    "# let's see\n",
    "i=0;j=0;\n",
    "for szrid in szrid_lst:\n",
    "    if all(szrid_grouped.get_group(szrid).apply(lambda x: min(x) == max(x))[['tid']]):\n",
    "        i+=1;\n",
    "    else: \n",
    "        #print 'szrid with different_tid: ',uid\n",
    "        #print 'diff tids: ',uid_grouped.get_group(uid)['tid'].unique()  # diff tids\n",
    "        #print ''\n",
    "        j+=1;\n",
    "print ''\n",
    "print 'The number of szrid with same tid: ',i\n",
    "print 'The number of szrid with diff tid: ',j\n",
    "print 'The number of unique szrid: ',len(szrid_lst)\n",
    "print (i+j) == len(szrid_lst) "
   ]
  },
  {
   "cell_type": "markdown",
   "metadata": {},
   "source": [
    "# Conclusion"
   ]
  },
  {
   "cell_type": "markdown",
   "metadata": {
    "collapsed": true
   },
   "source": [
    "### Groupby tid\n",
    "    The number of tid with same ssid, szrid, uid and churn:  64726\n",
    "    The number of unique tid:  64727\n",
    "    tid with different_ssid_szrid_uid_churn:  Unset\n",
    "\n",
    "    => Remove tid 'Unset'\n",
    "\n",
    "    The number of tid with same ssid, szrid, uid and churn:  64726\n",
    "    The number of tid with same type:  46537\n",
    "    The number of unique tid:  64726\n",
    "\n",
    "### Groupby uid\n",
    "    The number of uid with same szrid:  4063\n",
    "    The number of uid with diff szrid:  134\n",
    "    The number of unique uid:  4197\n",
    "    \n",
    "    The number of uid with same churn:  4197\n",
    "    The number of uid with diff churn:  0\n",
    "    The number of unique uid:  4197\n",
    "\n",
    "    The number of uid with same tid:  293\n",
    "    The number of uid with diff tid:  3904\n",
    "    The number of unique uid:  4197\n",
    "\n",
    "### Groupby szrid\n",
    "    The number of szrid with same uid:  4359\n",
    "    The number of szrid with diff uid:  0        \n",
    "    The number of unique szrid:  4359\n",
    "\n",
    "    The number of szrid with same tid:  347\n",
    "    The number of szrid with diff tid:  4012\n",
    "    The number of unique szrid:  4359\n",
    "\n",
    "### Conclusion\n",
    "    uid  >  szrid  >  tid               > logs\n",
    "    4197 >  4359   >  64726 w/o 'Unset' > 182000"
   ]
  },
  {
   "cell_type": "markdown",
   "metadata": {
    "collapsed": true
   },
   "source": [
    "##### Appendix"
   ]
  },
  {
   "cell_type": "code",
   "execution_count": 83,
   "metadata": {
    "scrolled": true
   },
   "outputs": [
    {
     "data": {
      "text/plain": [
       "\"\\n# (Optional tid by log type 'vh')\\nfor tid in tid_rmv_tid_Uns_lst[0:10]:\\n    if any(tid_rmv_tid_Uns_grouped.get_group(tid)['type']=='vh'):\\n        print tid_rmv_tid_Uns_grouped.get_group(tid)[tid_rmv_tid_Uns_grouped.get_group(tid)['type']=='vh']\\n        print '=='*40\\n        print ''\\n    #print tid_rmv_tid_Uns_grouped.get_group(tid)['type']\\n    #print type(tid_rmv_tid_Uns_grouped.get_group(tid))\\n    #print tid_rmv_tid_Uns_grouped.get_group(tid)['type']=='vh'\\n    #print tid_rmv_tid_Uns_grouped.get_group(tid)[tid_rmv_tid_Uns_grouped.get_group(tid)['type']=='vh']\\n    #print '=='*40\\n    #print ''\\n\""
      ]
     },
     "execution_count": 83,
     "metadata": {},
     "output_type": "execute_result"
    }
   ],
   "source": [
    "'''\n",
    "# (Optional tid by log type 'vh')\n",
    "for tid in tid_rmv_tid_Uns_lst[0:10]:\n",
    "    if any(tid_rmv_tid_Uns_grouped.get_group(tid)['type']=='vh'):\n",
    "        print tid_rmv_tid_Uns_grouped.get_group(tid)[tid_rmv_tid_Uns_grouped.get_group(tid)['type']=='vh']\n",
    "        print '=='*40\n",
    "        print ''\n",
    "    #print tid_rmv_tid_Uns_grouped.get_group(tid)['type']\n",
    "    #print type(tid_rmv_tid_Uns_grouped.get_group(tid))\n",
    "    #print tid_rmv_tid_Uns_grouped.get_group(tid)['type']=='vh'\n",
    "    #print tid_rmv_tid_Uns_grouped.get_group(tid)[tid_rmv_tid_Uns_grouped.get_group(tid)['type']=='vh']\n",
    "    #print '=='*40\n",
    "    #print ''\n",
    "'''"
   ]
  },
  {
   "cell_type": "markdown",
   "metadata": {},
   "source": [
    "d = {'one' : [1., 2., 3., 4.],  'two' : [1., 1., 1., 1.]}"
   ]
  },
  {
   "cell_type": "markdown",
   "metadata": {
    "collapsed": true
   },
   "source": [
    "rand = np.random.RandomState(1)\n",
    "df = pd.DataFrame({'A': ['foo', 'bar'] * 3,\n",
    "                   'B': rand.randn(6),\n",
    "                   'C': rand.randint(0, 20, 6)})\n",
    " \n",
    "print(df)\n",
    " \n",
    "grouped = df.groupby(['A'])\n",
    "\n",
    "print ''\n",
    "print(grouped.get_group('foo'))\n",
    " \n",
    "print ''\n",
    "print(dict(list(grouped))['foo'])\n",
    " \n",
    "print ''\n",
    "print(df.loc[grouped.groups['foo']])"
   ]
  },
  {
   "cell_type": "markdown",
   "metadata": {},
   "source": [
    "##### Continuous variables"
   ]
  },
  {
   "cell_type": "code",
   "execution_count": 84,
   "metadata": {
    "collapsed": true
   },
   "outputs": [],
   "source": [
    "#dfs['drt'] = dfs['drt'].fillna(0).astype(int)"
   ]
  },
  {
   "cell_type": "code",
   "execution_count": 85,
   "metadata": {
    "collapsed": true
   },
   "outputs": [],
   "source": [
    "### set index\n",
    "#dfs.set_index('ts2', inplace=True) "
   ]
  },
  {
   "cell_type": "code",
   "execution_count": 86,
   "metadata": {
    "collapsed": true
   },
   "outputs": [],
   "source": [
    "#dfs.head()"
   ]
  },
  {
   "cell_type": "code",
   "execution_count": 87,
   "metadata": {
    "collapsed": true
   },
   "outputs": [],
   "source": [
    "#continuous_var = ['drt','tBuf','tIBuf','tLBuf','tPld','tVH']"
   ]
  },
  {
   "cell_type": "code",
   "execution_count": 88,
   "metadata": {},
   "outputs": [
    {
     "data": {
      "text/plain": [
       "\"\\ndef get_hist_and_count(var_name):\\n    var_name = dfs[var_name].fillna(0).astype(int)\\n    print 'number of 0s: ',len(var_name[var_name==0])\\n    print 'number of non 0s: ',len(var_name[var_name!=0])\\n    var_name.hist(bins=100)\\n\""
      ]
     },
     "execution_count": 88,
     "metadata": {},
     "output_type": "execute_result"
    }
   ],
   "source": [
    "'''\n",
    "def get_hist_and_count(var_name):\n",
    "    var_name = dfs[var_name].fillna(0).astype(int)\n",
    "    print 'number of 0s: ',len(var_name[var_name==0])\n",
    "    print 'number of non 0s: ',len(var_name[var_name!=0])\n",
    "    var_name.hist(bins=100)\n",
    "'''"
   ]
  },
  {
   "cell_type": "code",
   "execution_count": 89,
   "metadata": {
    "collapsed": true
   },
   "outputs": [],
   "source": [
    "# duration of content in ms unit.\n",
    "#get_hist_and_count('drt')"
   ]
  },
  {
   "cell_type": "code",
   "execution_count": 90,
   "metadata": {
    "collapsed": true
   },
   "outputs": [],
   "source": [
    "#get_hist_wo_NaNs('drt')"
   ]
  },
  {
   "cell_type": "code",
   "execution_count": 91,
   "metadata": {
    "collapsed": true
   },
   "outputs": [],
   "source": [
    "# Re-Buffering Time\n",
    "#get_hist_and_count('tBuf')"
   ]
  },
  {
   "cell_type": "code",
   "execution_count": 92,
   "metadata": {
    "collapsed": true
   },
   "outputs": [],
   "source": [
    "# Initial Buffering Time\n",
    "#get_hist_and_count('tIBuf')"
   ]
  },
  {
   "cell_type": "code",
   "execution_count": 93,
   "metadata": {
    "collapsed": true
   },
   "outputs": [],
   "source": [
    "#get_hist_wo_NaNs('tIBuf')"
   ]
  },
  {
   "cell_type": "code",
   "execution_count": 94,
   "metadata": {
    "collapsed": true
   },
   "outputs": [],
   "source": [
    "# Player Loading Time\n",
    "#get_hist_and_count('tPld')"
   ]
  },
  {
   "cell_type": "code",
   "execution_count": 95,
   "metadata": {
    "collapsed": true
   },
   "outputs": [],
   "source": [
    "# Viewing Time\n",
    "#get_hist_and_count('tVH')"
   ]
  },
  {
   "cell_type": "code",
   "execution_count": 96,
   "metadata": {
    "collapsed": true
   },
   "outputs": [],
   "source": [
    "# Long Buffering Time\n",
    "#get_hist_and_count('tLBuf')"
   ]
  }
 ],
 "metadata": {
  "kernelspec": {
   "display_name": "Python 2",
   "language": "python",
   "name": "python2"
  },
  "language_info": {
   "codemirror_mode": {
    "name": "ipython",
    "version": 2
   },
   "file_extension": ".py",
   "mimetype": "text/x-python",
   "name": "python",
   "nbconvert_exporter": "python",
   "pygments_lexer": "ipython2",
   "version": "2.7.13"
  }
 },
 "nbformat": 4,
 "nbformat_minor": 1
}
