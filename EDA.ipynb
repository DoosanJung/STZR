{
 "cells": [
  {
   "cell_type": "markdown",
   "metadata": {},
   "source": [
    "### Import modules and DataFrame"
   ]
  },
  {
   "cell_type": "code",
   "execution_count": 2,
   "metadata": {
    "collapsed": true
   },
   "outputs": [],
   "source": [
    "import pandas as pd\n",
    "import numpy\n",
    "import pickle\n",
    "import matplotlib.pyplot as plt\n",
    "%matplotlib inline"
   ]
  },
  {
   "cell_type": "code",
   "execution_count": 3,
   "metadata": {
    "collapsed": false,
    "scrolled": true
   },
   "outputs": [],
   "source": [
    "dfs = pickle.load(open('dfs_churn_marked.p'))"
   ]
  },
  {
   "cell_type": "code",
   "execution_count": 4,
   "metadata": {
    "collapsed": false,
    "scrolled": true
   },
   "outputs": [
    {
     "name": "stdout",
     "output_type": "stream",
     "text": [
      "<class 'pandas.core.frame.DataFrame'>\n",
      "Int64Index: 182000 entries, 0 to 181999\n",
      "Data columns (total 54 columns):\n",
      "abtm        182000 non-null object\n",
      "br          167826 non-null object\n",
      "brn         140477 non-null object\n",
      "brv         140477 non-null object\n",
      "chn         182000 non-null object\n",
      "ckey        182000 non-null object\n",
      "co          182000 non-null object\n",
      "coiso       182000 non-null object\n",
      "ct          182000 non-null object\n",
      "devm        140477 non-null object\n",
      "devv        140477 non-null object\n",
      "drt         56448 non-null object\n",
      "eps         182000 non-null object\n",
      "errmsg      2262 non-null object\n",
      "gen         173329 non-null object\n",
      "img         9289 non-null object\n",
      "isp         182000 non-null object\n",
      "lang        182000 non-null object\n",
      "live        182000 non-null object\n",
      "lrg         182000 non-null object\n",
      "mplyevnt    41523 non-null object\n",
      "mpv         182000 non-null object\n",
      "mvcp        182000 non-null object\n",
      "mvctg       182000 non-null object\n",
      "mvid        182000 non-null object\n",
      "mvrt        182000 non-null object\n",
      "mvsctg      182000 non-null object\n",
      "osn         140477 non-null object\n",
      "osv         140477 non-null object\n",
      "pltn        182000 non-null object\n",
      "ppv         182000 non-null object\n",
      "res         167826 non-null object\n",
      "rg          182000 non-null object\n",
      "rgiso       182000 non-null object\n",
      "sid         182000 non-null object\n",
      "spos        167826 non-null object\n",
      "srn         182000 non-null object\n",
      "ssid        182000 non-null object\n",
      "stype       182000 non-null object\n",
      "svr         182000 non-null object\n",
      "szrid       182000 non-null object\n",
      "tBuf        182000 non-null int64\n",
      "tIBuf       182000 non-null int64\n",
      "tLBuf       182000 non-null int64\n",
      "tPld        182000 non-null int64\n",
      "tVH         182000 non-null int64\n",
      "tid         182000 non-null object\n",
      "ts2         182000 non-null datetime64[ns]\n",
      "type        182000 non-null object\n",
      "uid         182000 non-null object\n",
      "utype       182000 non-null object\n",
      "v           182000 non-null object\n",
      "yob         173329 non-null object\n",
      "churn       182000 non-null bool\n",
      "dtypes: bool(1), datetime64[ns](1), int64(5), object(47)\n",
      "memory usage: 75.2+ MB\n"
     ]
    }
   ],
   "source": [
    "dfs.info()"
   ]
  },
  {
   "cell_type": "markdown",
   "metadata": {},
   "source": [
    "### Categorical variables"
   ]
  },
  {
   "cell_type": "code",
   "execution_count": 5,
   "metadata": {
    "collapsed": false
   },
   "outputs": [
    {
     "name": "stdout",
     "output_type": "stream",
     "text": [
      "1\n",
      "[u'Release']\n"
     ]
    }
   ],
   "source": [
    "unique_abtm = dfs['abtm'].unique() # A/B test mark\n",
    "print len(unique_abtm)\n",
    "print unique_abtm"
   ]
  },
  {
   "cell_type": "markdown",
   "metadata": {},
   "source": [
    "##### => Drop abtm"
   ]
  },
  {
   "cell_type": "code",
   "execution_count": 6,
   "metadata": {
    "collapsed": false,
    "scrolled": true
   },
   "outputs": [
    {
     "name": "stdout",
     "output_type": "stream",
     "text": [
      "19203\n",
      "[u'3614101' u'3328416' u'3587620' ..., u'871378' u'2270765' u'2252671']\n"
     ]
    }
   ],
   "source": [
    "unique_br = dfs['br'].unique() # The bitrate of the media (kbps)\n",
    "print len(unique_br)\n",
    "print unique_br"
   ]
  },
  {
   "cell_type": "code",
   "execution_count": 7,
   "metadata": {
    "collapsed": false
   },
   "outputs": [
    {
     "name": "stdout",
     "output_type": "stream",
     "text": [
      "3\n",
      "[u'KOOLi_Player' u'KOOLi_Humax_Player' nan]\n"
     ]
    }
   ],
   "source": [
    "unique_brn = dfs['brn'].unique() # Browser name\n",
    "print len(unique_brn)\n",
    "print unique_brn"
   ]
  },
  {
   "cell_type": "code",
   "execution_count": 8,
   "metadata": {
    "collapsed": false
   },
   "outputs": [
    {
     "name": "stdout",
     "output_type": "stream",
     "text": [
      "9\n",
      "[u'1.0.10' u'2.0.6' u'1.0.4' u'' nan u'2.0.7' u'1.0.7' u'2.0.4' u'1.0.11']\n"
     ]
    }
   ],
   "source": [
    "unique_brv = dfs['brv'].unique() # Browser version\n",
    "print len(unique_brv)\n",
    "print unique_brv"
   ]
  },
  {
   "cell_type": "code",
   "execution_count": 9,
   "metadata": {
    "collapsed": false
   },
   "outputs": [
    {
     "name": "stdout",
     "output_type": "stream",
     "text": [
      "33\n",
      "[u'' u'CH.3 Gayo TV' u'CH.1 Yonhap News TV ' u'CH.16 CTS' u'CH.12 Edge TV'\n",
      " u'CH.14 The Movie' u'CH.17 FTV' u'CH.13 K-Baduk' u'CH.18 Mountain TV'\n",
      " u'CH.21 ONT' u'CH.26 GTV' u'CH.20 CBS' u'CH.28 Arirang TV' u'CH.31 CHING'\n",
      " u'CH.8 KBN TV' u'CH.15 Daekyo Kids TV' u'CH.10 Healthmedi TV' u'CH.33 ETN'\n",
      " u'CH.11 Runway TV' u'CH.23 Polaris TV' u'CH.22 Telenovela'\n",
      " u'CH.19 Channel China' u'CH.25 Food TV' u'CH.9 NTV' u'CH.34 KIDS-TV'\n",
      " u'CH.32 OBS W' u'CH.29 Arte TV' u'CH.7 Event TV' u'CH.24 Silver-i TV'\n",
      " u'CH.35 Jungchul TV' u'CH.27 Jei English' u'CH.30 BBS'\n",
      " u'CH.5 Asia Business News TV']\n"
     ]
    }
   ],
   "source": [
    "unique_chn = dfs['chn'].unique() # Live channel name\n",
    "print len(unique_chn)\n",
    "print unique_chn"
   ]
  },
  {
   "cell_type": "code",
   "execution_count": 10,
   "metadata": {
    "collapsed": false
   },
   "outputs": [
    {
     "name": "stdout",
     "output_type": "stream",
     "text": [
      "10\n",
      "[u'Canada' u'United States' u'Republic of Korea' u'Guam' u'United Kingdom'\n",
      " u'Mexico' u'Vietnam' u'China' u'Singapore' u'Japan']\n"
     ]
    }
   ],
   "source": [
    "unique_co = dfs['co'].unique() # Contry name\n",
    "print len(unique_co)\n",
    "print unique_co"
   ]
  },
  {
   "cell_type": "code",
   "execution_count": 11,
   "metadata": {
    "collapsed": false
   },
   "outputs": [
    {
     "name": "stdout",
     "output_type": "stream",
     "text": [
      "10\n",
      "[u'CA' u'US' u'KR' u'GU' u'GB' u'MX' u'VN' u'CN' u'SG' u'JP']\n"
     ]
    }
   ],
   "source": [
    "unique_coiso = dfs['coiso'].unique() # Country ISO Code\n",
    "print len(unique_coiso)\n",
    "print unique_coiso"
   ]
  },
  {
   "cell_type": "markdown",
   "metadata": {},
   "source": [
    "##### => Drop coiso "
   ]
  },
  {
   "cell_type": "code",
   "execution_count": 12,
   "metadata": {
    "collapsed": false
   },
   "outputs": [
    {
     "name": "stdout",
     "output_type": "stream",
     "text": [
      "1058\n",
      "[u'Coquitlam' u'Los Angeles' u'Laguna Woods' ..., u'Spanaway'\n",
      " u'Charlestown' u'New Hyde Park']\n"
     ]
    }
   ],
   "source": [
    "unique_ct = dfs['ct'].unique() # City name\n",
    "print len(unique_ct)\n",
    "print unique_ct"
   ]
  },
  {
   "cell_type": "code",
   "execution_count": 13,
   "metadata": {
    "collapsed": false
   },
   "outputs": [
    {
     "name": "stdout",
     "output_type": "stream",
     "text": [
      "4\n",
      "[u'WooriKooli W' u'h3' nan u'H5A2CUDQOT']\n"
     ]
    }
   ],
   "source": [
    "unique_devm = dfs['devm'].unique() # device model name\n",
    "print len(unique_devm)\n",
    "print unique_devm"
   ]
  },
  {
   "cell_type": "code",
   "execution_count": 14,
   "metadata": {
    "collapsed": false
   },
   "outputs": [
    {
     "name": "stdout",
     "output_type": "stream",
     "text": [
      "4\n",
      "[u'Hutek' u'humaxdigital' nan u'Humaxdigital']\n"
     ]
    }
   ],
   "source": [
    "unique_devv = dfs['devv'].unique() # device vendor\n",
    "print len(unique_devv)\n",
    "print unique_devv"
   ]
  },
  {
   "cell_type": "code",
   "execution_count": 15,
   "metadata": {
    "collapsed": false,
    "scrolled": true
   },
   "outputs": [
    {
     "name": "stdout",
     "output_type": "stream",
     "text": [
      "8093\n",
      "[u\"E71 : I'm Sorry Gangnamgu\" u'E106 : Always Spring Day'\n",
      " u'E1133 : Open Concert' ..., u'E26 : You Are Gift' u'E306 : Running Man'\n",
      " u'E29 : Beautiful You']\n"
     ]
    }
   ],
   "source": [
    "unique_eps = dfs['eps'].unique() # Episode name\n",
    "print len(unique_eps)\n",
    "print unique_eps"
   ]
  },
  {
   "cell_type": "code",
   "execution_count": 16,
   "metadata": {
    "collapsed": false
   },
   "outputs": [
    {
     "name": "stdout",
     "output_type": "stream",
     "text": [
      "246\n",
      "[ u'com.google.android.exoplayer.audio.AudioTrack$InitializationException: AudioTrack init failed: 0, Config(44100, 12, 44100)'\n",
      " u'Unexpected IllegalStateException: null'\n",
      " u'java.net.SocketTimeoutException' nan\n",
      " u'Unable to connect to http://kooli-cdn.wecandeo.com/kooli.wecandeo.com/sbs/20170401/6439023/video_und_2/19440000000.m4s'\n",
      " u'Unable to connect to http://kooli-cdn.wecandeo.com/kooli.wecandeo.com/tvn/20170403/6439822/audio_und_1/9120107483.m4s'\n",
      " u'com.google.android.exoplayer.upstream.HttpDataSource$HttpDataSourceException: Unable to connect to http://kooli-cdn.wecandeo.com/kooli.wecandeo.com/tvn/20170403/6439822/video_und_2/9120000000.m4s'\n",
      " u'Unable to connect to http://kooli-cdn.wecandeo.com/kooli.wecandeo.com/tvn/20170403/6439822/6439822.mpd'\n",
      " u'Unable to connect to http://kooli-cdn.wecandeo.com/kooli.wecandeo.com/sbs/20170402/6439609/video_und_5/2640000000.m4s'\n",
      " u'Unable to connect to http://kooli-cdn.wecandeo.com/kooli.wecandeo.com/sbs/20170402/6439649/video_und_4/0.m4s'\n",
      " u'java.net.SocketException: recvfrom failed: ETIMEDOUT (Connection timed out)'\n",
      " u'Unable to connect to http://kooli-cdn.wecandeo.com/kooli.wecandeo.com/sbs/20170402/6439649/6439649.mpd'\n",
      " u'Unable to connect to http://kooli-cdn.wecandeo.com/kooli.wecandeo.com/sbs/20170402/6439649/audio_kor_1/0.m4s'\n",
      " u'Unable to connect to http://kooli-cdn.wecandeo.com/kooli.wecandeo.com/kbs2/20170403/6440738/video_und_2/26600000000.m4s'\n",
      " u'Unable to connect to http://kooli-cdn.wecandeo.com/kooli.wecandeo.com/mbc/20170401/6438960/video_und_7/6640000000.m4s'\n",
      " u'Unable to connect to http://kooli-cdn.wecandeo.com/kooli.wecandeo.com/jtbc/20170408/6444998/audio_eng_1/18280141497.m4s'\n",
      " u'Unable to connect to http://kooli-cdn.wecandeo.com/kooli.wecandeo.com/jtbc/20170408/6444998/video_und_2/18280000000.m4s'\n",
      " u'Unable to connect to http://kooli-cdn.wecandeo.com/kooli.wecandeo.com/mbc/20170410/6446455/audio_kor_1/31120079819.m4s'\n",
      " u'Unable to connect to http://kooli-cdn.wecandeo.com/kooli.wecandeo.com/sbs/20170408/6445095/video_und_7/init.mp4'\n",
      " u'Unable to connect to http://kooli-cdn.wecandeo.com/kooli.wecandeo.com/sbs/20170408/6445095/6445095.mpd'\n",
      " u'Unable to connect to http://kooli-cdn.wecandeo.com/kooli.wecandeo.com/mbc/20170115/6358394/video_und_2/4720000000.m4s'\n",
      " u'Unable to connect to http://kooli-cdn.wecandeo.com/kooli.wecandeo.com/mbc/20170115/6358394/audio_kor_1/4720152381.m4s'\n",
      " u'Unable to connect to http://kooli-cdn.wecandeo.com/kooli.wecandeo.com/mbc/20170409/6446202/6446202.mpd'\n",
      " u'Unable to connect to http://kooli-cdn.wecandeo.com/kooli.wecandeo.com/jtbc/20170331/6438121/audio_eng_1/15200014512.m4s'\n",
      " u'Unable to connect to http://kooli-cdn.wecandeo.com/kooli.wecandeo.com/jtbc/20170412/6448553/video_und_2/15960000000.m4s'\n",
      " u'Unable to connect to http://kooli-cdn.wecandeo.com/kooli.wecandeo.com/jtbc/20170412/6448553/audio_eng_1/15960003628.m4s'\n",
      " u'Unable to connect to http://kooli-cdn.wecandeo.com/kooli.wecandeo.com/kbs1/20170412/6448639/video_und_2/8800000000.m4s'\n",
      " u'Unable to connect to http://kooli-cdn.wecandeo.com/kooli.wecandeo.com/kbs1/20170412/6448639/audio_kor_1/8800130612.m4s'\n",
      " u'Unable to connect to http://kooli-cdn.wecandeo.com/kooli.wecandeo.com/2017/04/14/6450638/dash/audio_und_1/42280134014.m4s'\n",
      " u'Unable to connect to http://kooli-cdn.wecandeo.com/kooli.wecandeo.com/mbc/20170412/6448542/video_und_2/11280000000.m4s'\n",
      " u'Unable to connect to http://kooli-cdn.wecandeo.com/kooli.wecandeo.com/kbs2/20170405/6441990/audio_kor_1/6480224943.m4s'\n",
      " u'Unable to connect to http://kooli-cdn.wecandeo.com/kooli.wecandeo.com/2017/04/14/6451564/dash/video_und_2/13920000000.m4s'\n",
      " u'Unable to connect to http://kooli-cdn.wecandeo.com/kooli.wecandeo.com/kbs2/20161226/6340427/audio_kor_1/28520141497.m4s'\n",
      " u'Unable to connect to http://kooli-cdn.wecandeo.com/kooli.wecandeo.com/2017/04/14/6451564/dash/audio_eng_1/13920130612.m4s'\n",
      " u'Unable to connect to http://kooli-cdn.wecandeo.com/kooli.wecandeo.com/kbs2/20161226/6340427/video_und_2/28520000000.m4s'\n",
      " u'Unable to connect to http://kooli-cdn.wecandeo.com/kooli.wecandeo.com/kbs2/20161226/6340427/6340427.mpd'\n",
      " u'Unable to connect to http://kooli-cdn.wecandeo.com/kooli.wecandeo.com/sbs/20170412/6448541/video_und_2/9760000000.m4s'\n",
      " u'Unable to connect to http://kooli-cdn.wecandeo.com/kooli.wecandeo.com/kbs2/20170408/6445539/audio_kor_1/35560199546.m4s'\n",
      " u'Unable to connect to http://kooli-cdn.wecandeo.com/kooli.wecandeo.com/kbs2/20170408/6445539/video_und_2/35560000000.m4s'\n",
      " u'Unable to connect to http://kooli-cdn.wecandeo.com/kooli.wecandeo.com/2017/04/15/6452160/dash/video_und_2/7600000000.m4s'\n",
      " u'Unable to connect to http://kooli-cdn.wecandeo.com/kooli.wecandeo.com/2017/04/15/6452160/dash/audio_kor_1/7560185034.m4s'\n",
      " u'Unable to connect to http://kooli-cdn.wecandeo.com/kooli.wecandeo.com/2017/04/18/6454060/dash/audio_kor_1/12160058050.m4s'\n",
      " u'Unable to connect to http://kooli-cdn.wecandeo.com/kooli.wecandeo.com/2017/04/18/6454060/dash/video_und_2/12160000000.m4s'\n",
      " u'java.net.ProtocolException: unexpected end of stream'\n",
      " u'Unable to connect to http://kooli-cdn.wecandeo.com/kooli.wecandeo.com/movie/20161219/6335380/video_und_2/66680000000.m4s'\n",
      " u'Unable to connect to http://kooli-cdn.wecandeo.com/kooli.wecandeo.com/movie/20161219/6335380/video_und_2/66720000000.m4s'\n",
      " u'Unable to connect to http://kooli-cdn.wecandeo.com/kooli.wecandeo.com/mbc/20170305/6410974/video_und_2/20200000000.m4s'\n",
      " u'Unable to connect to http://kooli-cdn.wecandeo.com/kooli.wecandeo.com/mbc/20170305/6410974/audio_kor_1/20160029025.m4s'\n",
      " u'Unable to connect to http://kooli-cdn.wecandeo.com/kooli.wecandeo.com/kbs1/20160108/5999605/video_und_3/4760000000.m4s'\n",
      " u'Unable to connect to http://kooli-cdn.wecandeo.com/kooli.wecandeo.com/2017/04/18/6454070/dash/video_und_5/8160000000.m4s'\n",
      " u'Unable to connect to http://kooli-cdn.wecandeo.com/kooli.wecandeo.com/2017/04/18/6454070/dash/6454070.mpd'\n",
      " u'java.net.SocketException: recvfrom failed: ECONNRESET (Connection reset by peer)'\n",
      " u'Unable to connect to http://kooli-cdn.wecandeo.com/kooli.wecandeo.com/2017/04/17/6453962/dash/audio_kor_1/8520097959.m4s'\n",
      " u'Unable to connect to http://kooli-cdn.wecandeo.com/kooli.wecandeo.com/2017/04/17/6453962/dash/video_und_2/8520000000.m4s'\n",
      " u'Unable to connect to http://kooli-cdn.wecandeo.com/kooli.wecandeo.com/2017/04/19/6455309/dash/video_und_2/8520000000.m4s'\n",
      " u'Unable to connect to http://kooli-cdn.wecandeo.com/kooli.wecandeo.com/2017/04/19/6455309/dash/audio_kor_1/8520097959.m4s'\n",
      " u'Unable to connect to http://kooli-cdn.wecandeo.com/kooli.wecandeo.com/mbc/20170402/6439539/video_und_2/25720000000.m4s'\n",
      " u'Unable to connect to http://kooli-cdn.wecandeo.com/kooli.wecandeo.com/2017/04/20/6456315/dash/video_und_2/32000000000.m4s'\n",
      " u'Unable to connect to http://kooli-cdn.wecandeo.com/kooli.wecandeo.com/2017/04/21/6457324/dash/6457324.mpd'\n",
      " u'Unable to connect to http://kooli-cdn.wecandeo.com/kooli.wecandeo.com/kbs2/20170324/6429861/video_und_2/21240000000.m4s'\n",
      " u'Unable to connect to http://kooli-cdn.wecandeo.com/kooli.wecandeo.com/kbs1/20170411/6448450/video_und_2/15360000000.m4s'\n",
      " u'Unable to connect to http://kooli-cdn.wecandeo.com/kooli.wecandeo.com/tvn/20160818/6225695/video_und_2/14400000000.m4s'\n",
      " u'org.xmlpull.v1.XmlPullParserException: Comments may not contain -- (position:COMMENT @1:59 in java.io.InputStreamReader@42db0cf8) '\n",
      " u'Unable to connect to http://kooli-cdn.wecandeo.com/kooli.wecandeo.com/2017/04/21/6458289/dash/6458289.mpd'\n",
      " u'Unable to connect to http://kooli-cdn.wecandeo.com/kooli.wecandeo.com/2017/04/21/6458289/dash/audio_eng_1/400079819.m4s'\n",
      " u'Unable to connect to http://kooli-cdn.wecandeo.com/kooli.wecandeo.com/2017/04/21/6458289/dash/video_und_7/840000000.m4s'\n",
      " u'Unable to connect to http://kooli-cdn.wecandeo.com/kooli.wecandeo.com/2017/04/21/6458289/dash/audio_eng_1/800159637.m4s'\n",
      " u'Unable to connect to http://kooli-cdn.wecandeo.com/kooli.wecandeo.com/2017/04/25/6460771/dash/video_und_2/30280000000.m4s'\n",
      " u'Unable to connect to http://kooli-cdn.wecandeo.com/kooli.wecandeo.com/2017/04/25/6460771/dash/audio_kor_1/30280214059.m4s'\n",
      " u'Unable to connect to http://kooli-cdn.wecandeo.com/kooli.wecandeo.com/2017/04/24/6460650/dash/audio_kor_1/24080021769.m4s'\n",
      " u'Unable to connect to http://kooli-cdn.wecandeo.com/kooli.wecandeo.com/2017/04/25/6460796/dash/audio_eng_1/18200032653.m4s'\n",
      " u'Unable to connect to http://kooli-cdn.wecandeo.com/kooli.wecandeo.com/2017/04/25/6460796/dash/video_und_2/18200000000.m4s'\n",
      " u'Unable to connect to http://kooli-cdn.wecandeo.com/kooli.wecandeo.com/2017/04/26/6461893/dash/audio_kor_1/35440152381.m4s'\n",
      " u'Unable to connect to http://kooli-cdn.wecandeo.com/kooli.wecandeo.com/2017/04/26/6461983/dash/video_und_2/20960000000.m4s'\n",
      " u'Unable to connect to http://kooli-cdn.wecandeo.com/kooli.wecandeo.com/2017/04/29/6464867/dash/video_und_2/58680000000.m4s'\n",
      " u'Unable to connect to http://kooli-cdn.wecandeo.com/kooli.wecandeo.com/2017/04/30/6465579/dash/6465579.mpd'\n",
      " u'Unable to connect to http://kooli-cdn.wecandeo.com/kooli.wecandeo.com/2017/04/16/6452378/dash/6452378.mpd'\n",
      " u'Unable to connect to http://kooli-cdn.wecandeo.com/kooli.wecandeo.com/2017/04/30/6465579/dash/video_und_4/0.m4s'\n",
      " u'Unable to connect to http://kooli-cdn.wecandeo.com/kooli.wecandeo.com/2017/04/30/6465579/dash/audio_kor_1/0.m4s'\n",
      " u'Unable to connect to http://kooli-cdn.wecandeo.com/kooli.wecandeo.com/2017/04/30/6466101/dash/6466101.mpd'\n",
      " u'Unable to connect to http://kooli-cdn.wecandeo.com/kooli.wecandeo.com/2017/05/01/6466885/dash/6466885.mpd'\n",
      " u'Unable to connect to http://kooli-cdn.wecandeo.com/kooli.wecandeo.com/2017/05/02/6466965/dash/audio_kor_1/36840083447.m4s'\n",
      " u'Unable to connect to http://kooli-cdn.wecandeo.com/kooli.wecandeo.com/2017/05/01/6466885/dash/audio_kor_1/init.mp4'\n",
      " u'Unable to connect to http://kooli-cdn.wecandeo.com/kooli.wecandeo.com/2017/05/01/6466885/dash/video_und_4/init.mp4'\n",
      " u'Unable to connect to http://kooli-cdn.wecandeo.com/kooli.wecandeo.com/2017/05/02/6466965/dash/video_und_2/36840000000.m4s'\n",
      " u'Unable to connect to http://kooli-cdn.wecandeo.com/kooli.wecandeo.com/sbs/20170208/6382718/video_und_6/45760000000.m4s'\n",
      " u'Unable to connect to http://kooli-cdn.wecandeo.com/kooli.wecandeo.com/2017/05/01/6466956/dash/audio_kor_1/15080199546.m4s'\n",
      " u'Unable to connect to http://kooli-cdn.wecandeo.com/kooli.wecandeo.com/2017/05/01/6466956/dash/video_und_3/15080000000.m4s'\n",
      " u'Unable to connect to http://kooli-cdn.wecandeo.com/kooli.wecandeo.com/2017/04/30/6466142/dash/video_und_3/14320000000.m4s'\n",
      " u'Unable to connect to http://kooli-cdn.wecandeo.com/kooli.wecandeo.com/2017/05/02/6466965/dash/video_und_2/30960000000.m4s'\n",
      " u'java.io.EOFException'\n",
      " u'Unable to connect to http://kooli-cdn.wecandeo.com/kooli.wecandeo.com/kids/20170123/6367783/video_und_2/1280000000.m4s'\n",
      " u'Unable to connect to http://kooli-cdn.wecandeo.com/kooli.wecandeo.com/2017/05/02/6466970/dash/video_und_7/32840000000.m4s'\n",
      " u'Unable to connect to http://kooli-cdn.wecandeo.com/kooli.wecandeo.com/2017/05/01/6466959/dash/video_und_4/33000000000.m4s'\n",
      " u'Unable to connect to http://kooli-cdn.wecandeo.com/kooli.wecandeo.com/2017/05/02/6466970/dash/6466970.mpd'\n",
      " u'com.google.android.exoplayer.upstream.HttpDataSource$HttpDataSourceException: Unable to connect to http://kooli-cdn.wecandeo.com/kooli.wecandeo.com/2017/05/02/6466970/dash/audio_eng_1/32840214059.m4s'\n",
      " u'Unable to connect to http://kooli-cdn.wecandeo.com/kooli.wecandeo.com/2017/05/01/6466959/dash/audio_eng_1/33000199546.m4s'\n",
      " u'Unable to connect to http://kooli-cdn.wecandeo.com/kooli.wecandeo.com/2017/04/25/6460771/dash/video_und_2/31400000000.m4s'\n",
      " u'Unable to connect to http://kooli-cdn.wecandeo.com/kooli.wecandeo.com/2017/04/25/6460771/dash/audio_kor_1/31320003628.m4s'\n",
      " u'Unable to connect to http://kooli-cdn.wecandeo.com/kooli.wecandeo.com/2017/04/30/6466077/dash/video_und_2/26120000000.m4s'\n",
      " u'Unable to connect to http://kooli-cdn.wecandeo.com/kooli.wecandeo.com/2017/04/30/6466077/dash/audio_kor_1/26120126984.m4s'\n",
      " u'Unable to connect to http://kooli-cdn.wecandeo.com/kooli.wecandeo.com/2017/04/30/6466077/dash/audio_kor_1/26400159637.m4s'\n",
      " u'Unable to connect to http://kooli-cdn.wecandeo.com/kooli.wecandeo.com/2017/04/30/6466077/dash/video_und_2/26400000000.m4s'\n",
      " u'Unable to connect to http://kooli-cdn.wecandeo.com/kooli.wecandeo.com/2017/05/05/6469647/dash/video_und_2/11680000000.m4s'\n",
      " u'Unable to connect to http://kooli-cdn.wecandeo.com/kooli.wecandeo.com/2017/05/05/6469647/dash/audio_eng_1/11680101587.m4s'\n",
      " u'Unable to connect to http://kooli-cdn.wecandeo.com/kooli.wecandeo.com/2017/05/05/6469647/dash/6469647.mpd'\n",
      " u'Unable to connect to http://kooli-cdn.wecandeo.com/kooli.wecandeo.com/2017/04/30/6465597/dash/6465597.mpd'\n",
      " u'Unable to connect to http://kooli-cdn.wecandeo.com/kooli.wecandeo.com/2017/05/05/6469647/dash/audio_eng_1/12160058050.m4s'\n",
      " u'Unable to connect to http://kooli-cdn.wecandeo.com/kooli.wecandeo.com/kbs1/20170208/6383611/video_und_2/27040000000.m4s'\n",
      " u'Unable to connect to http://kooli-cdn.wecandeo.com/kooli.wecandeo.com/2017/05/07/6470892/dash/video_und_4/14920000000.m4s'\n",
      " u'Unable to connect to http://kooli-cdn.wecandeo.com/kooli.wecandeo.com/2017/05/07/6470815/dash/audio_kor_1/20000043537.m4s'\n",
      " u'Unable to connect to http://kooli-cdn.wecandeo.com/kooli.wecandeo.com/2017/05/07/6470815/dash/video_und_2/20000000000.m4s'\n",
      " u'Unable to connect to http://kooli-cdn.wecandeo.com/kooli.wecandeo.com/mbc/20170222/6396194/audio_kor_1/5480141497.m4s'\n",
      " u'Unable to connect to http://kooli-cdn.wecandeo.com/kooli.wecandeo.com/mbc/20151218/5979810/video_und_2/400000000.m4s'\n",
      " u'com.google.android.exoplayer.upstream.HttpDataSource$HttpDataSourceException: Unable to connect to http://kooli-cdn.wecandeo.com/kooli.wecandeo.com/mbc/20170222/6396194/audio_kor_1/5480141497.m4s'\n",
      " u'Unable to connect to http://kooli-cdn.wecandeo.com/kooli.wecandeo.com/mbc/20170222/6396194/6396194.mpd'\n",
      " u'Unable to connect to http://kooli-cdn.wecandeo.com/kooli.wecandeo.com/2017/05/08/6471051/dash/video_und_2/19560000000.m4s'\n",
      " u'Unable to connect to http://kooli-cdn.wecandeo.com/kooli.wecandeo.com/2017/05/09/6472439/dash/audio_und_1/29960148073.m4s'\n",
      " u'Unable to connect to http://kooli-cdn.wecandeo.com/kooli.wecandeo.com/2017/05/07/6470759/dash/audio_kor_1/9640228571.m4s'\n",
      " u'Unable to connect to http://kooli-cdn.wecandeo.com/kooli.wecandeo.com/2017/05/09/6471824/dash/6471824.mpd'\n",
      " u'Unable to connect to http://kooli-cdn.wecandeo.com/kooli.wecandeo.com/2017/05/04/6468458/dash/video_und_2/11840000000.m4s'\n",
      " u'Unable to connect to http://kooli-cdn.wecandeo.com/kooli.wecandeo.com/2017/05/04/6468458/dash/audio_kor_1/11840087075.m4s'\n",
      " u'Unable to connect to http://kooli-cdn.wecandeo.com/kooli.wecandeo.com/2017/05/11/6474528/dash/6474528.mpd'\n",
      " u'Unable to connect to http://kooli-cdn.wecandeo.com/kooli.wecandeo.com/2017/05/12/6474561/dash/video_und_2/9640000000.m4s'\n",
      " u'Unable to connect to http://kooli-cdn.wecandeo.com/kooli.wecandeo.com/2017/05/11/6474545/dash/audio_kor_1/4240195918.m4s'\n",
      " u'com.google.android.exoplayer.upstream.HttpDataSource$HttpDataSourceException: java.net.SocketTimeoutException'\n",
      " u'Unable to connect to http://kooli-cdn.wecandeo.com/kooli.wecandeo.com/2017/05/07/6470738/dash/6470738.mpd'\n",
      " u'Unable to connect to http://kooli-cdn.wecandeo.com/kooli.wecandeo.com/2017/05/14/6476465/dash/audio_kor_1/4520228571.m4s'\n",
      " u'Unable to connect to http://kooli-cdn.wecandeo.com/kooli.wecandeo.com/2017/05/14/6476465/dash/video_und_2/4520000000.m4s'\n",
      " u'Unable to connect to http://kooli-cdn.wecandeo.com/kooli.wecandeo.com/2017/05/14/6476004/dash/audio_kor_1/32880152381.m4s'\n",
      " u'Unable to connect to http://kooli-cdn.wecandeo.com/kooli.wecandeo.com/2017/05/15/6476786/dash/audio_und_1/40440132200.m4s'\n",
      " u'Unable to connect to http://kooli-cdn.wecandeo.com/kooli.wecandeo.com/2017/05/15/6476786/dash/video_und_2/40440000000.m4s'\n",
      " u'Unable to connect to http://kooli-cdn.wecandeo.com/kooli.wecandeo.com/sbs/20170405/6441878/video_und_2/34920000000.m4s'\n",
      " u'Unable to connect to http://kooli-cdn.wecandeo.com/kooli.wecandeo.com/sbs/20170405/6441878/audio_kor_1/34920025397.m4s'\n",
      " u'Unable to connect to http://kooli-cdn.wecandeo.com/kooli.wecandeo.com/movie/20161219/6335152/audio_und_1/55480097732.m4s'\n",
      " u'Unable to connect to http://kooli-cdn.wecandeo.com/kooli.wecandeo.com/movie/20161219/6335152/video_und_2/55480000000.m4s'\n",
      " u'Unable to connect to http://kooli-cdn.wecandeo.com/kooli.wecandeo.com/2017/05/09/6471811/dash/audio_kor_1/2360076190.m4s'\n",
      " u'Unable to connect to http://kooli-cdn.wecandeo.com/kooli.wecandeo.com/2017/05/18/6479859/dash/6479859.mpd'\n",
      " u'Unable to connect to http://kooli-cdn.wecandeo.com/kooli.wecandeo.com/2017/05/14/6476533/dash/6476533.mpd'\n",
      " u'Unable to connect to http://kooli-cdn.wecandeo.com/kooli.wecandeo.com/2017/04/23/6458911/dash/video_und_2/46680000000.m4s'\n",
      " u'Unable to connect to http://kooli-cdn.wecandeo.com/kooli.wecandeo.com/2017/05/19/6480865/dash/video_und_4/47320000000.m4s'\n",
      " u'Unable to connect to http://kooli-cdn.wecandeo.com/kooli.wecandeo.com/2017/05/15/6476786/dash/video_und_2/20120000000.m4s'\n",
      " u'Unable to connect to http://kooli-cdn.wecandeo.com/kooli.wecandeo.com/2017/05/15/6476786/dash/audio_und_1/20120221542.m4s'\n",
      " u'Unable to connect to http://kooli-cdn.wecandeo.com/kooli.wecandeo.com/2017/05/15/6476786/dash/video_und_2/20440000000.m4s'\n",
      " u'Unable to connect to http://kooli-cdn.wecandeo.com/kooli.wecandeo.com/2017/05/04/6468487/dash/video_und_2/15560000000.m4s'\n",
      " u'MEDIA_ERROR_UNKNOWN(1) / MEDIA_ERROR_IO(-1004)'\n",
      " u'Unable to connect to http://kooli-cdn.wecandeo.com/kooli.wecandeo.com/2017/05/18/6480824/dash/audio_kor_1/8040141497.m4s'\n",
      " u'Unable to connect to http://kooli-cdn.wecandeo.com/kooli.wecandeo.com/2017/05/18/6480824/dash/video_und_2/8040000000.m4s'\n",
      " u'org.xmlpull.v1.XmlPullParserException: Invalid stream or encoding: com.google.android.exoplayer.upstream.HttpDataSource$HttpDataSourceException: java.net.SocketTimeoutException (position:START_DOCUMENT null@1:1) caused by: com.google.android.exoplayer.upstream.HttpDataSource$HttpDataSourceException: java.net.SocketTimeoutException'\n",
      " u'Unable to connect to http://kooli-cdn.wecandeo.com/kooli.wecandeo.com/2017/05/22/6483267/dash/6483267.mpd'\n",
      " u'Unable to connect to http://kooli-cdn.wecandeo.com/kooli.wecandeo.com/2017/05/22/6483267/dash/video_und_2/22440000000.m4s'\n",
      " u'Unable to connect to http://kooli-cdn.wecandeo.com/kooli.wecandeo.com/kbs1/20170314/6419897/video_und_2/8760000000.m4s'\n",
      " u'Unable to connect to http://kooli-cdn.wecandeo.com/kooli.wecandeo.com/kbs1/20170128/6372495/6372495.mpd'\n",
      " u'com.google.android.exoplayer.upstream.HttpDataSource$HttpDataSourceException: java.net.SocketException: recvfrom failed: ECONNRESET (Connection reset by peer)'\n",
      " u'org.xmlpull.v1.XmlPullParserException: Unexpected token (position:TEXT HTTP/1.0 302 Fou...@6:1 in java.io.InputStreamReader@424b17b0) '\n",
      " u'org.xmlpull.v1.XmlPullParserException: Unexpected token (position:TEXT HTTP/1.0 302 Fou...@6:1 in java.io.InputStreamReader@4255fa28) '\n",
      " u'org.xmlpull.v1.XmlPullParserException: Unexpected token (position:TEXT HTTP/1.0 302 Fou...@6:1 in java.io.InputStreamReader@42d19fe0) '\n",
      " u'Unable to connect to http://kooli-cdn.wecandeo.com/kooli.wecandeo.com/2017/05/13/6475901/dash/video_und_7/41280000000.m4s'\n",
      " u'org.xmlpull.v1.XmlPullParserException: Unexpected token (position:TEXT HTTP/1.0 302 Fou...@6:1 in java.io.InputStreamReader@428dd338) '\n",
      " u'org.xmlpull.v1.XmlPullParserException: Unexpected token (position:TEXT HTTP/1.0 302 Fou...@6:1 in java.io.InputStreamReader@4290cc40) '\n",
      " u'org.xmlpull.v1.XmlPullParserException: Unexpected token (position:TEXT HTTP/1.0 302 Fou...@6:1 in java.io.InputStreamReader@424ebcf8) '\n",
      " u'org.xmlpull.v1.XmlPullParserException: Unexpected token (position:TEXT HTTP/1.0 302 Fou...@6:1 in java.io.InputStreamReader@42a9f278) '\n",
      " u'org.xmlpull.v1.XmlPullParserException: Unexpected token (position:TEXT HTTP/1.0 302 Fou...@6:1 in java.io.InputStreamReader@427ea6b8) '\n",
      " u'Unable to connect to http://kooli-cdn.wecandeo.com/kooli.wecandeo.com/mbc/20170314/6420570/video_und_3/9520000000.m4s'\n",
      " u'Unable to connect to http://kooli-cdn.wecandeo.com/kooli.wecandeo.com/tvn/20170408/6445087/video_und_2/4760000000.m4s'\n",
      " u'com.google.android.exoplayer.upstream.HttpDataSource$HttpDataSourceException: Unable to connect to http://kooli-cdn.wecandeo.com/kooli.wecandeo.com/tvn/20170408/6445087/video_und_2/4760000000.m4s'\n",
      " u'Unable to connect to http://kooli-cdn.wecandeo.com/kooli.wecandeo.com/tvn/20170408/6445087/6445087.mpd'\n",
      " u'Unable to connect to http://kooli-cdn.wecandeo.com/kooli.wecandeo.com/2017/04/27/6463602/dash/video_und_2/14240000000.m4s'\n",
      " u'Unable to connect to http://kooli-cdn.wecandeo.com/kooli.wecandeo.com/2017/04/27/6463602/dash/audio_kor_1/14240101587.m4s'\n",
      " u'Unable to connect to http://kooli-cdn.wecandeo.com/kooli.wecandeo.com/2017/05/30/6491511/dash/video_und_2/11320000000.m4s'\n",
      " u'Unable to connect to http://kooli-cdn.wecandeo.com/kooli.wecandeo.com/2017/05/23/6484186/dash/audio_kor_1/33520094331.m4s'\n",
      " u'Unable to connect to http://kooli-cdn.wecandeo.com/kooli.wecandeo.com/2017/05/23/6484186/dash/video_und_2/33520000000.m4s'\n",
      " u'Unable to connect to http://kooli-cdn.wecandeo.com/kooli.wecandeo.com/2017/06/02/6495442/dash/video_und_2/3760000000.m4s'\n",
      " u'Unable to connect to http://kooli-cdn.wecandeo.com/kooli.wecandeo.com/2017/06/01/6495424/dash/video_und_2/18600000000.m4s'\n",
      " u'Unable to connect to http://kooli-cdn.wecandeo.com/kooli.wecandeo.com/2017/06/02/6496204/dash/video_und_3/23320000000.m4s'\n",
      " u'Unable to connect to http://kooli-cdn.wecandeo.com/kooli.wecandeo.com/2017/06/03/6497228/dash/video_und_2/4640000000.m4s'\n",
      " u'Unable to connect to http://kooli-cdn.wecandeo.com/kooli.wecandeo.com/2017/06/01/6495065/dash/6495065.mpd'\n",
      " u'Unable to connect to http://kooli-cdn.wecandeo.com/kooli.wecandeo.com/sbs/20160129/6025071/audio_eng_1/3480206803.m4s'\n",
      " u'Unable to connect to http://kooli-cdn.wecandeo.com/kooli.wecandeo.com/sbs/20160129/6025071/video_und_2/3480000000.m4s'\n",
      " u'Unable to connect to http://kooli-cdn.wecandeo.com/kooli.wecandeo.com/kbs1/20170404/6441754/audio_kor_1/10480094331.m4s'\n",
      " u'com.google.android.exoplayer.upstream.HttpDataSource$HttpDataSourceException: Unable to connect to http://kooli-cdn.wecandeo.com/kooli.wecandeo.com/kbs1/20170404/6441754/audio_kor_1/10480094331.m4s'\n",
      " u'Unable to connect to http://kooli-cdn.wecandeo.com/kooli.wecandeo.com/2017/06/04/6497829/dash/6497829.mpd'\n",
      " u'Unable to connect to http://kooli-cdn.wecandeo.com/kooli.wecandeo.com/2017/06/05/6499149/dash/video_und_2/23360000000.m4s'\n",
      " u'Unable to connect to http://kooli-cdn.wecandeo.com/kooli.wecandeo.com/2017/06/04/6497906/dash/audio_kor_1/25600000000.m4s'\n",
      " u'Unable to connect to http://kooli-cdn.wecandeo.com/kooli.wecandeo.com/2017/06/05/6499149/dash/audio_kor_1/23360203175.m4s'\n",
      " u'Unable to connect to http://kooli-cdn.wecandeo.com/kooli.wecandeo.com/2017/06/04/6497906/dash/6497906.mpd'\n",
      " u'Unable to connect to http://kooli-cdn.wecandeo.com/kooli.wecandeo.com/2017/06/05/6498166/dash/audio_kor_1/7600123356.m4s'\n",
      " u'com.google.android.exoplayer.upstream.HttpDataSource$HttpDataSourceException: java.net.ProtocolException: unexpected end of stream'\n",
      " u'com.google.android.exoplayer.upstream.HttpDataSource$HttpDataSourceException: Unable to connect to http://kooli-cdn.wecandeo.com/kooli.wecandeo.com/2017/06/05/6498166/dash/audio_kor_1/7600123356.m4s'\n",
      " u'Unable to connect to http://kooli-cdn.wecandeo.com/kooli.wecandeo.com/2017/06/05/6498166/dash/6498166.mpd'\n",
      " u'Unable to connect to http://kooli-cdn.wecandeo.com/kooli.wecandeo.com/2017/06/03/6497163/dash/audio_kor_1/19880228571.m4s'\n",
      " u'Unable to connect to http://kooli-cdn.wecandeo.com/kooli.wecandeo.com/2017/06/02/6496504/dash/6496504.mpd'\n",
      " u'Unable to connect to http://kooli-cdn.wecandeo.com/kooli.wecandeo.com/2017/06/05/6498082/dash/audio_und_1/5920129252.m4s'\n",
      " u'Unable to connect to http://kooli-cdn.wecandeo.com/kooli.wecandeo.com/2017/06/05/6498082/dash/video_und_3/5920000000.m4s'\n",
      " u'Unable to connect to http://kooli-cdn.wecandeo.com/kooli.wecandeo.com/2017/06/06/6499624/dash/video_und_2/6800000000.m4s'\n",
      " u'Unable to connect to http://kooli-cdn.wecandeo.com/kooli.wecandeo.com/2017/06/09/6502503/dash/video_und_2/38080000000.m4s'\n",
      " u'Unable to connect to http://kooli-cdn.wecandeo.com/kooli.wecandeo.com/2017/06/09/6502503/dash/audio_kor_1/38080029025.m4s'\n",
      " u'Unable to connect to http://kooli-cdn.wecandeo.com/kooli.wecandeo.com/sbs/20170202/6377935/video_und_2/20840000000.m4s'\n",
      " u'Unable to connect to http://kooli-cdn.wecandeo.com/kooli.wecandeo.com/2017/06/09/6502503/dash/audio_kor_1/37480025397.m4s'\n",
      " u'Unable to connect to http://kooli-cdn.wecandeo.com/kooli.wecandeo.com/2017/06/09/6502503/dash/video_und_2/37480000000.m4s'\n",
      " u'Unable to connect to http://kooli-cdn.wecandeo.com/kooli.wecandeo.com/2017/06/09/6503618/dash/audio_kor_1/20680156009.m4s'\n",
      " u'Unable to connect to http://kooli-cdn.wecandeo.com/kooli.wecandeo.com/2017/06/09/6503618/dash/video_und_2/20760000000.m4s'\n",
      " u'Unable to connect to http://kooli-cdn.wecandeo.com/kooli.wecandeo.com/2017/06/09/6503619/dash/audio_kor_1/4920076190.m4s'\n",
      " u'Unable to connect to http://kooli-cdn.wecandeo.com/kooli.wecandeo.com/2017/06/09/6503619/dash/video_und_2/4920000000.m4s'\n",
      " u'Response code: 500'\n",
      " u'Unable to connect to http://kooli-cdn.wecandeo.com/kooli.wecandeo.com/kbs2/20170305/6410897/audio_kor_1/14440025397.m4s'\n",
      " u'Unable to connect to http://kooli-cdn.wecandeo.com/kooli.wecandeo.com/sbs/20170309/6415223/audio_kor_1/11280021769.m4s'\n",
      " u'Unable to connect to http://kooli-cdn.wecandeo.com/kooli.wecandeo.com/sbs/20170309/6415223/video_und_3/11280000000.m4s'\n",
      " u'Unable to connect to http://kooli-cdn.wecandeo.com/kooli.wecandeo.com/2017/05/11/6474545/dash/video_und_2/16160000000.m4s'\n",
      " u'Unable to connect to http://kooli-cdn.wecandeo.com/kooli.wecandeo.com/2017/06/11/6504772/dash/audio_kor_1/50720043537.m4s'\n",
      " u'Unable to connect to http://kooli-cdn.wecandeo.com/kooli.wecandeo.com/2017/06/12/6504937/dash/audio_kor_1/14160224943.m4s'\n",
      " u'Unable to connect to http://kooli-cdn.wecandeo.com/kooli.wecandeo.com/2017/06/12/6504937/dash/video_und_2/14160000000.m4s'\n",
      " u'Unable to connect to http://kooli-cdn.wecandeo.com/kooli.wecandeo.com/kbs1/20160424/6123037/video_und_2/17120000000.m4s'\n",
      " u'Unable to connect to http://kooli-cdn.wecandeo.com/kooli.wecandeo.com/kbs2/20170327/6432203/6432203.mpd'\n",
      " u'Unable to connect to http://kooli-cdn.wecandeo.com/kooli.wecandeo.com/2017/06/14/6507444/dash/audio_eng_1/1760072562.m4s'\n",
      " u'Unable to connect to http://kooli-cdn.wecandeo.com/kooli.wecandeo.com/2017/06/14/6507444/dash/video_und_2/1760000000.m4s'\n",
      " u'Unable to connect to http://kooli-cdn.wecandeo.com/kooli.wecandeo.com/2017/06/15/6511209/dash/video_und_3/7560000000.m4s'\n",
      " u'Unable to connect to http://kooli-cdn.wecandeo.com/kooli.wecandeo.com/2017/06/15/6511209/dash/audio_kor_1/7560185034.m4s'\n",
      " u'Unable to connect to http://kooli-cdn.wecandeo.com/kooli.wecandeo.com/2017/06/17/6513081/dash/audio_kor_1/34360060317.m4s'\n",
      " u'Unable to connect to http://kooli-cdn.wecandeo.com/kooli.wecandeo.com/2017/06/17/6513081/dash/video_und_2/34360000000.m4s'\n",
      " u'Unable to connect to http://kooli-cdn.wecandeo.com/kooli.wecandeo.com/2017/06/17/6513065/dash/video_und_4/21000000000.m4s'\n",
      " u'Unable to connect to http://kooli-cdn.wecandeo.com/kooli.wecandeo.com/2017/06/18/6513854/dash/video_und_2/26280000000.m4s'\n",
      " u'Unable to connect to http://kooli-cdn.wecandeo.com/kooli.wecandeo.com/2017/05/22/6483267/dash/video_und_3/24560000000.m4s'\n",
      " u'Unable to connect to http://kooli-cdn.wecandeo.com/kooli.wecandeo.com/2017/05/22/6483267/dash/video_und_4/24560000000.m4s'\n",
      " u'Unable to connect to http://kooli-cdn.wecandeo.com/kooli.wecandeo.com/2017/05/08/6470950/dash/video_und_2/14280000000.m4s'\n",
      " u'Unable to connect to http://kooli-cdn.wecandeo.com/kooli.wecandeo.com/2017/06/19/6513877/dash/video_und_2/28080000000.m4s'\n",
      " u'Unable to connect to http://kooli-cdn.wecandeo.com/kooli.wecandeo.com/2017/06/19/6513877/dash/audio_kor_1/28080123356.m4s'\n",
      " u'Unable to connect to http://kooli-cdn.wecandeo.com/kooli.wecandeo.com/2017/06/19/6513877/dash/audio_kor_1/28400094331.m4s'\n",
      " u'Unable to connect to http://kooli-cdn.wecandeo.com/kooli.wecandeo.com/2017/06/19/6513877/dash/video_und_2/28400000000.m4s'\n",
      " u'Unable to connect to http://kooli-cdn.wecandeo.com/kooli.wecandeo.com/2017/06/19/6514411/dash/video_und_7/6120000000.m4s'\n",
      " u'Unable to connect to http://kooli-cdn.wecandeo.com/kooli.wecandeo.com/2017/06/19/6513888/dash/audio_kor_1/8360112472.m4s'\n",
      " u'Unable to connect to http://kooli-cdn.wecandeo.com/kooli.wecandeo.com/2017/06/22/6518083/dash/video_und_2/6720000000.m4s'\n",
      " u'Unable to connect to http://kooli-cdn.wecandeo.com/kooli.wecandeo.com/tvn/20170124/6368373/video_und_2/6800000000.m4s'\n",
      " u'Unable to connect to http://kooli-cdn.wecandeo.com/kooli.wecandeo.com/2017/06/24/6519636/dash/video_und_4/0.m4s'\n",
      " u'Unable to connect to http://kooli-cdn.wecandeo.com/kooli.wecandeo.com/2017/06/24/6519636/dash/audio_kor_1/0.m4s'\n",
      " u'Unable to connect to http://kooli-cdn.wecandeo.com/kooli.wecandeo.com/2017/06/25/6520881/dash/video_und_4/1760000000.m4s'\n",
      " u'Unable to connect to http://kooli-cdn.wecandeo.com/kooli.wecandeo.com/2017/06/25/6520881/dash/audio_kor_1/1720134240.m4s'\n",
      " u'Unable to connect to http://kooli-cdn.wecandeo.com/kooli.wecandeo.com/2017/06/25/6520881/dash/video_und_2/1800000000.m4s'\n",
      " u'Unable to connect to http://kooli-cdn.wecandeo.com/kooli.wecandeo.com/2017/06/25/6520835/dash/6520835.mpd'\n",
      " u'Unable to connect to http://kooli-cdn.wecandeo.com/kooli.wecandeo.com/mbc/20160104/5995793/video_und_2/240000000.m4s'\n",
      " u'Unable to connect to http://kooli-cdn.wecandeo.com/kooli.wecandeo.com/2017/06/26/6521057/dash/audio_eng_1/47200130612.m4s'\n",
      " u'Unable to connect to http://kooli-cdn.wecandeo.com/kooli.wecandeo.com/2017/06/26/6521057/dash/video_und_2/47200000000.m4s'\n",
      " u'Unable to connect to http://kooli-cdn.wecandeo.com/kooli.wecandeo.com/2017/06/27/6522326/dash/audio_kor_1/40200010884.m4s'\n",
      " u'Unable to connect to http://kooli-cdn.wecandeo.com/kooli.wecandeo.com/2017/06/25/6520404/dash/audio_kor_1/3520145125.m4s'\n",
      " u'Unable to connect to http://kooli-cdn.wecandeo.com/kooli.wecandeo.com/2017/06/25/6520404/dash/video_und_2/3520000000.m4s'\n",
      " u'Unable to connect to http://kooli-cdn.wecandeo.com/kooli.wecandeo.com/mbc/20151221/5982763/video_und_2/3320000000.m4s']\n"
     ]
    }
   ],
   "source": [
    "unique_errmsg = dfs['errmsg'].unique() # Error message string\n",
    "print len(unique_errmsg)\n",
    "print unique_errmsg"
   ]
  },
  {
   "cell_type": "code",
   "execution_count": 17,
   "metadata": {
    "collapsed": false
   },
   "outputs": [
    {
     "name": "stdout",
     "output_type": "stream",
     "text": [
      "2\n",
      "[u'Unset' nan]\n"
     ]
    }
   ],
   "source": [
    "unique_gen = dfs['gen'].unique() # Gender\n",
    "print len(unique_gen)\n",
    "print unique_gen"
   ]
  },
  {
   "cell_type": "markdown",
   "metadata": {},
   "source": [
    "##### => Drop gen"
   ]
  },
  {
   "cell_type": "code",
   "execution_count": 18,
   "metadata": {
    "collapsed": false
   },
   "outputs": [
    {
     "name": "stdout",
     "output_type": "stream",
     "text": [
      "3073\n",
      "[u'https://d1ijxi6ljrlc3i.cloudfront.net/5i7bozhpqk0fva6sxqrk'\n",
      " u'https://d1ijxi6ljrlc3i.cloudfront.net/hik9csyxhv60jhn7rgw9'\n",
      " u'https://d1ijxi6ljrlc3i.cloudfront.net/dedlbb7aygwme6zauxca' ...,\n",
      " u'https://d1ijxi6ljrlc3i.cloudfront.net/t0g9zajuyrxwgvax2t16'\n",
      " u'https://d1ijxi6ljrlc3i.cloudfront.net/tl23ima4g2qxnwwn6oxw'\n",
      " u'https://d1ijxi6ljrlc3i.cloudfront.net/h75urvro9zaa2ayjfslc']\n"
     ]
    }
   ],
   "source": [
    "unique_img = dfs['img'].unique() # Movie Thumbnail Image URL\n",
    "print len(unique_img)\n",
    "print unique_img"
   ]
  },
  {
   "cell_type": "code",
   "execution_count": 19,
   "metadata": {
    "collapsed": false
   },
   "outputs": [
    {
     "name": "stdout",
     "output_type": "stream",
     "text": [
      "114\n",
      "[u'Pro Omnis Telecommunication' u'Time Warner Cable'\n",
      " u'West Coast Internet Incorporated' u'Comcast Cable' u'Verizon Fios'\n",
      " u'Frontier Communications Corporation' u'CenturyLink'\n",
      " u'AT&T Internet Services' u'AT&T U-verse' u'PenTeleData'\n",
      " u'Charter Communications' u'Verizon Internet Services'\n",
      " u'Cox Communications' u'Frontier Communications' u'Optimum Online'\n",
      " u'Sprint PCS' u'WideOpenWest' u'Grande Communications' u'Hawaiian Telcom'\n",
      " u'Cascadelink' u'AT&T Services' u'Telus Communications' u'Sumofiber'\n",
      " u'EarthLink' u'Windstream Communications' u'Millennium Telcom LLC'\n",
      " u'Braintree Electric Light Dept.' u'MetroCast' u'Bell Canada'\n",
      " u'Shaw Communications' u'Rogers Cable' u'Wildblue Communications'\n",
      " u'Sonic.net' u'Cogent Communications'\n",
      " u'Clarksville Department Of Electricity' u'Consolidated Communications'\n",
      " u'Hughes Network Systems' u'Full Channel' u'Bel Air Internet, LLC'\n",
      " u'Bell Aliant' u'ANS Communications' u'Fairpoint Communications'\n",
      " u'Atlantic Broadband' u'Level 3 Communications' u'Dalton Utilities' u'RCN'\n",
      " u'TekSavvy Solutions' u'Aerioconnect' u'Korea Telecom' u'Mediacom Cable'\n",
      " u'Kuentos Communications'\n",
      " u'California State University, Office of the Chancel' u'BT'\n",
      " u'SureWest Kansas Operations, LLC' u'Cable One' u'GCI Communications'\n",
      " u'Prospect Innovation Center' u'Front Range Internet'\n",
      " u'Astound Broadband LLC' u'Ets Telephone Company'\n",
      " u'Telefonos del Noroeste, S.A. de C.V.' u'YESUP' u'Verizon Wireless'\n",
      " u'Morris Broadband, LLC' u'Alaska Communications Systems Group'\n",
      " u'Shentel Service Company' u'Cogeco Cable' u'Teleguam Holdings, LLC'\n",
      " u'CityLink Fiber Holdings, Inc.' u'Monkey Brains' u'Bright House Networks'\n",
      " u'VDC' u'Consolidated Smart Systems LLC' u'Viasat Communications'\n",
      " u'Neonova Network Services' u'Vivint Wireless' u'Wave Broadband'\n",
      " u'Google Fiber' u'Iusacell' u'China Telecom Jiangxi'\n",
      " u'Suddenlink Communications' u'Plateau Telecommunications Incorporated'\n",
      " u'DSL Extreme' u'Telepacific Communications' u'Hewlett-Packard Company'\n",
      " u'AT&T Wireless' u'LG Powercomm' u'CDE Lightband'\n",
      " u'Advanced Cable Communications' u'Viettel Corporation'\n",
      " u'C&M Kyonggi Cable TV' u'PacketExchange' u'StarHub Cable Vision'\n",
      " u'Virgin Media' u'Shrewsbury Electric and Cable Operations'\n",
      " u'GCEC Technologies' u'T-Mobile USA' u'Pavlov Media' u'Sky Broadband'\n",
      " u'GLW Broadband' u'SK Broadband' u'Videotron Ltee' u'LG DACOM Corporation'\n",
      " u'Isomedia' u'Comcast Business Communications' u'Harvard University'\n",
      " u'Boulder Valley School District (BVSD)' u'Altima Telecom' u'Powercomm'\n",
      " u'China Telecom Guangdong' u'GLBB' u'Telmex' u'SWITCH'\n",
      " u'Ford Motor Company']\n"
     ]
    }
   ],
   "source": [
    "unique_isp = dfs['isp'].unique() # ISP name\n",
    "print len(unique_isp)\n",
    "print unique_isp"
   ]
  },
  {
   "cell_type": "code",
   "execution_count": 20,
   "metadata": {
    "collapsed": false
   },
   "outputs": [
    {
     "name": "stdout",
     "output_type": "stream",
     "text": [
      "2\n",
      "[u'ko' u'en']\n"
     ]
    }
   ],
   "source": [
    "unique_lang = dfs['lang'].unique() # Language\n",
    "print len(unique_lang)\n",
    "print unique_lang"
   ]
  },
  {
   "cell_type": "code",
   "execution_count": 21,
   "metadata": {
    "collapsed": false
   },
   "outputs": [
    {
     "name": "stdout",
     "output_type": "stream",
     "text": [
      "2\n",
      "[u'f' u't']\n"
     ]
    }
   ],
   "source": [
    "unique_live = dfs['live'].unique() # live stream ('t') or not ('f')\n",
    "print len(unique_live)\n",
    "print unique_live"
   ]
  },
  {
   "cell_type": "code",
   "execution_count": 22,
   "metadata": {
    "collapsed": false
   },
   "outputs": [
    {
     "name": "stdout",
     "output_type": "stream",
     "text": [
      "9\n",
      "[u'iBufStart' u'brchg' u'compl' u'bufStart' u'stop' u'play' u'firstPlay'\n",
      " u'pause' nan]\n"
     ]
    }
   ],
   "source": [
    "unique_mplyevnt = dfs['mplyevnt'].unique() # Player event type\n",
    "print len(unique_mplyevnt)\n",
    "print unique_mplyevnt"
   ]
  },
  {
   "cell_type": "code",
   "execution_count": 23,
   "metadata": {
    "collapsed": false
   },
   "outputs": [
    {
     "name": "stdout",
     "output_type": "stream",
     "text": [
      "8\n",
      "[u'KOOLi_Player 1.0.10' u'KOOLi_Player 2.0.6' u'KOOLi_Player 1.0.4'\n",
      " u'KOOLi_Player ' u'KOOLi_Player 2.0.7' u'KOOLi_Player 1.0.7'\n",
      " u'KOOLi_Player 2.0.4' u'KOOLi_Player 1.0.11']\n"
     ]
    }
   ],
   "source": [
    "unique_mpv = dfs['mpv'].unique() # Media player version\n",
    "print len(unique_mpv)\n",
    "print unique_mpv"
   ]
  },
  {
   "cell_type": "code",
   "execution_count": 24,
   "metadata": {
    "collapsed": false
   },
   "outputs": [
    {
     "name": "stdout",
     "output_type": "stream",
     "text": [
      "1\n",
      "[u'Unset']\n"
     ]
    }
   ],
   "source": [
    "unique_mvcp = dfs['mvcp'].unique() # Movie contents provider (abc, ...)\n",
    "print len(unique_mvcp)\n",
    "print unique_mvcp"
   ]
  },
  {
   "cell_type": "markdown",
   "metadata": {},
   "source": [
    "##### => Drop mvcp"
   ]
  },
  {
   "cell_type": "code",
   "execution_count": 25,
   "metadata": {
    "collapsed": false
   },
   "outputs": [
    {
     "name": "stdout",
     "output_type": "stream",
     "text": [
      "8\n",
      "[u'Drama' u'Variety' u'Kids' u'News' u'Life' u'Movies' u'Live' u'LiveTV']\n"
     ]
    }
   ],
   "source": [
    "unique_mvctg = dfs['mvctg'].unique() # Movie category (drama, ...)\n",
    "print len(unique_mvctg)\n",
    "print unique_mvctg"
   ]
  },
  {
   "cell_type": "code",
   "execution_count": 26,
   "metadata": {
    "collapsed": false
   },
   "outputs": [
    {
     "name": "stdout",
     "output_type": "stream",
     "text": [
      "8124\n",
      "[u\"E71 : I'm Sorry Gangnamgu\" u'E106 : Always Spring Day'\n",
      " u'E1133 : Open Concert' ..., u'E26 : You Are Gift' u'E306 : Running Man'\n",
      " u'E29 : Beautiful You']\n"
     ]
    }
   ],
   "source": [
    "unique_mvid = dfs['mvid'].unique() # Movie ID\n",
    "print len(unique_mvid)\n",
    "print unique_mvid"
   ]
  },
  {
   "cell_type": "code",
   "execution_count": 27,
   "metadata": {
    "collapsed": false
   },
   "outputs": [
    {
     "name": "stdout",
     "output_type": "stream",
     "text": [
      "1\n",
      "[u'Unset']\n"
     ]
    }
   ],
   "source": [
    "unique_mvrt = dfs['mvrt'].unique() # Movie rate(pg, r, or ...)\n",
    "print len(unique_mvrt)\n",
    "print unique_mvrt"
   ]
  },
  {
   "cell_type": "markdown",
   "metadata": {},
   "source": [
    "##### => Drop mvrt"
   ]
  },
  {
   "cell_type": "code",
   "execution_count": 28,
   "metadata": {
    "collapsed": false
   },
   "outputs": [
    {
     "name": "stdout",
     "output_type": "stream",
     "text": [
      "1\n",
      "[u'Unset']\n"
     ]
    }
   ],
   "source": [
    "unique_mvsctg = dfs['mvsctg'].unique() # Movie sub-category(romantic,..)\n",
    "print len(unique_mvsctg)\n",
    "print unique_mvsctg"
   ]
  },
  {
   "cell_type": "markdown",
   "metadata": {},
   "source": [
    "##### => Drop mvsctg"
   ]
  },
  {
   "cell_type": "code",
   "execution_count": 29,
   "metadata": {
    "collapsed": false
   },
   "outputs": [
    {
     "name": "stdout",
     "output_type": "stream",
     "text": [
      "2\n",
      "[u'Android' nan]\n"
     ]
    }
   ],
   "source": [
    "unique_osn = dfs['osn'].unique() # OS name\n",
    "print len(unique_osn)\n",
    "print unique_osn"
   ]
  },
  {
   "cell_type": "code",
   "execution_count": 30,
   "metadata": {
    "collapsed": false
   },
   "outputs": [
    {
     "name": "stdout",
     "output_type": "stream",
     "text": [
      "3\n",
      "[u'4.4.4' u'4.4.2' nan]\n"
     ]
    }
   ],
   "source": [
    "unique_osv = dfs['osv'].unique() # OS version\n",
    "print len(unique_osv)\n",
    "print unique_osv"
   ]
  },
  {
   "cell_type": "code",
   "execution_count": 31,
   "metadata": {
    "collapsed": false
   },
   "outputs": [
    {
     "name": "stdout",
     "output_type": "stream",
     "text": [
      "3\n",
      "[u'WooriKooli W' u'h3' u'H5A2CUDQOT']\n"
     ]
    }
   ],
   "source": [
    "unique_pltn = dfs['pltn'].unique() # Platform name\n",
    "print len(unique_pltn)\n",
    "print unique_pltn"
   ]
  },
  {
   "cell_type": "code",
   "execution_count": 32,
   "metadata": {
    "collapsed": false
   },
   "outputs": [
    {
     "name": "stdout",
     "output_type": "stream",
     "text": [
      "2\n",
      "[u'Exoplayer:r1.4.2' u'Android Player']\n"
     ]
    }
   ],
   "source": [
    "unique_ppv = dfs['ppv'].unique() # Player Platform Version\n",
    "print len(unique_ppv)\n",
    "print unique_ppv"
   ]
  },
  {
   "cell_type": "code",
   "execution_count": 33,
   "metadata": {
    "collapsed": false
   },
   "outputs": [
    {
     "name": "stdout",
     "output_type": "stream",
     "text": [
      "2\n",
      "[u'1080p' nan]\n"
     ]
    }
   ],
   "source": [
    "unique_res = dfs['res'].unique() # Display resolutions\n",
    "print len(unique_res)\n",
    "print unique_res"
   ]
  },
  {
   "cell_type": "code",
   "execution_count": 34,
   "metadata": {
    "collapsed": false
   },
   "outputs": [
    {
     "name": "stdout",
     "output_type": "stream",
     "text": [
      "65\n",
      "[u'British Columbia' u'California' u'Massachusetts' u'New York' u'Ontario'\n",
      " u'New Jersey' u'Colorado' u'Illinois' u'Georgia' u'Pennsylvania'\n",
      " u'unknown' u'North Carolina' u'Maryland' u'Texas' u'Alabama'\n",
      " u'Connecticut' u'Virginia' u'Michigan' u'Florida' u'Washington' u'Nevada'\n",
      " u'Indiana' u'District of Columbia' u'Arizona' u'Hawaii' u'Arkansas'\n",
      " u'Utah' u'Wisconsin' u'Louisiana' u'New Mexico' u'Minnesota' u'Delaware'\n",
      " u'Tennessee' u'Kansas' u'Ohio' u'Oklahoma' u'Oregon' u'Rhode Island'\n",
      " u'Kentucky' u'New Hampshire' u'Missouri' u'Hagatna' u'Surrey' u'Alaska'\n",
      " u'Alberta' u'Estado de Baja California' u'South Carolina'\n",
      " u'Thanh Pho Ha Noi' u'Montana' u'Jalisco' u'Jiangxi Sheng' u'Vermont'\n",
      " u'Seoul' u'Mississippi' u'Ulsan' u'Idaho' u'England' u'Tamuning'\n",
      " u'Barrigada' u'Quebec' u'Guangdong' u'Okinawa' u'Wyoming' u'Mexico City'\n",
      " u'Estado de Mexico']\n"
     ]
    }
   ],
   "source": [
    "unique_rg = dfs['rg'].unique() # Region Name (State of province)\n",
    "print len(unique_rg)\n",
    "print unique_rg"
   ]
  },
  {
   "cell_type": "code",
   "execution_count": 35,
   "metadata": {
    "collapsed": false
   },
   "outputs": [
    {
     "name": "stdout",
     "output_type": "stream",
     "text": [
      "62\n",
      "[u'BC' u'CA' u'MA' u'NY' u'ON' u'NJ' u'CO' u'IL' u'GA' u'PA' u'unknown'\n",
      " u'NC' u'MD' u'TX' u'AL' u'CT' u'VA' u'MI' u'FL' u'WA' u'NV' u'IN' u'DC'\n",
      " u'AZ' u'HI' u'AR' u'UT' u'WI' u'LA' u'NM' u'MN' u'DE' u'TN' u'KS' u'OH'\n",
      " u'OK' u'OR' u'RI' u'KY' u'NH' u'MO' u'SRY' u'AK' u'AB' u'BCN' u'SC' u'64'\n",
      " u'MT' u'JAL' u'36' u'VT' u'11' u'MS' u'31' u'ID' u'ENG' u'QC' u'44' u'47'\n",
      " u'WY' u'DIF' u'MEX']\n"
     ]
    }
   ],
   "source": [
    "unique_rgiso = dfs['rgiso'].unique() # Region ISO Code\n",
    "print len(unique_rgiso)\n",
    "print unique_rgiso"
   ]
  },
  {
   "cell_type": "code",
   "execution_count": 36,
   "metadata": {
    "collapsed": false
   },
   "outputs": [
    {
     "name": "stdout",
     "output_type": "stream",
     "text": [
      "3\n",
      "[u'Wooli_KOOLi' u'KOOLi_Humax' u'KOOLi_Humax_Live']\n"
     ]
    }
   ],
   "source": [
    "unique_sid = dfs['sid'].unique() # Web server session ID\n",
    "print len(unique_sid)\n",
    "print unique_sid"
   ]
  },
  {
   "cell_type": "code",
   "execution_count": 37,
   "metadata": {
    "collapsed": false
   },
   "outputs": [
    {
     "name": "stdout",
     "output_type": "stream",
     "text": [
      "159\n",
      "[u'V0009' u'V0034' u'V0058' u'V0000' u'V0022' u'V0061' u'V0039' u'V0006'\n",
      " u'V0038' u'V0013' u'V0068' u'V0037' u'V0066' u'V0093' u'V0004' u'V0064'\n",
      " u'V0062' u'V0008' u'V0059' u'V0032' u'V0023' u'V0029' u'V0055' u'V0076'\n",
      " u'V0053' u'V0015' u'V0011' u'V0045' u'V0054' u'V0041' u'V0003' u'V0001'\n",
      " u'V0043' u'V0073' u'V0050' u'V0074' u'V0007' u'V0063' u'V0047' u'V0048'\n",
      " u'V0020' u'V0035' u'V0033' u'V0040' u'V0052' u'V0016' u'V0017' u'V0046'\n",
      " u'V0075' u'V0031' u'V0049' u'V0026' u'V0065' u'V0014' u'V0084' u'V0081'\n",
      " u'V0069' u'V0077' u'V0060' u'V0024' u'V0056' u'L2357' u'V0036' u'V0028'\n",
      " u'V0025' u'V0010' u'V0018' u'V0070' u'V0051' u'V0012' u'V0030' u'V0021'\n",
      " u'V0027' u'V0019' u'V0005' u'V0071' u'V0099' u'V0078' u'V0085' u'V0002'\n",
      " u'V0079' u'V0044' u'V0080' u'V0083' u'V0057' u'V0042' u'V0088' u'V0082'\n",
      " u'V0098' nan u'L2353' u'V0067' u'V0092' u'V0090' u'V0072' u'L2354'\n",
      " u'V0097' u'V0091' u'V0094' u'V0101' u'V0118' u'L2355' u'V0116' u'L2356'\n",
      " u'V0122' u'V0087' u'V0121' u'V0104' u'V0103' u'V0117' u'V0089' u'V0095'\n",
      " u'V0113' u'L2358' u'L2359' u'L0000' u'V0105' u'V0106' u'V0110' u'L2348'\n",
      " u'V0107' u'L2349' u'V0086' u'V0100' u'V0132' u'L2346' u'L2345' u'L2351'\n",
      " u'V0096' u'L2350' u'L2352' u'V0143' u'V0102' u'L2313' u'V0109' u'V0112'\n",
      " u'V0111' u'L2347' u'V0114' u'L0807' u'V0108' u'V0115' u'V0134' u'V0135'\n",
      " u'V0129' u'V0127' u'V0131' u'V0225' u'L2337' u'V0138' u'L1900' u'V0205'\n",
      " u'V0133' u'V0163' u'L1030' u'V0229' u'V0145' u'V0119' u'V0120']\n"
     ]
    }
   ],
   "source": [
    "unique_spos = dfs['spos'].unique() # Symbolic Position\n",
    "print len(unique_spos)\n",
    "print unique_spos"
   ]
  },
  {
   "cell_type": "code",
   "execution_count": 38,
   "metadata": {
    "collapsed": false,
    "scrolled": true
   },
   "outputs": [
    {
     "name": "stdout",
     "output_type": "stream",
     "text": [
      "470\n",
      "[u'\\uc544\\uc784\\uc3d8\\ub9ac \\uac15\\ub0a8\\uad6c'\n",
      " u'\\uc5b8\\uc81c\\ub098 \\ubd04\\ub0a0' u'\\uc5f4\\ub9b0\\uc74c\\uc545\\ud68c'\n",
      " u'\\ud798\\uc388\\uc5ec\\uc790 \\ub3c4\\ubd09\\uc21c'\n",
      " u'\\uc751\\ub2f5\\ud558\\ub77c 1988' u'Tunnel' u'\\uae40\\uacfc\\uc7a5'\n",
      " u'\\uc625\\uc911\\ud654' u'\\ubfcc\\ub9ac\\uae4a\\uc740 \\ub098\\ubb34'\n",
      " u'\\uac11\\ub3d9\\uc774 '\n",
      " u'\\uc5b8\\ub2c8\\ub4e4\\uc758 \\uc2ac\\ub7a8\\ub369\\ud06c 2'\n",
      " u'\\uc2a4\\ud0c0 \\ubd80\\ubd80\\uc1fc \\uc790\\uae30\\uc57c -  \\ubc31\\ub144\\uc190\\ub2d8'\n",
      " u'\\uc544\\ubc84\\uc9c0\\uac00 \\uc774\\uc0c1\\ud574'\n",
      " u'\\ud799\\ud569\\uc758 \\ubbfc\\uc871 '\n",
      " u'\\ub2e4\\uc2dc \\uc4f0\\ub294 \\uc721\\uc544\\uc77c\\uae30! \\ubbf8\\uc6b4 \\uc6b0\\ub9ac \\uc0c8\\ub07c'\n",
      " u'\\ub0b4 \\ub9c8\\uc74c\\uc758 \\uaf43\\ube44'\n",
      " u'\\uacf5\\uc8fc\\uc758 \\ub0a8\\uc790' u'\\ud130\\ub2dd\\uba54\\uce74\\ub4dc W'\n",
      " u'\\ub2f9\\uc2e0\\uc740 \\ub108\\ubb34\\ud569\\ub2c8\\ub2e4'\n",
      " u'\\uadf8\\uac83\\uc774 \\uc54c\\uace0\\uc2f6\\ub2e4' u'JTBC \\ub274\\uc2a4\\ub8f8'\n",
      " u'America News' u'\\uadd3\\uc18d\\ub9d0' u'\\uc778\\uac04\\uadf9\\uc7a5'\n",
      " u'\\uc544\\ubc84\\ub2d8 \\uc81c\\uac00 \\ubaa8\\uc2e4\\uac8c\\uc694'\n",
      " u'Jung and Shin Issu'\n",
      " u'\\uae40\\ubcd1\\ub9cc\\uc758 \\uc815\\uae00\\uc758 \\ubc95\\uce59'\n",
      " u'\\uac1c\\uadf8\\ucf58\\uc11c\\ud2b8' u'MBC \\ub274\\uc2a4\\ub370\\uc2a4\\ud06c'\n",
      " u'MBC \\uc544\\uba54\\ub9ac\\uce74 \\ub274\\uc2a4'\n",
      " u'\\ud669\\uae08\\uc5b4\\uc7a5 \\ub77c\\ub514\\uc624 \\uc2a4\\ud0c0'\n",
      " u'SBS 8 \\ub274\\uc2a4' u'\\uad81\\uae08\\ud55c \\uc774\\uc57c\\uae30 Y'\n",
      " u'KBS \\ub274\\uc2a4 9' u'\\uc544\\ub294 \\ud615\\ub2d8'\n",
      " u'\\ud55c\\ub07c\\uc90d\\uc1fc ' u'\\uc5ec\\uc720\\ub9cc\\ub9cc'\n",
      " u'\\uc804\\uad6d\\ub178\\ub798\\uc790\\ub791' u'Sign'\n",
      " u'\\ubc31\\uc885\\uc6d0\\uc758 3\\ub300 \\ucc9c\\uc655'\n",
      " u'\\uc21c\\uac04\\ud3ec\\ucc29 \\uc138\\uc0c1\\uc5d0 \\uc774\\ub7f0\\uc77c\\uc774'\n",
      " u'\\ud734\\uba3c\\ub2e4\\ud050 \\uc0ac\\ub78c\\uc774 \\uc88b\\ub2e4'\n",
      " u'38\\uc0ac\\uae30\\ub3d9\\ub300'\n",
      " u'\\uc77c\\uc694\\uc77c\\uc774\\uc88b\\ub2e4 - \\ub7f0\\ub2dd\\ub9e8'\n",
      " u'\\ub178\\ub798\\uc2f8\\uc6c0 - \\uc2b9\\ubd80'\n",
      " u'\\uc7a5\\uc0ac\\uc758 \\uc2e0 - \\uac1d\\uc8fc 2015'\n",
      " u'\\ucd08\\uc778\\uac00\\uc871 2017' u'\\uc6b0\\ub9ac \\uac11\\uc21c\\uc774 '\n",
      " u'\\uc544\\uce68\\ub9c8\\ub2f9' u'6\\uc2dc \\ub0b4\\uace0\\ud5a5'\n",
      " u'\\uc138\\uac00\\uc9c0\\uc0c9 \\ud310\\ud0c0\\uc9c0'\n",
      " u'\\ube44\\uc815\\uc0c1\\ud68c\\ub2f4' u'\\ubd88\\uc57c\\uc131'\n",
      " u'TV \\ub3d9\\ubb3c\\ub18d\\uc7a5' u'\\uae30\\ubd84 \\uc88b\\uc740 \\ub0a0'\n",
      " u'\\ub098\\uc05c \\ub140\\uc11d\\ub4e4' u'\\uc560\\uc778\\uc788\\uc5b4\\uc694'\n",
      " u'\\ub354\\ub7ec\\ubc84' u'The Amazing World'\n",
      " u'K\\ud31d\\uc2a4\\ud0c0 \\uc2dc\\uc98c 6' u'\\uc6d0\\ud2f0\\ub4dc'\n",
      " u'\\ube59\\uad6c' u'\\ub098 \\ud63c\\uc790 \\uc0b0\\ub2e4'\n",
      " u'\\ud669\\uae08 \\uc8fc\\uba38\\ub2c8'\n",
      " u'\\uc77c\\ubc24 - \\uc9c4\\uc9dc \\uc0ac\\ub098\\uc774' u'SBS 8 News'\n",
      " u'\\ubcf8\\uaca9\\uc5f0\\uc608 \\ud55c\\ubc24'\n",
      " u'\\uc544\\ub0b4\\uc758 \\uc790\\uaca9' u'\\ube5b\\ub098\\ub77c \\uc740\\uc218'\n",
      " u'\\ub85c\\ubcf4\\ud14d\\uc2a4' u'2016 \\uc124\\ud2b9\\uc9d1'\n",
      " u'\\ub2e4\\uc2dc \\uccab\\uc0ac\\ub791'\n",
      " u'\\uc2e0\\ube44\\ud55c TV \\uc11c\\ud504\\ub77c\\uc774\\uc988'\n",
      " u'\\uc77c\\ubc24 - \\ubcf5\\uba74\\uac00\\uc655'\n",
      " u'\\ud5ec\\ub85c \\uce74\\ubd07 3\\uae30' u'Free Movie'\n",
      " u'\\uc0ac\\ub791\\uc740 \\ubc29\\uc6b8\\ubc29\\uc6b8'\n",
      " u'\\uc0ac\\uc784\\ub2f9 \\ube5b\\uc758 \\uc77c\\uae30'\n",
      " u'\\ubb49\\uccd0\\uc57c \\ub72c\\ub2e4' u'MBC \\ub2e4\\ud050\\uc2a4\\ud398\\uc15c'\n",
      " u'\\uc601\\uc7ac \\ubc1c\\uad74\\ub2e8'\n",
      " u'\\uc5ed\\uc801 : \\ubc31\\uc131\\uc744 \\ud6d4\\uce5c \\ub3c4\\uc801'\n",
      " u'\\uc0ac\\ub78c\\uacfc \\uc0ac\\ub78c\\ub4e4'\n",
      " u'\\ub0b4 \\ub538 \\uae08\\uc0ac\\uc6d4'\n",
      " u'\\uac78\\uc5b4\\uc11c \\uc138\\uacc4\\uc18d\\uc73c\\ub85c'\n",
      " u'\\ud504\\ub9ac\\ud30c\\ub77c' u'Bragging Room Guest' u'HD'\n",
      " u'\\ud589\\ubcf5\\uc744 \\uc8fc\\ub294 \\uc0ac\\ub78c'\n",
      " u'\\uc644\\ubcbd\\ud55c \\uc544\\ub0b4' u'\\ucf58\\uc11c\\ud2b8 7080'\n",
      " u'\\uc0dd\\ub85c\\ubcd1\\uc0ac\\uc758 \\ube44\\ubc00'\n",
      " u'\\uc774\\uaddc\\uc5f0\\uc758 \\uc2a4\\ud3ec\\ud2b8\\ub77c\\uc774\\ud2b8'\n",
      " u'\\ub3c4\\uae68\\ube44' u'\\uc0bc\\ucd1d\\uc0ac'\n",
      " u'\\ud558\\uc219\\uc9d1 \\ub538\\ub4e4'\n",
      " u'\\uc0ac\\ub791\\uc774 \\uc624\\ub124\\uc694' u'\\ubba4\\uc9c1\\ubc45\\ud06c'\n",
      " u'2TV \\uc800\\ub141 \\uc0dd\\uc0dd\\uc815\\ubcf4'\n",
      " u'A Historic Tour, That Place' u'Fantastic Duo 2'\n",
      " u'\\uadf8 \\uc5ec\\uc790\\uc758 \\ubc14\\ub2e4' u'1/n'\n",
      " u'\\ubb34\\uc790\\uc2dd \\uc0c1\\ud314\\uc790'\n",
      " u'\\uc2e0\\uc0ac\\uc758 \\ud488\\uaca9' u'TV\\uc1fc \\uc9c4\\ud488\\uba85\\ud488'\n",
      " u'VJ \\ud2b9\\uacf5\\ub300' u'KBS News 9' u'\\ud574\\ud53c\\ud22c\\uac8c\\ub354'\n",
      " u'Masters' u'\\uc624 \\ub9c8\\uc774 \\ube44\\ub108\\uc2a4'\n",
      " u'\\ud55c\\uad6d\\uc778\\uc758 \\ubc25\\uc0c1'\n",
      " u'\\ub2e4 \\uc798\\ub420\\uac70\\uc57c' u'\\uc5f0\\uc608\\uac00 \\uc911\\uacc4'\n",
      " u'\\ucde8\\uc7ac\\ud30c\\uc77cK' u'\\ub124 \\uc774\\uc6c3\\uc758 \\uc544\\ub0b4'\n",
      " u'JTBC \\ub274\\uc2a4 \\uc544\\uce68&'\n",
      " u'\\uc721\\ub8e1\\uc774 \\ub098\\ub974\\uc0e4' u'\\uac00\\uc694\\ubb34\\ub300'\n",
      " u'Morning Forum' u'\\uba85\\uacac\\ub9cc\\ub9ac' u'The liar and his lover'\n",
      " u'\\ub0b4 \\uc0ac\\uc704\\uc758 \\uc5ec\\uc790'\n",
      " u'\\ubd88\\ud6c4\\uc758 \\uba85\\uace1 - \\uc804\\uc124\\uc744 \\ub178\\ub798\\ud558\\ub2e4'\n",
      " u'\\uc6c3\\ucc3e\\uc0ac' u'JTBC News Room' u'\\uac00\\ud654\\ub9cc\\uc0ac\\uc131 '\n",
      " u'\\ub300\\ubc15' u'\\uc370\\uc804'\n",
      " u'\\uc740\\ubc00\\ud558\\uac8c \\uc704\\ub300\\ud558\\uac8c'\n",
      " u'\\uc88b\\uc740 \\uc544\\uce68' u'\\ub2e4\\ud050 \\uacf5\\uac10 '\n",
      " u'\\ubb34\\ud55c\\ub3c4\\uc804' u'\\uace0\\uace0 \\ub2e4\\uc774\\ub178'\n",
      " u'SBS \\uc2a4\\ud398\\uc15c' u'Truebobshow'\n",
      " u'\\ub2e4\\ud050\\uba58\\ud130\\ub9ac 3\\uc77c'\n",
      " u'\\ub0b4\\uc77c \\uadf8\\ub300\\uc640' u'\\ud53c\\uace0\\uc778'\n",
      " u'\\uc6d4\\uacc4\\uc218 \\uc591\\ubcf5\\uc810 \\uc2e0\\uc0ac\\ub4e4 '\n",
      " u'\\ub0c9\\uc7a5\\uace0 \\ub098\\ub77c \\ucf54\\ucf54\\ubabd \\uc2dc\\uc98c 3'\n",
      " u'2017 Presidential Election Special' u'\\ubcc4\\ub09c \\uac00\\uc871'\n",
      " u'\\uc0b4\\ub9bc\\ud558\\ub294 \\ub0a8\\uc790\\ub4e4 \\uc2dc\\uc98c2'\n",
      " u'\\ub3d9\\ud589 ' u'\\ubd88\\ud0c0\\ub294 \\uccad\\ucd98'\n",
      " u'\\ub9c8\\ub140\\uc758 \\uc5f0\\uc560' u'\\uc870\\uc120\\ucd1d\\uc7a1\\uc774'\n",
      " u'\\ube45' u'\\ub0c9\\uc7a5\\uace0\\ub97c \\ubd80\\ud0c1\\ud574' u'\\ube44\\ubc00'\n",
      " u'\\ubb34\\uc5c7\\uc774\\ub4e0 \\ubb3c\\uc5b4\\ubcf4\\uc138\\uc694' u'New Release'\n",
      " u'\\ub178\\ub798\\uac00 \\uc88b\\uc544'\n",
      " u'\\uc811\\uc18d! \\ubb34\\ube44\\uc6d4\\ub4dc'\n",
      " u'\\uc2dc\\uc0ac\\uae30\\ud68d \\ucc3d'\n",
      " u'\\ub2d8\\uacfc\\ud568\\uaed82 - \\ucd5c\\uace0\\uc758 \\uc0ac\\ub791'\n",
      " u'\\ubc30\\ud2c0\\ud2b8\\ub9bd ' u'\\ub9e8 \\uc778 \\ube14\\ub799\\ubc15\\uc2a4'\n",
      " u'2017 \\uc124\\ud2b9\\uc9d1'\n",
      " u'\\uc2dc\\ub2c8\\uc5b4\\ud1a0\\ud06c\\uc1fc \\ud669\\uae08\\uc5f0\\ubabb'\n",
      " u'\\ub3c4\\uc804 \\uace8\\ub4e0\\ubca8'\n",
      " u'\\uccad\\ub2f4\\ub3d9 \\uc0b4\\uc544\\uc694 \\ub354 \\ub4dc\\ub77c\\ub9c8'\n",
      " u'\\ud5ec\\ub85c \\uce74\\ubd07 2\\uae30' u'\\ubcf4\\uc774\\uc2a4'\n",
      " u'\\ub2f9\\uc2e0\\uc740 \\uc120\\ubb3c'\n",
      " u'\\ubcc0\\uc2e0 \\uc790\\ub3d9\\ucc28 \\ub610\\ubd07 19\\uae30'\n",
      " u'\\uc774\\uc6c3\\uc9d1\\ucc30\\uc2a4' u'MBC Newsdesk'\n",
      " u'\\uc138\\uc0c1 \\uc5b4\\ub514\\uc5d0\\ub3c4 \\uc5c6\\ub294 \\ucc29\\ud55c \\ub0a8\\uc790'\n",
      " u'\\ube44\\ud0c0\\ubbfc' u'\\uc5b4\\ub9ac \\uc774\\uc57c\\uae30 \\uc2dc\\uc98c 2'\n",
      " u'\\ubca0\\uc774\\ube44\\uc2dc\\ud130'\n",
      " u'\\ub098\\uc778: \\uc544\\ud649 \\ubc88\\uc758 \\uc2dc\\uac04\\uc5ec\\ud589'\n",
      " u'\\ud5ec\\ub86f \\uce74\\ubd07 1\\uae30' u'\\uc751\\ub2f5\\ud558\\ub77c 1994'\n",
      " u'\\ubc00\\ud68c'\n",
      " u'\\ud574\\ud53c\\uc120\\ub370\\uc774 - \\uc288\\ud37c\\ub9e8\\uc774 \\ub3cc\\uc544\\uc654\\ub2e4'\n",
      " u'\\ud310\\ud0c0\\uc2a4\\ud2f1 \\ub4c0\\uc624'\n",
      " u'\\uc0dd\\ud65c\\uc758 \\ub2ec\\uc778' u'SBS \\uc778\\uae30\\uac00\\uc694'\n",
      " u'\\ub9c8\\ub140\\ubcf4\\uac10 '\n",
      " u'\\ubcc0\\uc2e0 \\uc790\\ub3d9\\ucc28 \\ub610\\ubd07 18\\uae30'\n",
      " u'\\uce90\\ub9ac\\uc5b4\\ub97c \\ub044\\ub294 \\uc5ec\\uc790 '\n",
      " u'\\ubd80\\ud0c1\\ud574\\uc694, \\uc5c4\\ub9c8' u'\\uc2e0\\uc758 \\ud034\\uc988 4'\n",
      " u'\\uafb8\\ub7ec\\uae30 \\ucf00\\ub77c\\ud1b1\\uc2a4 \\ucf54\\ub9ac\\uc694'\n",
      " u'\\uc720\\ud76c\\uc5f4\\uc758 \\uc2a4\\ucf00\\uce58\\ubd81'\n",
      " u'\\uc544\\uc2a4\\ud0c0\\ub97c \\ud5a5\\ud574 \\ucc28\\uad6c\\ucc28\\uad6c'\n",
      " u'JTBC \\ud2b9\\uc9d1 \\ud504\\ub85c\\uadf8\\ub7a8' u'\\uac10\\uc790\\ubcc4'\n",
      " u'\\ubc1c\\ud6a8\\uac00\\uc871' u'\\ud2b8\\ub80c\\ub4dc \\uc0f5'\n",
      " u'\\uae40\\uc81c\\ub3d9\\uc758 \\ud1a1\\ud22c\\uc720 - \\uac71\\uc815\\ub9d0\\uc544\\uc694 \\uadf8\\ub300'\n",
      " u'\\uc720\\ub098\\uc758 \\uac70\\ub9ac'\n",
      " u'\\ub9c8\\uc774 \\uc2dc\\ud06c\\ub9bf \\ud638\\ud154'\n",
      " u'\\uc81c\\ubcf4\\uc790\\ub4e4' u'\\ud55c\\uad6d\\uc0ac\\uae30'\n",
      " u'\\ub9c8\\ubc95\\ucc9c\\uc790\\ubb38' u'\\uc1fc\\ud551\\uc655 \\ub8e8\\uc774 '\n",
      " u'\\ub9c8\\uc774 \\ub9ac\\ud2c0 \\ud154\\ub808\\ube44\\uc804'\n",
      " u'\\ud574\\ud53c\\uc120\\ub370\\uc774 - 1\\ubc15 2\\uc77c'\n",
      " u'\\uc778\\uc218\\ub300\\ube44'\n",
      " u'\\ud1a0\\uc694\\uc77c\\uc774\\uc88b\\ub2e4 - \\uc624 \\ub9c8\\uc774 \\ubca0\\uc774\\ube44'\n",
      " u'\\uce58\\uc988\\uc778\\ub354\\ud2b8\\ub7a9'\n",
      " u'\\ucc28\\uc774\\ub098\\ub294 \\ub3c4\\uc62c'\n",
      " u'\\ub300\\uc120\\uc8fc\\uc790\\uc5d0\\uac8c \\ub4e3\\ub294\\ub2e4'\n",
      " u'\\ubc14\\uc774\\ud074\\ub860\\uc988 3\\uae30' u'\\ubbf8\\uc53d\\ub098\\uc778'\n",
      " u'\\ubcc0\\uc2e0 \\uc790\\ub3d9\\ucc28 \\ub610\\ubd07 12\\uae30'\n",
      " u'\\ud30c\\uc6cc\\ubc30\\ud2c0 \\uc640\\uce58\\uce74'\n",
      " u'\\uc548\\ub155\\ud558\\uc138\\uc694'\n",
      " u'\\ucc28\\uc774\\ub098\\ub294 \\ud074\\ub77c\\uc2a4'\n",
      " u'\\ub0c9\\uc7a5\\uace0 \\ub098\\ub77c \\ucf54\\ucf54\\ubabd \\uc2dc\\uc98c 1'\n",
      " u'\\ud6c4\\uc544\\uc720 - \\ud559\\uad50 2015'\n",
      " u'\\uc6b8\\uc9c0 \\uc54a\\ub294 \\uc0c8'\n",
      " u'\\ub2e5\\ud130 \\ud504\\ub85c\\uc2a4\\ud2b8'\n",
      " u'\\ub9c9\\ub3fc\\uba39\\uc740 \\uc601\\uc560\\uc528 \\uc2dc\\uc98c 15'\n",
      " u'\\ud654\\ub791' u'\\ub9d0\\ud558\\ub294\\ub300\\ub85c '\n",
      " u'\\uc624\\ub298, \\uad7f\\ub370\\uc774 ' u'\\uc2dc\\uadf8\\ub110'\n",
      " u'\\uad6c\\ub984\\ube75 \\uc2dc\\uc98c 2' u'Mask'\n",
      " u'2016 KBS \\ub4dc\\ub77c\\ub9c8 \\uc2a4\\ud398\\uc15c'\n",
      " u'SBS \\ub274\\uc2a4\\ud1a0\\ub9ac'\n",
      " u'\\uc6b0\\ub9ac\\uc9d1\\uc5d0 \\uc0ac\\ub294 \\ub0a8\\uc790 '\n",
      " u'\\uc5f0\\uc560\\uc758 \\ubc1c\\uacac'\n",
      " u'\\uc798 \\uba39\\uaca0\\uc2b5\\ub2c8\\ub2e4' u'\\ucea1\\uc290\\ubcf4\\uc774'\n",
      " u'\\ub77c\\uc774\\uc5b4 \\uac8c\\uc784' u'Comedy'\n",
      " u'\\ub3d9\\uc0c1\\uc774\\ubabd \\uad1c\\ucc2e\\uc544 \\uad1c\\ucc2e\\uc544'\n",
      " u'\\ub4dc\\ub9bc \\ud558\\uc774' u'\\ub9c8\\ub9ac\\uc640 \\ub098'\n",
      " u'\\uadf8\\ub140\\uc758 \\uc2e0\\ud654' u'\\ubb34\\ub9bc\\ud559\\uad50' u'Drama'\n",
      " u'\\uc6b0\\ub9ac\\ub9d0 \\uaca8\\ub8e8\\uae30' u'\\ud63c\\uc220\\ub0a8\\ub140 '\n",
      " u'\\uac8c\\uc784\\uc1fc \\uc720\\ud76c\\ub099\\ub77d' u'\\ucc98\\uc6a9 '\n",
      " u'\\ub0ad\\ub9cc\\ub2e5\\ud130 \\uae40\\uc0ac\\ubd80' u'\\ubb34\\uc815\\ub3c4\\uc2dc'\n",
      " u'\\uc774\\ubc88 \\uc8fc \\uc544\\ub0b4\\uac00 \\ubc14\\ub78c\\uc744 \\ud54d\\ub2c8\\ub2e4'\n",
      " u'\\uc5ed\\ub3c4\\uc694\\uc815 \\uae40\\ubcf5\\uc8fc'\n",
      " u'\\uc544\\ub984\\ub2e4\\uc6b4 \\ub2f9\\uc2e0' u'\\ub77c\\uc2a4\\ud2b8'\n",
      " u'\\ubbf8\\ub140 \\uacf5\\uc2ec\\uc774 ' u'\\ud5ec\\ub85c \\uce74\\ubd07 4\\uae30'\n",
      " u'\\uc544\\uc774\\uac00 \\ub2e4\\uc12f'\n",
      " u'\\ubd88\\uc5b4\\ub77c \\ubbf8\\ud48d\\uc544 ' u'\\ub2e5\\ud130\\uc2a4'\n",
      " u'\\uc6a9\\ud314\\uc774' u'\\uc560\\uc2ac\\ub860 \\ub610\\ubd07'\n",
      " u'\\uaf2c\\ub9c8\\ub3cc \\ub3c4\\ub3c4'\n",
      " u'\\ub3d9\\ub124\\ubcc0\\ud638\\uc0ac \\uc870\\ub4e4\\ud638'\n",
      " u'\\uad6c\\ub984\\ube75 \\uc2dc\\uc98c 1'\n",
      " u'\\uc2f8\\uc6b0\\uc790 \\uadc0\\uc2e0\\uc544'\n",
      " u'\\uc170\\ud504\\uc6d0\\uc815\\ub300 - \\ucfe1\\uac00\\ub300\\ud45c'\n",
      " u'\\ubbf8\\uc138\\uc2a4 \\uce85 2'\n",
      " u'12\\ub144 \\ub9cc\\uc758 \\uc7ac\\ud68c : \\ub2ec\\ub798 \\ub41c, \\uc7a5\\uad6d'\n",
      " u'\\ub85c\\ub9e8\\uc2a4\\uac00 \\ud544\\uc694\\ud574 2012'\n",
      " u'\\ub0b4\\uc131\\uc801\\uc778 \\ubcf4\\uc2a4'\n",
      " u'\\ud654\\ub824\\ud55c \\uc720\\ud639' u'\\ubbf8\\uc0dd'\n",
      " u'\\ud130\\ub2dd\\uba54\\uce74\\ub4dc' u'\\ubaac\\uc2a4\\ud130'\n",
      " u'Duet Song Festival' u'Queen of Mystery'\n",
      " u'\\ub2e4\\uc774\\ub178\\ucf54\\uc5b4' u'\\ubc31\\uc0c1\\uc608\\uc220\\ub300\\uc0c1'\n",
      " u'\\uc624 \\ub9c8\\uc774 \\uae08\\ube44'\n",
      " u'\\ub0c9\\uc7a5\\uace0 \\ub098\\ub77c \\ucf54\\ucf54\\ubabd \\uc2dc\\uc98c 2'\n",
      " u'\\ub9e8\\ubab8\\uc758 \\uc18c\\ubc29\\uad00'\n",
      " u'\\ub9c8\\ub2f4 \\uc559\\ud2b8\\uc644' u'\\uc7a1\\uc2a4'\n",
      " u'\\ud0c0\\uc2a4\\uc758 \\ud480\\uc774\\ud480\\uc774 \\uc0ac\\uc790\\uc131\\uc5b4'\n",
      " u'Tough Workers' u'Chicago Typewriter' u'THE K2 '\n",
      " u'\\uc2dc\\ub2c8\\uc5b4 \\ub9e4\\uac70\\uc9c4 \\uc778\\uc0dd\\uc740 \\uc544\\ub984\\ub2e4\\uc6cc'\n",
      " u'\\ub9ac\\uba64\\ubc84-\\uc544\\ub4e4\\uc758\\uc804\\uc7c1' u'Different Class'\n",
      " u'\\ud310\\ud0c0\\uc2a4\\ud2f1 '\n",
      " u'\\uc544\\ub984\\ub2e4\\uc6b4 \\ub098\\uc758 \\uc2e0\\ubd80'\n",
      " u'\\ud0dc\\uc591\\uc758 \\ud6c4\\uc608'\n",
      " u'\\ubc14\\uc774\\ud074\\ub860\\uc988 2\\uae30' u'\\ub9ac\\uc14b'\n",
      " u'\\ub514\\uc5b4 \\ub9c8\\uc774 \\ud504\\ub80c\\uc988' u'1%\\uc758 \\uc815\\ubcf4 '\n",
      " u'Action/SF' u'\\uc2e0\\ubd84\\uc744 \\uc228\\uaca8\\ub77c'\n",
      " u'\\uc5ec\\uc790\\uc758 \\ube44\\ubc00' u'\\uacb0\\ud63c\\uacc4\\uc57d'\n",
      " u'\\ucc9c\\uc0c1\\uc758 \\uc57d\\uc18d' u'\\uace0\\uad50\\ucc98\\uc138\\uc655'\n",
      " u'\\uc2dd\\uc0e4\\ub97c \\ud569\\uc2dc\\ub2e4 2'\n",
      " u'\\uadf8\\ub798, \\uadf8\\ub7f0\\uac70\\uc57c'\n",
      " u'\\uc720\\ud6c4\\uc640 \\uce5c\\uad6c\\ub4e4 \\uc2dc\\uc98c 3'\n",
      " u'\\uc2e0\\ub4dc\\ub86c' u'\\uad6c\\ub974\\ubbf8 \\uadf8\\ub9b0 \\ub2ec\\ube5b '\n",
      " u'\\uc774\\uc2b9\\uc5f0\\uc758 \\uc704\\ub4dc \\uc720'\n",
      " u'\\ubc31\\uc138\\uc758 \\ud488\\uaca9 \\uc9c4\\uc2dc\\ud669'\n",
      " u'\\ub7ec\\ube0c \\uc5b4\\uac8c\\uc778' u'\\uc2e4\\uc885\\ub290\\uc640\\ub974 M'\n",
      " u'\\uc5f0\\uc560 \\ub9d0\\uace0 \\uacb0\\ud63c' u'\\uccad\\ucd98\\uc2dc\\ub300'\n",
      " u'\\ub9c8\\ub140\\uc758 \\uc131' u'\\ub450\\ubc88\\uc9f8 \\uc2a4\\ubb34\\uc0b4'\n",
      " u'\\uae30\\uc5b5'\n",
      " u'\\ud22c\\uc720\\ud504\\ub85c\\uc81d\\ud2b8 - \\uc288\\uac00\\ub9e8'\n",
      " u'\\ubcf4\\uceec \\uc804\\uc7c1 - \\uc2e0\\uc758 \\ubaa9\\uc18c\\ub9ac '\n",
      " u'\\ubdf0\\ud2f0\\ud480 \\ub9c8\\uc778\\ub4dc' u'\\ub610 \\uc624\\ud574\\uc601'\n",
      " u'\\ud558\\ud2b8 \\ud22c \\ud558\\ud2b8' u'Image Album, Mountains'\n",
      " u'\\uad81\\uae08\\ud55c \\uc77c\\uc694\\uc77c \\uc7a5\\uc601\\uc2e4 \\uc1fc'\n",
      " u'\\uc0b4\\ub9bc\\ud558\\ub294 \\ub0a8\\uc790\\ub4e4'\n",
      " u'\\ud5cc\\uc9d1\\uc904\\uac8c \\uc0c8\\uc9d1\\ub2e4\\uc624'\n",
      " u'\\ub2ec\\ucf64\\uc0b4\\ubc8c \\ud328\\ubc00\\ub9ac' u'Open Men and women'\n",
      " u'\\uc5b4\\uc148\\ube14\\ub9ac' u'\\ucc98\\uc6a9 2' u'\\uc288\\ud37c\\ud53c\\uc26c'\n",
      " u'Unni Is Alive' u'Boat Horn Clenched Fists' u'\\uc54c\\uc9dc\\uc655 '\n",
      " u'\\uc800 \\ud558\\ub298\\uc5d0 \\ud0dc\\uc591\\uc774'\n",
      " u'\\ubc14\\uc774\\ud074\\ub860\\uc988 1\\uae30'\n",
      " u'\\ub9c8\\uc2a4\\ud130 - \\uad6d\\uc218\\uc758 \\uc2e0'\n",
      " u'\\uc0ac\\ub791\\ud558\\ub294 \\uc740\\ub3d9\\uc544'\n",
      " u'\\uc5ed\\uc0ac\\uc800\\ub110 \\uadf8\\ub0a0' u'\\ub534\\ub530\\ub77c'\n",
      " u'\\ub4dc\\ub77c\\uc774\\ube0c \\ud074\\ub7fd'\n",
      " u'\\ud55c \\ubc88 \\ub354 \\ud574\\ud53c\\uc5d4\\ub529' u'TRICK & TRUE'\n",
      " u'\\uc774\\ub2ec\\uc758 \\ud589\\uc0ac\\uc655'\n",
      " u'\\uc624 \\ub098\\uc758 \\uadc0\\uc2e0\\ub2d8' u'\\uc7a5\\uc601\\uc2e4'\n",
      " u'My Secret Romance' u'\\ud638\\uad6c\\uc758 \\uc0ac\\ub791'\n",
      " u'\\ub3cc\\uc544\\uc640\\uc694 \\uc544\\uc800\\uc528' u'\\uad7f \\ub2e5\\ud130'\n",
      " u'\\uc751\\uae09\\ub0a8\\ub140' u'Live Stream Blind Date'\n",
      " u'\\ud398\\uc774\\uc9c0 \\ud130\\ub108'\n",
      " u'\\uce5c\\uc560\\ud558\\ub294 \\ub2f9\\uc2e0\\uc5d0\\uac8c'\n",
      " u'\\ub05d\\uc5d0\\uc11c \\ub450 \\ubc88\\uc9f8 \\uc0ac\\ub791'\n",
      " u'\\uc720\\uc790\\uc2dd \\uc0c1\\ud314\\uc790'\n",
      " u'\\uc2dd\\uc0e4\\ub97c \\ud569\\uc2dc\\ub2e4  '\n",
      " u'\\ud53c\\ub9ac\\ubd80\\ub294 \\uc0ac\\ub098\\uc774 '\n",
      " u'\\uc560\\ud0c0\\ub294 \\ub85c\\ub9e8\\uc2a4'\n",
      " u'\\ucd94\\ub9ac\\uc758 \\uc5ec\\uc655' u'\\ud06c\\ub77c\\uc784\\uc52c 3'\n",
      " u'\\uc2dc\\uce74\\uace0 \\ud0c0\\uc790\\uae30' u'\\ube60\\ub2f4\\ube60\\ub2f4'\n",
      " u'\\ud130\\ub110' u'\\uc8fc\\uba39\\uc950\\uace0 \\ubc43\\uace0\\ub3d9'\n",
      " u'\\uc5b8\\ub2c8\\ub294 \\uc0b4\\uc544\\uc788\\ub2e4' u'\\uc194\\ub85c\\uc6cc\\uc988'\n",
      " u'\\ud310\\ud0c0\\uc2a4\\ud2f1 \\ub4c0\\uc624 2'\n",
      " u'\\uadf8\\ub140\\ub294 \\uac70\\uc9d3\\ub9d0\\uc744 \\ub108\\ubb34 \\uc0ac\\ub791\\ud574'\n",
      " u'\\uc601\\uc0c1\\uc568\\ubc94 \\uc0b0' u'\\uc624\\ud508\\ub0a8\\ub140'\n",
      " u'\\uc2f8\\uc778' u'Crime/Thriller' u'\\uc218\\uc0c1\\ud55c \\ud734\\uac00'\n",
      " u'\\ub300\\uc120\\uc8fc\\uc790 \\uad6d\\ubbfc\\uba74\\uc811'\n",
      " u'\\uc789\\uc5ec\\uacf5\\uc8fc' u'\\uc194\\ub85c\\ubaac\\uc758 \\uc704\\uc99d'\n",
      " u'2016 \\ucd94\\uc11d\\ud2b9\\uc9d1'\n",
      " u'\\uac15\\uc5f0 100\\u2103 \\ub77c\\uc774\\ube0c'\n",
      " u'\\uc5ed\\uc0ac\\uae30\\ud589 \\uadf8\\uacf3' u'\\uc784\\uc9c4\\uc65c\\ub780 1592'\n",
      " u'\\uc798 \\uba39\\uace0 \\uc798 \\uc0ac\\ub294 \\ubc95' u'\\uc2a4\\ud0c0\\ud0b9'\n",
      " u'\\ud6c8\\uc7a5 \\uc624\\uc21c\\ub0a8' u'\\uc6b1\\uc528\\ub0a8\\uc815\\uae30'\n",
      " u'\\ubc31\\ud76c\\uac00 \\ub3cc\\uc544\\uc654\\ub2e4 '\n",
      " u'\\uace0\\uc591\\uc774\\ub760 \\uc694\\ub9ac\\uc0ac' u'\\uc5c4\\ub9c8'\n",
      " u'\\uafc8\\uc2a4\\ud0c0\\uadf8\\ub7a8'\n",
      " u'\\ub300\\ud559, \\uad50\\uc591\\uc5d0 \\uae38\\uc744 \\ubb3b\\ub2e4'\n",
      " u'\\ub108\\uc758 \\ubaa9\\uc18c\\ub9ac\\uac00 \\ub4e4\\ub824'\n",
      " u'\\ub4c0\\uc5e3\\uac00\\uc694\\uc81c' u'\\ud790\\ub9c1\\ucea0\\ud504'\n",
      " u'\\ub9c8\\uc744-\\uc544\\uce58\\uc544\\ub77c\\uc758 \\ube44\\ubc00'\n",
      " u'\\ucd9c\\ubc1c \\ub4dc\\ub9bc\\ud300 \\uc2dc\\uc98c2'\n",
      " u'TV \\uc18c\\uc124 \\ubcc4\\uc774\\ub418\\uc5b4 \\ube5b\\ub098\\ub9ac'\n",
      " u'\\ub3d9\\ub124\\uc758 \\uc601\\uc6c5' u'\\uc751\\ub2f5\\ud558\\ub77c 1997'\n",
      " u'Adult 19+' u'\\uc6b0\\ub9ac\\uc9d1 \\uafc0\\ub2e8\\uc9c0'\n",
      " u'\\uc798 \\uba39\\ub294 \\uc18c\\ub140\\ub4e4 '\n",
      " u'\\ud1a0\\uc694\\uc77c\\uc774 \\uc88b\\ub2e4 - \\uc8fc\\uba39\\uc950\\uace0 \\uc18c\\ub9bc\\uc0ac'\n",
      " u'Horror'\n",
      " u'\\ub0b4\\uce5c\\uad6c\\uc758 \\uc9d1\\uc740 \\uc5b4\\ub514\\uc778\\uac00'\n",
      " u'\\ub9e8\\ud22c\\ub9e8' u'\\uc911\\uc12d' u'\\ud788\\ub4e0\\uc2f1\\uc5b44'\n",
      " u'\\uc77c\\uc694\\uc77c\\uc774\\uc88b\\ub2e4 - K\\ud31d\\uc2a4\\ud0c05'\n",
      " u'\\ub354 \\ubc14\\uc774\\ub7ec\\uc2a4 ' u'\\ubcc4\\ub09c \\uba70\\ub290\\ub9ac'\n",
      " u'\\uc704\\uae30\\ud0c8\\ucd9c \\ub118\\ubc84\\uc6d0' u'\\ube45\\ub9e8'\n",
      " u'\\uc6b0\\ub9ac\\uac00 \\uacb0\\ud63c\\ud560 \\uc218 \\uc788\\uc744\\uae4c'\n",
      " u'\\uc2dd\\ud488\\uc744 \\ud0d0\\ud558\\ub2e4'\n",
      " u'\\ucc29\\ud558\\uc9c0 \\uc54a\\uc740 \\uc5ec\\uc790\\ub4e4' u'\\uac00\\uba74'\n",
      " u'\\ud48d\\uc120\\uaecc' u'\\ud6c4\\uc544\\uc720'\n",
      " u'\\ucc98\\uc74c\\uc774\\ub77c\\uc11c' u'The 19th President Special'\n",
      " u'\\uc218\\uc0c1\\ud55c \\ud30c\\ud2b8\\ub108'\n",
      " u'\\uaf43\\ud560\\ubc30 \\uc218\\uc0ac\\ub300'\n",
      " u'\\ub85c\\ub9e8\\uc2a4\\uac00 \\ud544\\uc694\\ud574 3'\n",
      " u'\\uc544\\uc774\\ub514\\uc5b4 \\ub300\\ud55c\\ubbfc\\uad6d \\ub098\\ub294 \\ub18d\\ubd80\\ub2e4 2 '\n",
      " u'\\ub098\\ub97c \\ub3cc\\uc544\\ubd10' u'\\ubaa8\\ubbfc\\uc758 \\ubc29'\n",
      " u'\\ub3c4\\ub451\\ub188, \\ub3c4\\ub451\\ub2d8'\n",
      " u'\\uc288\\ud37c\\ub300\\ub514 \\uc5f4 ' u'SD'\n",
      " u'\\ud55c\\ubc24\\uc758 TV \\uc5f0\\uc608'\n",
      " u'\\uad6c\\uc11d\\uad6c\\uc11d \\uc228\\uc740 \\ub3c8 \\ucc3e\\uae30'\n",
      " u'\\uc368\\ud074 : \\uc774\\uc5b4\\uc9c4 \\ub450 \\uc138\\uacc4 '\n",
      " u'\\uc9c4\\uc9dc \\uc758\\uc0ac\\uac00 \\ub3cc\\uc544\\uc654\\ub2e4'\n",
      " u'\\uc544\\ud649\\uc218 \\uc18c\\ub144' u'\\ud30c\\uc218\\uafbc'\n",
      " u'\\uc308, \\ub9c8\\uc774\\uc6e8\\uc774'\n",
      " u'\\uc77c\\ub9ac\\uc788\\ub294 \\uc0ac\\ub791'\n",
      " u'\\uc5b8\\ub2c8\\ub4e4\\uc758 \\uc2ac\\ub7a8\\ub369\\ud06c'\n",
      " u'\\uc218\\uc0c1\\ud55c \\ud734\\uac00 \\uac00\\uc790GO'\n",
      " u'KBS \\uc2a4\\ud398\\uc15c' u'\\ub4c0\\uc5bc' u'\\uc74c\\uc2dd\\ud0d0\\uc815'\n",
      " u'\\uc138\\ubaa8\\ubc29 : \\uc138\\uc0c1\\uc758 \\ubaa8\\ub4e0 \\ubc29\\uc1a1'\n",
      " u'\\uc5b4\\uc11c\\uc635SHOW'\n",
      " u'\\uace8\\ub4e0\\ub514\\uc2a4\\ud06c \\uc2dc\\uc0c1\\uc2dd'\n",
      " u'\\ubb34\\uad81\\ud654 \\uaf43\\uc774 \\ud53c\\uc5c8\\uc2b5\\ub2c8\\ub2e4'\n",
      " u'\\uc18d\\ubcf4\\uc774\\ub294 TV \\uc778\\uc0ac\\uc774\\ub4dc'\n",
      " u'\\ud5ec\\ub85c \\uce74\\ubd07 5\\uae30' u'7\\uc77c\\uc758 \\uc655\\ube44'\n",
      " u'\\uc7a5\\uc0ac\\uc758 \\uc2e0 : \\uace8\\ubaa9\\uc758 \\ud601\\uc2e0\\uac00\\ub4e4'\n",
      " u'\\ud130\\ub2dd\\uba54\\uce74\\ub4dc W \\uc2dc\\uc98c 2'\n",
      " u'\\ub2e4\\uc774\\ub178\\ucf54\\uc5b4 \\uc2dc\\uc98c 2'\n",
      " u'\\uc5b4\\ub290\\ub0a0 \\uac11\\uc790\\uae30 \\uc678.\\uac1c.\\uc778 '\n",
      " u'\\uc774\\ub984 \\uc5c6\\ub294 \\uc5ec\\uc790'\n",
      " u'\\uc18c\\uc911\\ud55c \\uc778\\uc5f0 \\ucc3e\\uae30'\n",
      " u'\\ube44\\ubc00\\uc758 \\uc232' u'\\uc288\\ud37c\\ub9ac\\uce58'\n",
      " u'\\ub178\\ud64d\\ucca0X\\uc7a5\\uac15\\uba85 \\ucc45\\ubc88\\uac1c'\n",
      " u'\\uc624\\uc9c0\\uc758 \\ub9c8\\ubc95\\uc0ac' u'\\ub098\\ub3c4 CEO'\n",
      " u'2TV \\uc0dd\\uc0dd\\uc815\\ubcf4'\n",
      " u'\\uad6c\\uc11d\\uad6c\\uc11d \\ub300\\ud55c\\ubbfc\\uad6d \\ud589\\ubcf5\\ud55c \\uc9c0\\ub3c4'\n",
      " u'DJ\\uc1fc \\ud2b8\\ub77c\\uc774\\uc575\\uae00'\n",
      " u'\\ub3d9\\ub124\\uc2a4\\ud0c0 \\uc804\\uad6d\\ubc29\\uc1a1 \\ub0b4\\ubcf4\\ub0b4\\uae30 '\n",
      " u'\\ud30c\\ub791\\uc0c8\\uc758 \\uc9d1' u'\\ub2ec\\ucf64\\ud55c \\uc6d0\\uc218'\n",
      " u'\\ub3c5\\ud55c \\uc77c\\uafbc\\ub4e4'\n",
      " u'\\ud488\\uc704\\uc788\\ub294 \\uadf8\\ub140' u'\\uc88b\\uc740 \\uc0ac\\ub78c'\n",
      " u'\\ube60\\uc2a4\\uaeeb \\ubcfc' u'\\ubc40\\ud30c\\uc774\\uc5b4 \\ud0d0\\uc815'\n",
      " u'\\uc2f1\\uae00\\uc640\\uc774\\ud504'\n",
      " u'\\uac15\\ub825\\ubc18 X-\\ud30c\\uc77c \\ub05d\\uae4c\\uc9c0 \\uac04\\ub2e4'\n",
      " u'\\ud6a8\\ub9ac\\ub124 \\ubbfc\\ubc15'\n",
      " u'\\uc5ed\\uc0ac\\uc800\\ub110 \\uadf8\\ub0a0 \\uc2dc\\uc98c2'\n",
      " u'\\uc5ec\\ud589\\uc218\\ub2e4 \\ub098\\ub97c \\ucc3e\\uc544\\uc11c']\n"
     ]
    }
   ],
   "source": [
    "unique_srn = dfs['srn'].unique() # Series name\n",
    "print len(unique_srn)\n",
    "print unique_srn"
   ]
  },
  {
   "cell_type": "code",
   "execution_count": 39,
   "metadata": {
    "collapsed": false
   },
   "outputs": [
    {
     "name": "stdout",
     "output_type": "stream",
     "text": [
      "58827\n",
      "[u'be86c466-c943-4f35-86f0-e7dbe678def0'\n",
      " u'894819a2-ca4a-47d9-9e5c-6bd2ce54277e'\n",
      " u'e7f78970-b677-4655-a98d-00c5dcb4f6b0' ...,\n",
      " u'd40dd732-410e-41d5-b00c-2754baf6f888'\n",
      " u'0cb44f77-32e3-42a8-a0bc-3050d3914af3'\n",
      " u'f1413822-6e57-4804-b43e-b34c3915c955']\n"
     ]
    }
   ],
   "source": [
    "unique_ssid = dfs['ssid'].unique() # Session ID\n",
    "print len(unique_ssid)\n",
    "print unique_ssid"
   ]
  },
  {
   "cell_type": "code",
   "execution_count": 40,
   "metadata": {
    "collapsed": false
   },
   "outputs": [
    {
     "name": "stdout",
     "output_type": "stream",
     "text": [
      "1\n",
      "[u'Unset']\n"
     ]
    }
   ],
   "source": [
    "unique_stype = dfs['stype'].unique() # Service Type(TV, Radio or ...)\n",
    "print len(unique_stype)\n",
    "print unique_stype"
   ]
  },
  {
   "cell_type": "markdown",
   "metadata": {},
   "source": [
    "##### => Drop stype"
   ]
  },
  {
   "cell_type": "code",
   "execution_count": 41,
   "metadata": {
    "collapsed": false
   },
   "outputs": [
    {
     "name": "stdout",
     "output_type": "stream",
     "text": [
      "8351\n",
      "[ u'http://kooli-cdn.wecandeo.com/kooli.wecandeo.com/sbs/20170331/6437020/6437020.mpd'\n",
      " u'http://kooli-cdn.wecandeo.com/kooli.wecandeo.com/mbc/20170330/6435628/6435628.mpd'\n",
      " u'http://kooli-cdn.wecandeo.com/kooli.wecandeo.com/kbs1/20170101/6345142/6345142.mpd'\n",
      " ...,\n",
      " u'http://kooli-cdn.wecandeo.com/kooli.wecandeo.com/sbs/20160718/6199250/6199250.mpd'\n",
      " u'http://kooli-cdn.wecandeo.com/kooli.wecandeo.com/sbs/20160703/6187275/6187275.mpd'\n",
      " u'http://kooli-cdn.wecandeo.com/kooli.wecandeo.com/mbc/20151221/5982763/5982763.mpd']\n"
     ]
    }
   ],
   "source": [
    "unique_svr = dfs['svr'].unique() # Server name or Server URL\n",
    "print len(unique_svr)\n",
    "print unique_svr"
   ]
  },
  {
   "cell_type": "code",
   "execution_count": 42,
   "metadata": {
    "collapsed": false
   },
   "outputs": [
    {
     "name": "stdout",
     "output_type": "stream",
     "text": [
      "4359\n",
      "[u'57d80ee3-4563-40c1-a64d-15a66c60edba'\n",
      " u'dc742456-10a3-48a5-9d4d-d8e8b220b069'\n",
      " u'95af6832-5e9d-4b07-91c3-7ef5a863e014' ...,\n",
      " u'dbf16e99-9605-4d1f-8632-ed801bde0071'\n",
      " u'3be6678b-c8a2-4cf0-a06b-626676604511'\n",
      " u'08aa70bf-6ca4-4482-b0ea-38a1be2ac5c1']\n"
     ]
    }
   ],
   "source": [
    "unique_szrid = dfs['szrid'].unique() # Streamlyzer Unique ID\n",
    "print len(unique_szrid)\n",
    "print unique_szrid"
   ]
  },
  {
   "cell_type": "code",
   "execution_count": 43,
   "metadata": {
    "collapsed": false
   },
   "outputs": [
    {
     "name": "stdout",
     "output_type": "stream",
     "text": [
      "8\n",
      "[u'vh' u'lBuf' u'mplyevent' u'iBuf' u'upImg' u'errmsg' u'plyRdy' u'Buf']\n"
     ]
    }
   ],
   "source": [
    "unique_type = dfs['type'].unique() # log type\n",
    "print len(unique_type)\n",
    "print unique_type"
   ]
  },
  {
   "cell_type": "code",
   "execution_count": 44,
   "metadata": {
    "collapsed": false
   },
   "outputs": [
    {
     "name": "stdout",
     "output_type": "stream",
     "text": [
      "4197\n",
      "[u'WUCH155103440' u'14110963601665' u'WUCH155102826' ..., u'14110963600867'\n",
      " u'14110963601000' u'14110963601007']\n"
     ]
    }
   ],
   "source": [
    "unique_uid = dfs['uid'].unique() # User id\n",
    "print len(unique_uid)\n",
    "print unique_uid"
   ]
  },
  {
   "cell_type": "code",
   "execution_count": 45,
   "metadata": {
    "collapsed": false
   },
   "outputs": [
    {
     "name": "stdout",
     "output_type": "stream",
     "text": [
      "1\n",
      "[u'user']\n"
     ]
    }
   ],
   "source": [
    "unique_utype = dfs['utype'].unique() # User type\n",
    "print len(unique_utype)\n",
    "print unique_utype"
   ]
  },
  {
   "cell_type": "markdown",
   "metadata": {},
   "source": [
    "##### => Drop utype"
   ]
  },
  {
   "cell_type": "code",
   "execution_count": 46,
   "metadata": {
    "collapsed": false
   },
   "outputs": [
    {
     "name": "stdout",
     "output_type": "stream",
     "text": [
      "1\n",
      "[u'0.9.1']\n"
     ]
    }
   ],
   "source": [
    "unique_v = dfs['v'].unique() # Client API version\n",
    "print len(unique_v)\n",
    "print unique_v"
   ]
  },
  {
   "cell_type": "markdown",
   "metadata": {},
   "source": [
    "##### => Drop v"
   ]
  },
  {
   "cell_type": "code",
   "execution_count": 47,
   "metadata": {
    "collapsed": false
   },
   "outputs": [
    {
     "name": "stdout",
     "output_type": "stream",
     "text": [
      "2\n",
      "[u'Unset' nan]\n"
     ]
    }
   ],
   "source": [
    "unique_yob = dfs['yob'].unique() # Year of birth\n",
    "print len(unique_yob)\n",
    "print unique_yob"
   ]
  },
  {
   "cell_type": "markdown",
   "metadata": {},
   "source": [
    "### Now, drop them"
   ]
  },
  {
   "cell_type": "code",
   "execution_count": 48,
   "metadata": {
    "collapsed": false
   },
   "outputs": [],
   "source": [
    "def dropping_col(dfs, col_name):\n",
    "    if col_name in dfs.columns:\n",
    "        dfs = dfs.drop(col_name, axis = 1)\n",
    "    return dfs\n",
    "\n",
    "drop_col_lst = ['abtm','coiso','gen','mvcp','mvrt','mvsctg','stype','utype','v']\n",
    "for col in drop_col_lst:\n",
    "    dfs = dropping_col(dfs,col)"
   ]
  },
  {
   "cell_type": "code",
   "execution_count": 49,
   "metadata": {
    "collapsed": false
   },
   "outputs": [
    {
     "name": "stdout",
     "output_type": "stream",
     "text": [
      "<class 'pandas.core.frame.DataFrame'>\n",
      "Int64Index: 182000 entries, 0 to 181999\n",
      "Data columns (total 45 columns):\n",
      "br          167826 non-null object\n",
      "brn         140477 non-null object\n",
      "brv         140477 non-null object\n",
      "chn         182000 non-null object\n",
      "ckey        182000 non-null object\n",
      "co          182000 non-null object\n",
      "ct          182000 non-null object\n",
      "devm        140477 non-null object\n",
      "devv        140477 non-null object\n",
      "drt         56448 non-null object\n",
      "eps         182000 non-null object\n",
      "errmsg      2262 non-null object\n",
      "img         9289 non-null object\n",
      "isp         182000 non-null object\n",
      "lang        182000 non-null object\n",
      "live        182000 non-null object\n",
      "lrg         182000 non-null object\n",
      "mplyevnt    41523 non-null object\n",
      "mpv         182000 non-null object\n",
      "mvctg       182000 non-null object\n",
      "mvid        182000 non-null object\n",
      "osn         140477 non-null object\n",
      "osv         140477 non-null object\n",
      "pltn        182000 non-null object\n",
      "ppv         182000 non-null object\n",
      "res         167826 non-null object\n",
      "rg          182000 non-null object\n",
      "rgiso       182000 non-null object\n",
      "sid         182000 non-null object\n",
      "spos        167826 non-null object\n",
      "srn         182000 non-null object\n",
      "ssid        182000 non-null object\n",
      "svr         182000 non-null object\n",
      "szrid       182000 non-null object\n",
      "tBuf        182000 non-null int64\n",
      "tIBuf       182000 non-null int64\n",
      "tLBuf       182000 non-null int64\n",
      "tPld        182000 non-null int64\n",
      "tVH         182000 non-null int64\n",
      "tid         182000 non-null object\n",
      "ts2         182000 non-null datetime64[ns]\n",
      "type        182000 non-null object\n",
      "uid         182000 non-null object\n",
      "yob         173329 non-null object\n",
      "churn       182000 non-null bool\n",
      "dtypes: bool(1), datetime64[ns](1), int64(5), object(38)\n",
      "memory usage: 62.7+ MB\n"
     ]
    }
   ],
   "source": [
    "dfs.info()"
   ]
  },
  {
   "cell_type": "markdown",
   "metadata": {},
   "source": [
    "### Continuous variables"
   ]
  },
  {
   "cell_type": "code",
   "execution_count": 50,
   "metadata": {
    "collapsed": true
   },
   "outputs": [],
   "source": [
    "dfs['drt'] = dfs['drt'].fillna(0).astype(int)"
   ]
  },
  {
   "cell_type": "code",
   "execution_count": 51,
   "metadata": {
    "collapsed": true
   },
   "outputs": [],
   "source": [
    "### set index\n",
    "#dfs.set_index('ts2', inplace=True) "
   ]
  },
  {
   "cell_type": "code",
   "execution_count": 52,
   "metadata": {
    "collapsed": false
   },
   "outputs": [
    {
     "data": {
      "text/html": [
       "<div>\n",
       "<table border=\"1\" class=\"dataframe\">\n",
       "  <thead>\n",
       "    <tr style=\"text-align: right;\">\n",
       "      <th></th>\n",
       "      <th>br</th>\n",
       "      <th>brn</th>\n",
       "      <th>brv</th>\n",
       "      <th>chn</th>\n",
       "      <th>ckey</th>\n",
       "      <th>co</th>\n",
       "      <th>ct</th>\n",
       "      <th>devm</th>\n",
       "      <th>devv</th>\n",
       "      <th>drt</th>\n",
       "      <th>...</th>\n",
       "      <th>tIBuf</th>\n",
       "      <th>tLBuf</th>\n",
       "      <th>tPld</th>\n",
       "      <th>tVH</th>\n",
       "      <th>tid</th>\n",
       "      <th>ts2</th>\n",
       "      <th>type</th>\n",
       "      <th>uid</th>\n",
       "      <th>yob</th>\n",
       "      <th>churn</th>\n",
       "    </tr>\n",
       "  </thead>\n",
       "  <tbody>\n",
       "    <tr>\n",
       "      <th>0</th>\n",
       "      <td>3614101</td>\n",
       "      <td>KOOLi_Player</td>\n",
       "      <td>1.0.10</td>\n",
       "      <td></td>\n",
       "      <td>17943e6c6eec49cdb6</td>\n",
       "      <td>Canada</td>\n",
       "      <td>Coquitlam</td>\n",
       "      <td>WooriKooli W</td>\n",
       "      <td>Hutek</td>\n",
       "      <td>2234000</td>\n",
       "      <td>...</td>\n",
       "      <td>6</td>\n",
       "      <td>5003</td>\n",
       "      <td>49377</td>\n",
       "      <td>59880</td>\n",
       "      <td>4e7475b2-0b88-461f-9387-0a9b77251df8</td>\n",
       "      <td>2017-03-31 23:56:07.535</td>\n",
       "      <td>vh</td>\n",
       "      <td>WUCH155103440</td>\n",
       "      <td>Unset</td>\n",
       "      <td>False</td>\n",
       "    </tr>\n",
       "    <tr>\n",
       "      <th>1</th>\n",
       "      <td>3328416</td>\n",
       "      <td>KOOLi_Player</td>\n",
       "      <td>2.0.6</td>\n",
       "      <td></td>\n",
       "      <td>17943e6c6eec49cdb6</td>\n",
       "      <td>United States</td>\n",
       "      <td>Los Angeles</td>\n",
       "      <td>h3</td>\n",
       "      <td>humaxdigital</td>\n",
       "      <td>5974000</td>\n",
       "      <td>...</td>\n",
       "      <td>6</td>\n",
       "      <td>5003</td>\n",
       "      <td>72154</td>\n",
       "      <td>36047</td>\n",
       "      <td>7e588404-453f-4a45-a8aa-05b6b0ae5be4</td>\n",
       "      <td>2017-03-31 23:57:12.602</td>\n",
       "      <td>lBuf</td>\n",
       "      <td>14110963601665</td>\n",
       "      <td>Unset</td>\n",
       "      <td>False</td>\n",
       "    </tr>\n",
       "    <tr>\n",
       "      <th>2</th>\n",
       "      <td>3587620</td>\n",
       "      <td>KOOLi_Player</td>\n",
       "      <td>1.0.10</td>\n",
       "      <td></td>\n",
       "      <td>17943e6c6eec49cdb6</td>\n",
       "      <td>United States</td>\n",
       "      <td>Laguna Woods</td>\n",
       "      <td>WooriKooli W</td>\n",
       "      <td>Hutek</td>\n",
       "      <td>3490000</td>\n",
       "      <td>...</td>\n",
       "      <td>6</td>\n",
       "      <td>5003</td>\n",
       "      <td>69839</td>\n",
       "      <td>12022</td>\n",
       "      <td>f19a8414-64cd-418a-985e-61ae073d8915</td>\n",
       "      <td>2017-03-31 23:56:57.448</td>\n",
       "      <td>lBuf</td>\n",
       "      <td>WUCH155102826</td>\n",
       "      <td>Unset</td>\n",
       "      <td>True</td>\n",
       "    </tr>\n",
       "    <tr>\n",
       "      <th>3</th>\n",
       "      <td>1373174</td>\n",
       "      <td>KOOLi_Player</td>\n",
       "      <td>1.0.10</td>\n",
       "      <td></td>\n",
       "      <td>17943e6c6eec49cdb6</td>\n",
       "      <td>United States</td>\n",
       "      <td>West Springfield</td>\n",
       "      <td>WooriKooli W</td>\n",
       "      <td>Hutek</td>\n",
       "      <td>3878000</td>\n",
       "      <td>...</td>\n",
       "      <td>6</td>\n",
       "      <td>5003</td>\n",
       "      <td>73567</td>\n",
       "      <td>39988</td>\n",
       "      <td>7efccc8b-436d-40bf-8bd5-fe45d08039ca</td>\n",
       "      <td>2017-03-31 23:55:47.792</td>\n",
       "      <td>mplyevent</td>\n",
       "      <td>WUCH161600388</td>\n",
       "      <td>Unset</td>\n",
       "      <td>False</td>\n",
       "    </tr>\n",
       "    <tr>\n",
       "      <th>4</th>\n",
       "      <td>1322244</td>\n",
       "      <td>KOOLi_Player</td>\n",
       "      <td>1.0.10</td>\n",
       "      <td></td>\n",
       "      <td>17943e6c6eec49cdb6</td>\n",
       "      <td>United States</td>\n",
       "      <td>Medfield</td>\n",
       "      <td>WooriKooli W</td>\n",
       "      <td>Hutek</td>\n",
       "      <td>3738000</td>\n",
       "      <td>...</td>\n",
       "      <td>7</td>\n",
       "      <td>5004</td>\n",
       "      <td>70656</td>\n",
       "      <td>16127</td>\n",
       "      <td>14bd5375-4a03-460c-b0aa-d73fe16628b7</td>\n",
       "      <td>2017-03-31 23:54:27.751</td>\n",
       "      <td>vh</td>\n",
       "      <td>WUCH155101681</td>\n",
       "      <td>Unset</td>\n",
       "      <td>False</td>\n",
       "    </tr>\n",
       "  </tbody>\n",
       "</table>\n",
       "<p>5 rows × 45 columns</p>\n",
       "</div>"
      ],
      "text/plain": [
       "        br           brn     brv chn                ckey             co  \\\n",
       "0  3614101  KOOLi_Player  1.0.10      17943e6c6eec49cdb6         Canada   \n",
       "1  3328416  KOOLi_Player   2.0.6      17943e6c6eec49cdb6  United States   \n",
       "2  3587620  KOOLi_Player  1.0.10      17943e6c6eec49cdb6  United States   \n",
       "3  1373174  KOOLi_Player  1.0.10      17943e6c6eec49cdb6  United States   \n",
       "4  1322244  KOOLi_Player  1.0.10      17943e6c6eec49cdb6  United States   \n",
       "\n",
       "                 ct          devm          devv      drt  ...   tIBuf tLBuf  \\\n",
       "0         Coquitlam  WooriKooli W         Hutek  2234000  ...       6  5003   \n",
       "1       Los Angeles            h3  humaxdigital  5974000  ...       6  5003   \n",
       "2      Laguna Woods  WooriKooli W         Hutek  3490000  ...       6  5003   \n",
       "3  West Springfield  WooriKooli W         Hutek  3878000  ...       6  5003   \n",
       "4          Medfield  WooriKooli W         Hutek  3738000  ...       7  5004   \n",
       "\n",
       "    tPld    tVH                                   tid                     ts2  \\\n",
       "0  49377  59880  4e7475b2-0b88-461f-9387-0a9b77251df8 2017-03-31 23:56:07.535   \n",
       "1  72154  36047  7e588404-453f-4a45-a8aa-05b6b0ae5be4 2017-03-31 23:57:12.602   \n",
       "2  69839  12022  f19a8414-64cd-418a-985e-61ae073d8915 2017-03-31 23:56:57.448   \n",
       "3  73567  39988  7efccc8b-436d-40bf-8bd5-fe45d08039ca 2017-03-31 23:55:47.792   \n",
       "4  70656  16127  14bd5375-4a03-460c-b0aa-d73fe16628b7 2017-03-31 23:54:27.751   \n",
       "\n",
       "        type             uid    yob  churn  \n",
       "0         vh   WUCH155103440  Unset  False  \n",
       "1       lBuf  14110963601665  Unset  False  \n",
       "2       lBuf   WUCH155102826  Unset   True  \n",
       "3  mplyevent   WUCH161600388  Unset  False  \n",
       "4         vh   WUCH155101681  Unset  False  \n",
       "\n",
       "[5 rows x 45 columns]"
      ]
     },
     "execution_count": 52,
     "metadata": {},
     "output_type": "execute_result"
    }
   ],
   "source": [
    "dfs.head()"
   ]
  },
  {
   "cell_type": "code",
   "execution_count": 53,
   "metadata": {
    "collapsed": true
   },
   "outputs": [],
   "source": [
    "continuous_var = ['drt','tBuf','tIBuf','tLBuf','tPld','tVH']"
   ]
  },
  {
   "cell_type": "code",
   "execution_count": 54,
   "metadata": {
    "collapsed": true
   },
   "outputs": [],
   "source": [
    "def get_hist_and_count(var_name):\n",
    "    var_name = dfs[var_name].fillna(0).astype(int)\n",
    "    print 'number of 0s: ',len(var_name[var_name==0])\n",
    "    print 'number of non 0s: ',len(var_name[var_name!=0])\n",
    "    var_name.hist(bins=100)"
   ]
  },
  {
   "cell_type": "code",
   "execution_count": 55,
   "metadata": {
    "collapsed": false
   },
   "outputs": [
    {
     "name": "stdout",
     "output_type": "stream",
     "text": [
      "number of 0s:  133855\n",
      "number of non 0s:  48145\n"
     ]
    },
    {
     "data": {
      "image/png": "[encoded data removed]",
      "text/plain": [
       "<matplotlib.figure.Figure at 0x7fdd78f4d910>"
      ]
     },
     "metadata": {},
     "output_type": "display_data"
    }
   ],
   "source": [
    "# duration of content in ms unit.\n",
    "get_hist_and_count('drt')"
   ]
  },
  {
   "cell_type": "code",
   "execution_count": 56,
   "metadata": {
    "collapsed": false
   },
   "outputs": [],
   "source": [
    "#get_hist_wo_NaNs('drt')"
   ]
  },
  {
   "cell_type": "code",
   "execution_count": 57,
   "metadata": {
    "collapsed": false
   },
   "outputs": [
    {
     "name": "stdout",
     "output_type": "stream",
     "text": [
      "number of 0s:  173316\n",
      "number of non 0s:  8684\n"
     ]
    },
    {
     "data": {
      "image/png": "[encoded data removed]",
      "text/plain": [
       "<matplotlib.figure.Figure at 0x7fddc89d6110>"
      ]
     },
     "metadata": {},
     "output_type": "display_data"
    }
   ],
   "source": [
    "# Re-Buffering Time\n",
    "get_hist_and_count('tBuf')"
   ]
  },
  {
   "cell_type": "code",
   "execution_count": 58,
   "metadata": {
    "collapsed": false
   },
   "outputs": [
    {
     "name": "stdout",
     "output_type": "stream",
     "text": [
      "number of 0s:  179421\n",
      "number of non 0s:  2579\n"
     ]
    },
    {
     "data": {
      "image/png": "[encoded data removed]",
      "text/plain": [
       "<matplotlib.figure.Figure at 0x7fddcf677210>"
      ]
     },
     "metadata": {},
     "output_type": "display_data"
    }
   ],
   "source": [
    "# Initial Buffering Time\n",
    "get_hist_and_count('tIBuf')"
   ]
  },
  {
   "cell_type": "code",
   "execution_count": 59,
   "metadata": {
    "collapsed": false
   },
   "outputs": [],
   "source": [
    "#get_hist_wo_NaNs('tIBuf')"
   ]
  },
  {
   "cell_type": "code",
   "execution_count": 60,
   "metadata": {
    "collapsed": false
   },
   "outputs": [
    {
     "name": "stdout",
     "output_type": "stream",
     "text": [
      "number of 0s:  179076\n",
      "number of non 0s:  2924\n"
     ]
    },
    {
     "data": {
      "image/png": "[encoded data removed]",
      "text/plain": [
       "<matplotlib.figure.Figure at 0x7fddd9632350>"
      ]
     },
     "metadata": {},
     "output_type": "display_data"
    }
   ],
   "source": [
    "# Player Loading Time\n",
    "get_hist_and_count('tPld')"
   ]
  },
  {
   "cell_type": "code",
   "execution_count": 61,
   "metadata": {
    "collapsed": false
   },
   "outputs": [
    {
     "name": "stdout",
     "output_type": "stream",
     "text": [
      "number of 0s:  125552\n",
      "number of non 0s:  56448\n"
     ]
    },
    {
     "data": {
      "image/png": "[encoded data removed]",
      "text/plain": [
       "<matplotlib.figure.Figure at 0x7fddd9327a10>"
      ]
     },
     "metadata": {},
     "output_type": "display_data"
    }
   ],
   "source": [
    "# Viewing Time\n",
    "get_hist_and_count('tVH')"
   ]
  },
  {
   "cell_type": "code",
   "execution_count": 62,
   "metadata": {
    "collapsed": false
   },
   "outputs": [
    {
     "name": "stdout",
     "output_type": "stream",
     "text": [
      "number of 0s:  120829\n",
      "number of non 0s:  61171\n"
     ]
    },
    {
     "data": {
      "image/png": "[encoded data removed]",
      "text/plain": [
       "<matplotlib.figure.Figure at 0x7fddd9223790>"
      ]
     },
     "metadata": {},
     "output_type": "display_data"
    }
   ],
   "source": [
    "# Long Buffering Time\n",
    "get_hist_and_count('tLBuf')"
   ]
  },
  {
   "cell_type": "markdown",
   "metadata": {},
   "source": [
    "### TODO list.\n",
    "    (Individual feature)\n",
    "    1. Histogram with only \"nonzeros\" for continous variables\n",
    "    \n",
    "    (relationship between features)\n",
    "    2. Scatter plot (all variables)\n",
    "    3. Correlation between continours variables\n",
    "    4. visualize each log type data \n",
    "    \n",
    "    (CV for model training)\n",
    "    5. Split train / test set"
   ]
  }
 ],
 "metadata": {
  "kernelspec": {
   "display_name": "Python 2",
   "language": "python",
   "name": "python2"
  },
  "language_info": {
   "codemirror_mode": {
    "name": "ipython",
    "version": 2
   },
   "file_extension": ".py",
   "mimetype": "text/x-python",
   "name": "python",
   "nbconvert_exporter": "python",
   "pygments_lexer": "ipython2",
   "version": "2.7.13"
  }
 },
 "nbformat": 4,
 "nbformat_minor": 0
}
